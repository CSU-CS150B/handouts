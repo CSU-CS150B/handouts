{
 "cells": [
  {
   "cell_type": "markdown",
   "metadata": {},
   "source": [
    "# Net Neutrality and Functions Part 3\n",
    "\n",
    "In this lecture, we will cover\n",
    "* Net Neutrality - and other \"laws\" governing the internet\n",
    "* More options for function parameters \n",
    "  * Default parameters\n",
    "  * named parameters\n",
    "  * functions as parameters"
   ]
  },
  {
   "cell_type": "markdown",
   "metadata": {},
   "source": [
    "### Your future in CS \n",
    "I used to include this on my slides, but since these slides have changed - going to just leave it up here for every notebook. I get a lot of questions about more programming courses, the concentrations, and minors in computer science. Here is a brief reminder.\n",
    "\n",
    "CS 164 – Next Course In Sequence, also consider CS 220 (math and stats especially) \n",
    "* CO Jobs Report 2021 – 77% of *all* new jobs in Colorado require programming\n",
    "* 60% of all STEM jobs requires *advanced* (200-300 level) \n",
    "* 31% of all Bachelor of Arts degree titled jobs also required coding skills \n",
    "* 2016 Report found on average jobs that require coding skills paid $22,000 more\n",
    "\n",
    "* Concentrations in CS:\n",
    "  * Computer science has a number of concentrations. \n",
    "    * [General concentration](https://catalog.colostate.edu/general-catalog/colleges/natural-sciences/computer-science/computer-science-major/computer-science-concentration/#requirementstext) is the most flexible, and even allows students to double major or minor pretty easily. \n",
    "    * [Software Engineering](https://catalog.colostate.edu/general-catalog/colleges/natural-sciences/computer-science/computer-science-major-software-engineering-concentration/)\n",
    "    * [Computing Systems](https://catalog.colostate.edu/general-catalog/colleges/natural-sciences/computer-science/computer-science-major-computing-systems-concentration/)\n",
    "    * [Human Centered Computing](https://catalog.colostate.edu/general-catalog/colleges/natural-sciences/computer-science/computer-science-major/human-centered-computing-concentration/)\n",
    "    * [Networks and Security](https://catalog.colostate.edu/general-catalog/colleges/natural-sciences/computer-science/computer-science-major-networks-security-concentration/)\n",
    "    * [Artificial Intelligence](https://catalog.colostate.edu/general-catalog/colleges/natural-sciences/computer-science/computer-science-major-artificial-intelligence-machine-learning-concentration/)\n",
    "    * Computer Science Education. \n",
    "  * Minors: \n",
    "    * [Minor in Computer Science](https://catalog.colostate.edu/general-catalog/colleges/natural-sciences/computer-science/computer-science-minor/) - choose your own adventure minor\n",
    "    * [Minor in Machine Learning](https://catalog.colostate.edu/general-catalog/colleges/natural-sciences/computer-science/machine-learning-minor/) - popular with stats/math, and engineering\n",
    "    * [Minor in Bioinformatics](https://catalog.colostate.edu/general-catalog/colleges/natural-sciences/computer-science/bioinformatics-minor/) - Biology + Computer Science\n"
   ]
  },
  {
   "cell_type": "markdown",
   "metadata": {},
   "source": [
    "![Network Diagram](img/networkDiagram.png)\n",
    "\n",
    "* Computer *Mesh* networks\n",
    "  * Essential for how the internet works\n",
    "  * Computer A connects to computer Q\n",
    "    * Information is broken up into packets\n",
    "    * Follows multiple routes\n",
    "    * Reassembled at the destination\n",
    "* Thinking about 'packets' more in depth:\n",
    "  * Header:\n",
    "    * length of packet\n",
    "    * synchronization (bits that help match up the various packets)\n",
    "    * packet number\n",
    "    * protocol \n",
    "      * email, webpage, streaming video, etc\n",
    "    * destination address\n",
    "    * originating address\n",
    "  * Payload\n",
    "    * Body / data itself\n",
    "  * Footer / Trailer\n",
    "    * Error checking data\n",
    "* Differentiated Services\n",
    "  * Since we know:\n",
    "    * protocol\n",
    "    * destination address\n",
    "    * originating address\n",
    "  * We can pick and choose which packets have priority\n",
    "    * Does voice demand higher priority than video games?\n",
    "      * Ok, what about emergency services?\n",
    "\n",
    "\n",
    "## Differentiated Services - Net Neutrality Debate\n",
    "\n",
    "* Net Neutrality \"simplest form\" \n",
    "  * All packets should be allowed to reach their destination\n",
    "    * Without speed delays based on origin, destination, or protocol \n",
    "* FCC (Federal Communications Commission) \n",
    "  * Regulates the flow of network information\n",
    "  * Based on an issue with telephones\n",
    "    * Company paid to have all calls for their competitor routed to their number\n",
    "* Problems\n",
    "  * Telephone lines are centralized services\n",
    "    * The 'imporant' part of phone lines exist at the phone company. \n",
    "  * Networks are decentralized services\n",
    "    * Routing and 'intelligent' systems happen at / near the clients!\n",
    "    * There isn't a single routing point for anything!\n",
    "* Type of traffic between sources \n",
    "  * Voice > video > games, etc\n",
    "    * Many major companies such as Google and Verizon agree this is valid\n",
    "    * Government supports this idea\n",
    "    * But what if we then make it a pay based model?\n",
    "      * One company pays to have their data go faster than another?\n",
    "      * This ensures important information gains priority?\n",
    "      * Right?\n",
    "    * Even more extreme, what if companies compete to control data?\n",
    "      * TELUS - 2005 - blocked sites supporting labor strike against company (along with 766 unrelated sites)\n",
    "      * AT&T, SPRINT and VERIZON: From 2011–2013 - blocked google wallet\n",
    "      * EUROPE: A 2012 report - 1 in 5 clients affected by slowdowns due to blocked packets and sites\n",
    "\n",
    "### Discussion\n",
    "\n",
    "* Build a list of Pros and Cons for **AND** against net neutrality\n",
    "  * You are free to pull up arguments from online  \n",
    "  * Actually, you are encouraged to find the 'standard arguments'\n",
    "* Tables will be randomly called upon to present one\n",
    "\n",
    "\n",
    "The next part, let's use our understanding of the technology to see these pro/cons we often see. "
   ]
  },
  {
   "cell_type": "markdown",
   "metadata": {},
   "source": [
    "### Other Internet Laws?\n",
    "\n",
    "* Taxes - and trading across state lines\n",
    "* What about international sales?\n",
    "* Where are the companies based?\n",
    "* Whose laws do you follow on what can be sold\n",
    "  * Think about fireworks or editables \n",
    "* Where do you stand on technology and the laws around it?\n",
    "* The internet will always have disruptive tech \n",
    "  * Is keeping up a losing battle?\n",
    "  * Also, this is one thing that makes computer science so interesting - we are constantly changing the world in unexpected ways!\n",
    "\n",
    "\n",
    "#### Call to Action\n",
    "\n",
    "* There is a desperate need for lawyers and policy makers that truly understand technology\n",
    "  * We have students earning Majors + the legal minor for this reason\n",
    "  * We also have philosophy Majors + CS minors who are planning to apply to law school\n",
    "    * Patent law, but also policy makers are political science + CS\n",
    "* CS-164 is the next CS course  \n",
    "* If you are still in this class, you will do fine in CS 164\n",
    "\n"
   ]
  },
  {
   "cell_type": "markdown",
   "metadata": {},
   "source": [
    "## Python Functions Part 3\n",
    "\n",
    "* Reminder\n",
    "  * A function is a block of code with a set purpose\n",
    "  * That can be repeatedly called\n",
    "\n",
    "\n",
    "### In Class Activity\n",
    "Write a function that takes in the following parameters:\n",
    "\n",
    "* start\n",
    "* end\n",
    "* step\n",
    "\n",
    "And builds a list based on that range, inclusive of start, exclusive of end with a step of step. For example:\n",
    "\n",
    "```python\n",
    "number_generator(0, 10, 1)  # returns  [0, 1, 2, 3, 4, 5, 6, 7, 8, 9]\n",
    "number_generator(0, 10, 2)  # returns [0, 2, 4, 6, 8]\n",
    "```"
   ]
  },
  {
   "cell_type": "code",
   "execution_count": 2,
   "metadata": {},
   "outputs": [
    {
     "name": "stdout",
     "output_type": "stream",
     "text": [
      "[0, 1, 2, 3, 4, 5, 6, 7, 8, 9]\n",
      "[0, 2, 4, 6, 8]\n"
     ]
    }
   ],
   "source": [
    "def number_generator(start, end, step):\n",
    "    lst = []\n",
    "    while start < end:\n",
    "        lst.append(start)\n",
    "        start += step    \n",
    "    return lst\n",
    "\n",
    "\n",
    "print(number_generator(0, 10, 1))  # returns  [0, 1, 2, 3, 4, 5, 6, 7, 8, 9]\n",
    "print(number_generator(0, 10, 2))  # returns  [0, 2, 4, 6, 8]\n"
   ]
  },
  {
   "cell_type": "markdown",
   "metadata": {},
   "source": [
    "However, what if we wanted certain parameters to 'default' to other values?"
   ]
  },
  {
   "cell_type": "code",
   "execution_count": 4,
   "metadata": {},
   "outputs": [],
   "source": [
    "def number_generator(start, end = 10 , step=1):\n",
    "    lst = []\n",
    "    while start < end:\n",
    "        lst.append(start)\n",
    "        start += step\n",
    "    return lst\n"
   ]
  },
  {
   "cell_type": "markdown",
   "metadata": {},
   "source": [
    "End and Step now become optional - putting in the default values"
   ]
  },
  {
   "cell_type": "code",
   "execution_count": 6,
   "metadata": {},
   "outputs": [
    {
     "name": "stdout",
     "output_type": "stream",
     "text": [
      "[0, 1, 2, 3, 4, 5, 6, 7, 8, 9]\n",
      "[0, 1, 2, 3, 4]\n"
     ]
    }
   ],
   "source": [
    "print(number_generator(0))\n",
    "print(number_generator(0, 5))"
   ]
  },
  {
   "cell_type": "markdown",
   "metadata": {},
   "source": [
    "We can also call specific parameters "
   ]
  },
  {
   "cell_type": "code",
   "execution_count": 7,
   "metadata": {},
   "outputs": [
    {
     "name": "stdout",
     "output_type": "stream",
     "text": [
      "[0, 2, 4, 6, 8]\n",
      "[5, 6]\n"
     ]
    }
   ],
   "source": [
    "print(number_generator(0, step=2))\n",
    "print(number_generator(start=5, end=7, step = 1))"
   ]
  },
  {
   "cell_type": "markdown",
   "metadata": {},
   "source": [
    "Overall, just more features we can use with function parameter to make our easier! Especially helpful with default values. \n",
    "\n",
    "We can also allow a variable number of arguments called an 'args list'. print does this! \n",
    "\n",
    "Note: it has to be the last argument in any parameter!"
   ]
  },
  {
   "cell_type": "code",
   "execution_count": 11,
   "metadata": {},
   "outputs": [
    {
     "name": "stdout",
     "output_type": "stream",
     "text": [
      "Hello Hook, Hello John, Hello Peter, Hello Wendy, \n",
      "Hello John, Hello Wendy, \n"
     ]
    }
   ],
   "source": [
    "def print_hello(*args):\n",
    "    for arg in sorted(args):\n",
    "        print(f\"Hello {arg}, \", end=\"\")\n",
    "    print()\n",
    "\n",
    "print_hello(\"Wendy\", \"Hook\", \"John\", \"Peter\")\n",
    "print_hello(\"Wendy\", \"John\")"
   ]
  },
  {
   "cell_type": "markdown",
   "metadata": {},
   "source": [
    "### Functions as Parameters \n",
    "\n",
    "* A major component of functional languages is that functions are 'first order' objects.\n",
    "  * They can be used as any other value\n",
    "  * Including setting functions to variables / parameters"
   ]
  },
  {
   "cell_type": "code",
   "execution_count": 13,
   "metadata": {},
   "outputs": [
    {
     "name": "stdout",
     "output_type": "stream",
     "text": [
      "10\n"
     ]
    }
   ],
   "source": [
    "## recall\n",
    "values = [10, 3, 4, 8, 9, 10]\n",
    "max_val = max(values)\n",
    "print(max_val)\n",
    "\n",
    "min_val = min(values)"
   ]
  },
  {
   "cell_type": "markdown",
   "metadata": {},
   "source": [
    "What if we wanted to build a function that prints out the 'winner' of the values"
   ]
  },
  {
   "cell_type": "code",
   "execution_count": 15,
   "metadata": {},
   "outputs": [
    {
     "name": "stdout",
     "output_type": "stream",
     "text": [
      "The winner is  10\n",
      "The winner is  3\n"
     ]
    }
   ],
   "source": [
    "def print_winner(values, win_condition):\n",
    "    print(\"The winner is\", win_condition(values))\n",
    "\n",
    "\n",
    "print_winner(values, max)\n",
    "print_winner(values, min)"
   ]
  },
  {
   "cell_type": "markdown",
   "metadata": {},
   "source": [
    "We can also use default values, which is common!"
   ]
  },
  {
   "cell_type": "code",
   "execution_count": 17,
   "metadata": {},
   "outputs": [
    {
     "name": "stdout",
     "output_type": "stream",
     "text": [
      "The winner is 10\n",
      "The winner is 3\n",
      "The winner is 44\n"
     ]
    }
   ],
   "source": [
    "def print_winner(values, win_condition=max):\n",
    "    print(\"The winner is\", win_condition(values))\n",
    "\n",
    "print_winner(values)\n",
    "print_winner(values, min)\n",
    "print_winner(values, sum) # just to show something else\n"
   ]
  },
  {
   "cell_type": "markdown",
   "metadata": {},
   "source": [
    "### Overall\n",
    "\n",
    "* Functions have a lot of power in python\n",
    "* While you don't need default parameters, they often make a lot of sense - so use them!\n",
    "* Also, passing functions in parameters helps make some code 'more elegant' / versatile (often used in machine learning)"
   ]
  }
 ],
 "metadata": {
  "interpreter": {
   "hash": "507d0580e2b527a70f64f40fb9b6583b2a77378ccde06f27533dbdd39bb8d03d"
  },
  "kernelspec": {
   "display_name": "Python 3.10.4 64-bit (windows store)",
   "language": "python",
   "name": "python3"
  },
  "language_info": {
   "codemirror_mode": {
    "name": "ipython",
    "version": 3
   },
   "file_extension": ".py",
   "mimetype": "text/x-python",
   "name": "python",
   "nbconvert_exporter": "python",
   "pygments_lexer": "ipython3",
   "version": "3.10.4"
  },
  "orig_nbformat": 4
 },
 "nbformat": 4,
 "nbformat_minor": 2
}
