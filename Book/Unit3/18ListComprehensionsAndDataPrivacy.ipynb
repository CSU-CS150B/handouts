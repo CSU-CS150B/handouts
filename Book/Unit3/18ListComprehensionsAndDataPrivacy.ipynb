{
 "cells": [
  {
   "cell_type": "markdown",
   "metadata": {},
   "source": [
    "# List Comprehensions and Data Privacy\n",
    "\n",
    "* Topics covered in this lecture are:\n",
    "  * Loop - continue, break, and else\n",
    "  * List Comprehensions \n",
    "  * Data Privacy and security concerns"
   ]
  },
  {
   "cell_type": "markdown",
   "metadata": {},
   "source": [
    "### Your future in CS \n",
    "I used to include this on my slides, but since these slides have changed - going to just leave it up here for every notebook. I get a lot of questions about more programming courses, the concentrations, and minors in computer science. Here is a brief reminder.\n",
    "\n",
    "CS 164 – Next Course In Sequence, also consider CS 220 (math and stats especially) \n",
    "* CO Jobs Report 2021 – 77% of *all* new jobs in Colorado require programming\n",
    "* 60% of all STEM jobs requires *advanced* (200-300 level) \n",
    "* 31% of all Bachelor of Arts degree titled jobs also required coding skills \n",
    "* 2016 Report found on average jobs that require coding skills paid $22,000 more\n",
    "\n",
    "* Concentrations in CS:\n",
    "  * Computer science has a number of concentrations. \n",
    "    * [General concentration](https://catalog.colostate.edu/general-catalog/colleges/natural-sciences/computer-science/computer-science-major/computer-science-concentration/#requirementstext) is the most flexible, and even allows students to double major or minor pretty easily. \n",
    "    * [Software Engineering](https://catalog.colostate.edu/general-catalog/colleges/natural-sciences/computer-science/computer-science-major-software-engineering-concentration/)\n",
    "    * [Computing Systems](https://catalog.colostate.edu/general-catalog/colleges/natural-sciences/computer-science/computer-science-major-computing-systems-concentration/)\n",
    "    * [Human Centered Computing](https://catalog.colostate.edu/general-catalog/colleges/natural-sciences/computer-science/computer-science-major/human-centered-computing-concentration/)\n",
    "    * [Networks and Security](https://catalog.colostate.edu/general-catalog/colleges/natural-sciences/computer-science/computer-science-major-networks-security-concentration/)\n",
    "    * [Artificial Intelligence](https://catalog.colostate.edu/general-catalog/colleges/natural-sciences/computer-science/computer-science-major-artificial-intelligence-machine-learning-concentration/)\n",
    "    * Computer Science Education. \n",
    "  * Minors: \n",
    "    * [Minor in Computer Science](https://catalog.colostate.edu/general-catalog/colleges/natural-sciences/computer-science/computer-science-minor/) - choose your own adventure minor\n",
    "    * [Minor in Machine Learning](https://catalog.colostate.edu/general-catalog/colleges/natural-sciences/computer-science/machine-learning-minor/) - popular with stats/math, and engineering\n",
    "    * [Minor in Bioinformatics](https://catalog.colostate.edu/general-catalog/colleges/natural-sciences/computer-science/bioinformatics-minor/) - Biology + Computer Science\n"
   ]
  },
  {
   "cell_type": "markdown",
   "metadata": {},
   "source": [
    "## Loops and more Lists\n",
    "\n",
    "Let's practice more with loops and lists.\n",
    "\n",
    "### Warmup Activity\n",
    "\n",
    "* Go to the interactive slides\n",
    "* Write a method that takes in a list of numbers\n",
    "  * it returns a new list of only the *even* numbers in the list"
   ]
  },
  {
   "cell_type": "code",
   "execution_count": 1,
   "metadata": {},
   "outputs": [
    {
     "name": "stdout",
     "output_type": "stream",
     "text": [
      "[12, 22, 12, 42]\n"
     ]
    }
   ],
   "source": [
    "def evens_only(lst):\n",
    "    new_lst = []\n",
    "    ### student code here\n",
    "    return new_lst\n",
    "\n",
    "\n",
    "evans = evens_only([12, 22, 13, 12, 15, 42, 21, 19])\n",
    "print(evans)\n"
   ]
  },
  {
   "cell_type": "markdown",
   "metadata": {},
   "source": [
    "## List Comprehensions \n",
    "\n",
    "* A very \"python\" way or programming\n",
    "* Builds a list of items based on a condition\n",
    "* Let's try to build a list of random values"
   ]
  },
  {
   "cell_type": "code",
   "execution_count": 3,
   "metadata": {},
   "outputs": [
    {
     "name": "stdout",
     "output_type": "stream",
     "text": [
      "[4, 2, 6, 4, 2, 2, 3, 6, 1, 2]\n",
      "[5, 1, 3, 1, 4, 2, 3, 3, 3, 1]\n"
     ]
    }
   ],
   "source": [
    "import random\n",
    "\n",
    "old_way = []\n",
    "for i in range(0, 10):\n",
    "    old_way.append(random.randint(1,6))\n",
    "print(old_way)\n",
    "\n",
    "## in one line\n",
    "new_way = [random.randint(1,6)  for i in range(0, 10)]\n",
    "print(new_way)"
   ]
  },
  {
   "cell_type": "markdown",
   "metadata": {},
   "source": [
    "* **\\[** value to add **for** loop condition **\\]**\n",
    "* You can also include an condition to 'add' to the list you are building"
   ]
  },
  {
   "cell_type": "code",
   "execution_count": 5,
   "metadata": {},
   "outputs": [
    {
     "name": "stdout",
     "output_type": "stream",
     "text": [
      "[5, 1, 3, 1, 3, 3, 3, 1]\n",
      "[4, 2]\n"
     ]
    }
   ],
   "source": [
    "odds = [i for i in new_way if i % 2 == 1]  \n",
    "evans = [i for i in new_way if i % 2 == 0]\n",
    "\n",
    "print(odds)\n",
    "print(evans)\n"
   ]
  },
  {
   "cell_type": "markdown",
   "metadata": {},
   "source": [
    "Let's return to converting a String to an int"
   ]
  },
  {
   "cell_type": "code",
   "execution_count": 11,
   "metadata": {},
   "outputs": [
    {
     "name": "stdout",
     "output_type": "stream",
     "text": [
      "[50, 12]\n",
      "31.0\n"
     ]
    }
   ],
   "source": [
    "values = [['rain', '50', 'april'],\n",
    "          ['snow', '12', 'dec']]\n",
    "\n",
    "temperatures = [int(i[1]) for i in values]  ## so a line to pull out the temps, building a list of int numbers, so we can average them!\n",
    "\n",
    "print(temperatures)\n",
    "print(sum(temperatures)/len(temperatures))\n"
   ]
  },
  {
   "cell_type": "markdown",
   "metadata": {},
   "source": [
    "### In Class Practice Two\n",
    "\n",
    "* Take a list of items, \n",
    "  * Return only the items that have “a” in the word\n",
    "    * or better yet, use the variable \"letter\"\n",
    "  * Use a list comprehension!\n",
    "  * The *in* keyword will help with the if statement\n",
    "    * ```if \"a\" in val:``` \n",
    "\n",
    "\n",
    "\n",
    "```python\n",
    "[\"hello\", \"alice\", \"jade\", \"zypher\", \"ariel\"]\n",
    "#The new list would be\n",
    "[\"alice\", \"jade\", \"ariel\"]\n",
    "```"
   ]
  },
  {
   "cell_type": "code",
   "execution_count": 15,
   "metadata": {},
   "outputs": [
    {
     "name": "stdout",
     "output_type": "stream",
     "text": [
      "['alice', 'jade', 'ariel']\n",
      "['alice', 'ariel']\n",
      "['hello', 'alice', 'jade', 'zypher', 'ariel']\n"
     ]
    }
   ],
   "source": [
    "\n",
    "def contains_letter(lst, letter='a'):\n",
    "   pass # replace this line with your code!\n",
    "\n",
    "print(contains_letter([\"hello\", \"alice\", \"jade\", \"zypher\", \"ariel\"]))\n",
    "print(contains_letter([\"hello\", \"alice\", \"jade\", \"zypher\", \"ariel\"], 'i'))\n",
    "print(contains_letter([\"hello\", \"alice\", \"jade\", \"zypher\", \"ariel\"], 'e'))"
   ]
  },
  {
   "cell_type": "markdown",
   "metadata": {},
   "source": [
    "### Other Useful Commands for Loops\n",
    "\n",
    "* break \n",
    "  * ends the loop early\n",
    "* continue\n",
    "  * return to the top of the loop, incrementing it\n",
    "* else\n",
    "  * code to run if the loop is never ran"
   ]
  },
  {
   "cell_type": "code",
   "execution_count": 16,
   "metadata": {},
   "outputs": [
    {
     "name": "stdout",
     "output_type": "stream",
     "text": [
      "[23, 13, 17, 191]\n"
     ]
    }
   ],
   "source": [
    "# [23, 13, 17, 191]\n",
    "odds = []\n",
    "for val in [23, 12, 13, 16, 18, 2, 23, 0, 17, 20, 191]: \n",
    "    if val in odds: continue     \n",
    "    if val % 2 == 1: \n",
    "        odds.append(val)\n",
    "print(odds) #prints odds that only appear once\n"
   ]
  },
  {
   "cell_type": "code",
   "execution_count": 17,
   "metadata": {},
   "outputs": [
    {
     "name": "stdout",
     "output_type": "stream",
     "text": [
      "[23, 13]\n"
     ]
    }
   ],
   "source": [
    "# [23, 13, 17, 191]\n",
    "odds = []\n",
    "for val in [23, 12, 13, 16, 18, 2, 23, 0, 17, 20, 191]:\n",
    "    if val in odds:\n",
    "        break  ## stops running after the first dupplicate\n",
    "    if val % 2 == 1:\n",
    "        odds.append(val)\n",
    "print(odds)  # prints odds until the first duplicate is found\n"
   ]
  },
  {
   "cell_type": "code",
   "execution_count": 18,
   "metadata": {},
   "outputs": [
    {
     "name": "stdout",
     "output_type": "stream",
     "text": [
      "This executes because the loop never executed\n"
     ]
    }
   ],
   "source": [
    "val = 10\n",
    "\n",
    "while val < 5:\n",
    "    print(\"This won't execute\")\n",
    "else:\n",
    "    print(\"This executes because the loop never executed\")"
   ]
  },
  {
   "cell_type": "markdown",
   "metadata": {},
   "source": [
    "### Overall\n",
    "\n",
    "* More useful tools, but technically not required.\n",
    "* The more you program, the more 'elegant' your code can become\n",
    "  * these tools also help reduce the amount of code you need"
   ]
  },
  {
   "cell_type": "markdown",
   "metadata": {},
   "source": [
    "## Data Privacy\n",
    "\n",
    "Let's talk about data. We have a lot of it!\n",
    "\n",
    "Quick Poll\n",
    "\n",
    "Which social services do you have an account on?\n",
    "\n",
    "* A. Facebook\n",
    "* B. Twitter\n",
    "* C. TikTok\n",
    "* D. Linkedin\n",
    "* E. Other\n",
    "\n",
    "\n",
    "> Discussion  \n",
    "> How much do you use it daily?  (some phones you can look this up in settings). Most people know their information is out there, how much do you think about it?\n",
    "\n",
    "Next Poll\n",
    "* A. Its out there, and I don't care\n",
    "* B. Its out there, and little we can do\n",
    "* C. I try very hard to 'hide' what is out there\n",
    "* D. Nothing is out there, I don't use anything\n",
    "\n",
    "\n",
    "> Discussion 2\n",
    "> Thinking about how the internet works, do you feel this information is secure between your computer and your social service? Ok, you may all think the correct answer is NO (actually, it is more secure than it may seem), but now ask yourself WHY based on what you understand on networking. \n",
    "\n"
   ]
  },
  {
   "cell_type": "markdown",
   "metadata": {},
   "source": [
    "![Social Platform Preferences](img/socialPreference.jpg)\n",
    "\n",
    "* Facebook\n",
    "  * 2.45 billion monthly active users\n",
    "  * 1.62 billion people on average log onto Facebook daily\n",
    "  * Every 60 seconds on Facebook: 510,000 comments are posted, 293,000 statuses are updated, and 136,000 photos are uploaded.\n",
    "  * 300 petabyte data analysis warehouse (to start)\n",
    "* What do they track! (everything)\n",
    "  * Likes \n",
    "  * Faces / Images\n",
    "  * Cookies, tagging, etc\n",
    "* “Your” Data Worth $240 a year, per person… \n"
   ]
  },
  {
   "cell_type": "markdown",
   "metadata": {},
   "source": [
    "### Cookies\n",
    "\n",
    "* The internet is considered a **stateless** protocol! \n",
    "* So how does a website know you have visited that website?\n",
    "  * Cookies\n",
    "  * Small files stored on your computer\n",
    "  * These files have information about you\n",
    "    * Designed to help websites retain information between visits\n",
    "    * Also used in advertising\n",
    "\n",
    "```json\n",
    "{\"name\":\"apond\", \"login-approved\":true, \"favorite-color\":\"Red\"}\n",
    "```\n",
    "\n",
    "* Above is an example cookie (note, most are encrypted now)\n",
    "* Does the format seem familiar?\n",
    "  * It can have other formats, but these dictionary like strings are common"
   ]
  },
  {
   "cell_type": "markdown",
   "metadata": {},
   "source": [
    "![Privacy Groups](img/privacy_groups.png)\n",
    "\n",
    "### Who owns the data?\n",
    "\n",
    "* No one knows who owns data!\n",
    "  * Do you own your data?\n",
    "  * Google, Facebook and others - beg to differ\n",
    "* Simpler Case\n",
    "  * Do you own your grades?\n",
    "  * Does the school own your grade information? \n",
    "  * Same argument!\n",
    "* Look at sites that don’t track your info\n",
    "  * But - what tools do we lose?\n",
    "    * Basically, is it worth the cost? \n",
    "  * What is the balance?\n",
    "  * With that said, your data is only as secure **as you make it**. \n",
    "\n",
    "\n",
    "**We are our own worst security**\n",
    "\n",
    "\n",
    "\n"
   ]
  },
  {
   "cell_type": "markdown",
   "metadata": {},
   "source": [
    "### 2-Step Authentication \n",
    "\n",
    "* For signin - not encryption! \n",
    "* Step 1\n",
    "  * Enter your password\n",
    "* Step 2 \n",
    "  * You get a security code (often six digits)\n",
    "  * Via an app or text message\n",
    "  * Enter in the code\n",
    "  * OR just confirm on other devices like cell phones or security keys\n",
    "    * Used in GitHub, Facebook, Google\n",
    "* Really better than just a password\n",
    "  * Admittedly, passwords should die \n",
    "* But how to balance user experience with security?\n",
    "\n",
    "![XKCD passwords comic](img/xkcd_passwords.png)\n",
    "\n"
   ]
  },
  {
   "cell_type": "markdown",
   "metadata": {},
   "source": [
    "### For Next Time: Sending Data Online?\n",
    "\n",
    "Consider the following\n",
    "\n",
    "![sending file concerns](img/sending_file_issues.png)"
   ]
  }
 ],
 "metadata": {
  "interpreter": {
   "hash": "507d0580e2b527a70f64f40fb9b6583b2a77378ccde06f27533dbdd39bb8d03d"
  },
  "kernelspec": {
   "display_name": "Python 3.10.4 64-bit (windows store)",
   "language": "python",
   "name": "python3"
  },
  "language_info": {
   "codemirror_mode": {
    "name": "ipython",
    "version": 3
   },
   "file_extension": ".py",
   "mimetype": "text/x-python",
   "name": "python",
   "nbconvert_exporter": "python",
   "pygments_lexer": "ipython3",
   "version": "3.10.4"
  },
  "orig_nbformat": 4
 },
 "nbformat": 4,
 "nbformat_minor": 2
}
