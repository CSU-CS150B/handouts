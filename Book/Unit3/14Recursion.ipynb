{
 "cells": [
  {
   "cell_type": "markdown",
   "metadata": {},
   "source": [
    "# Recursion \n",
    "\n",
    "This lecture will focus on \n",
    "* recursion \n",
    "  * base cases\n",
    "  * simple recursion\n",
    "\n",
    "![Grut Recursion](img/grut_recursion.jpg)"
   ]
  },
  {
   "cell_type": "markdown",
   "metadata": {},
   "source": [
    "### Your future in CS \n",
    "I used to include this on my slides, but since these slides have changed - going to just leave it up here for every notebook. I get a lot of questions about more programming courses, the concentrations, and minors in computer science. Here is a brief reminder.\n",
    "\n",
    "CS 164 – Next Course In Sequence, also consider CS 220 (math and stats especially) \n",
    "* CO Jobs Report 2021 – 77% of *all* new jobs in Colorado require programming\n",
    "* 60% of all STEM jobs requires *advanced* (200-300 level) \n",
    "* 31% of all Bachelor of Arts degree titled jobs also required coding skills \n",
    "* 2016 Report found on average jobs that require coding skills paid $22,000 more\n",
    "\n",
    "* Concentrations in CS:\n",
    "  * Computer science has a number of concentrations. \n",
    "    * [General concentration](https://catalog.colostate.edu/general-catalog/colleges/natural-sciences/computer-science/computer-science-major/computer-science-concentration/#requirementstext) is the most flexible, and even allows students to double major or minor pretty easily. \n",
    "    * [Software Engineering](https://catalog.colostate.edu/general-catalog/colleges/natural-sciences/computer-science/computer-science-major-software-engineering-concentration/)\n",
    "    * [Computing Systems](https://catalog.colostate.edu/general-catalog/colleges/natural-sciences/computer-science/computer-science-major-computing-systems-concentration/)\n",
    "    * [Human Centered Computing](https://catalog.colostate.edu/general-catalog/colleges/natural-sciences/computer-science/computer-science-major/human-centered-computing-concentration/)\n",
    "    * [Networks and Security](https://catalog.colostate.edu/general-catalog/colleges/natural-sciences/computer-science/computer-science-major-networks-security-concentration/)\n",
    "    * [Artificial Intelligence](https://catalog.colostate.edu/general-catalog/colleges/natural-sciences/computer-science/computer-science-major-artificial-intelligence-machine-learning-concentration/)\n",
    "    * Computer Science Education. \n",
    "  * Minors: \n",
    "    * [Minor in Computer Science](https://catalog.colostate.edu/general-catalog/colleges/natural-sciences/computer-science/computer-science-minor/) - choose your own adventure minor\n",
    "    * [Minor in Machine Learning](https://catalog.colostate.edu/general-catalog/colleges/natural-sciences/computer-science/machine-learning-minor/) - popular with stats/math, and engineering\n",
    "    * [Minor in Bioinformatics](https://catalog.colostate.edu/general-catalog/colleges/natural-sciences/computer-science/bioinformatics-minor/) - Biology + Computer Science\n"
   ]
  },
  {
   "cell_type": "markdown",
   "metadata": {},
   "source": [
    "### Warmup Activity - Loops\n",
    "\n",
    "* Write a function that takes in a parameter that will be a whole number\n",
    "* Calculate the **factorial** of that number  \n",
    "  * Reminder: factorial for:   \n",
    "    $ f(5) = 5 * 4 * 3 * 2 * 1 = 120 $  \n",
    "    $ f(4) = 4 * 3 * 2 *1  = 24 $\n",
    "* Use a **loop** to calculate the factorial.\n"
   ]
  },
  {
   "cell_type": "code",
   "execution_count": null,
   "metadata": {},
   "outputs": [],
   "source": [
    "def loop_factorial(whole):\n",
    "    answer = 1\n",
    "    ## your code here\n",
    "    return answer\n",
    "\n",
    "print(\"Testing loop factorial\", loop_factorial(5))\n",
    "print(\"Testling loop factorial\", loop_factorial(4))"
   ]
  },
  {
   "cell_type": "markdown",
   "metadata": {},
   "source": [
    "## Recursion\n",
    "\n",
    "* Fancy Word...\n",
    "  * Often people over complicate it!\n",
    "* Means creating a loop, by calling a function over and over! \n",
    "  * Yes, Recursion is another way to loop!\n",
    "  * Essentially, **Divide**-**Conquer**-**Glue** at the algorithm level\n",
    "* Advantages of Recursion\n",
    "  * Complex iteration can be broken into smaller functions\n",
    "  * Creation of sequences or values across sequences can be done with recursion \n",
    "* Try to think in **two** steps only\n",
    "  * Base case (exit condition)\n",
    "  * Repetition / Recursive condition"
   ]
  },
  {
   "cell_type": "code",
   "execution_count": null,
   "metadata": {},
   "outputs": [],
   "source": [
    "def sum_it(lst):\n",
    "    # base case\n",
    "    if len(lst) < 1: return 0\n",
    "    # recursive condition\n",
    "    return lst[0] + sum_it(lst[1:])  ### NOTICE: calling this same function!\n",
    "\n",
    "my_list = [10, 12, 0, -1, 12, 3]\n",
    "print(sum_it(my_list))"
   ]
  },
  {
   "cell_type": "markdown",
   "metadata": {},
   "source": [
    "### What is happening?\n",
    "\n",
    "* Break it down into steps\n",
    "  * In the base case\n",
    "    * if the list less than 1 (empty) - return 0\n",
    "    * Could also be said ```if len(lst) <= 1: return lst[0]```\n",
    "  * In the recursive condition\n",
    "    * take the first spot\n",
    "    * add the other values to it! \n",
    "\n",
    "![Recursive sum_it](img/CS150B_recursion.png)"
   ]
  },
  {
   "cell_type": "markdown",
   "metadata": {},
   "source": [
    "### In Class Activity: Return to Factorial\n",
    "\n",
    "* Go ahead and write the factorial\n",
    "  * but now use recursion\n",
    "* what is your **base** case?\n",
    "  * often similar to when you want to *stop* looping\n",
    "* What is your recursive condition?\n",
    "* Often it is easier to break it down into simpler cases and work it out on paper\n",
    "  * factorial(1)\n",
    "  * factorial(2)\n",
    "  * factorial(3)\n",
    "  * Then when you have those few situations figured out, it can expand"
   ]
  },
  {
   "cell_type": "code",
   "execution_count": null,
   "metadata": {},
   "outputs": [],
   "source": [
    "def factorial(whole):\n",
    "    ## base case\n",
    "    \n",
    "    ## recursive call\n",
    "    \n",
    "    return \"\" # remove this line, only here so it doesn't error\n",
    "    \n",
    "\n",
    "print(\"Testing Recursive Factorial\", factorial(1))\n",
    "print(\"Testing Recursive Factorial\", factorial(2))\n",
    "print(\"Testing Recursive Factorial\", factorial(3))\n",
    "print(\"Testing Recursive Factorial\", factorial(4))\n",
    "print(\"Testing Recursive Factorial\", factorial(5))\n",
    "print(\"Testing Recursive Factorial\", factorial(25))\n"
   ]
  },
  {
   "cell_type": "markdown",
   "metadata": {},
   "source": [
    "### Why Recursion?\n",
    "\n",
    "* These examples can use loops!\n",
    "* Correct, but as we look at more 'complex' ways to store data, loops fall apart\n",
    "\n",
    "Assume the following list structure\n",
    "\n",
    "<table>\n",
    "  <tr>\n",
    "    <td>10</td>\n",
    "  </tr>\n",
    "  <tr>\n",
    "    <td>\n",
    "      <table>\n",
    "        <tr>\n",
    "          <td>10</td>\n",
    "          <td>\n",
    "            <table>\n",
    "              <tr>\n",
    "                <td> 15</td>\n",
    "              </tr>\n",
    "              <tr>\n",
    "                <td> 10</td>\n",
    "              </tr>\n",
    "            </table>\n",
    "          </td>\n",
    "          <td>\n",
    "            13\n",
    "          </td>\n",
    "        </tr>\n",
    "      </table>\n",
    "    </td>\n",
    "  </tr>\n",
    "  <tr>\n",
    "    <td>14</td>\n",
    "  </tr>\n",
    "</table>\n",
    "\n",
    "or in python\n",
    "\n",
    "```\n",
    "lst = [10, [10, [15, 10], 13], 14]\n",
    "```\n",
    "\n",
    "* If this was fixed, you would need at least 3 nested loops, but then every time a list appears, you need another loop! When does it stop?\n",
    "* Tree structures (such as those used in Router Tables) can look like this (sort of)!\n",
    "\n",
    "Recursion to the rescue!\n"
   ]
  },
  {
   "cell_type": "code",
   "execution_count": null,
   "metadata": {},
   "outputs": [],
   "source": [
    "def sum_it(lst):\n",
    "    if len(lst) < 1:return 0\n",
    "    if type(lst[0]) is list:\n",
    "        return sum_it(lst[0]) + sum_it(lst[1:])\n",
    "    return lst[0] + sum_it(lst[1:])\n",
    "\n",
    "\n",
    "lst = [10, [10, [15, 10], 13], 14]\n",
    "print(sum_it(lst))"
   ]
  },
  {
   "cell_type": "markdown",
   "metadata": {},
   "source": [
    "### Tail Recursion\n",
    "\n",
    "* Tail Recursion\n",
    "* Another way to look at recursion\n",
    "* Use a list to build the 'result' as the method is called\n",
    "* Helps with memory, and commonly used to build lists!\n",
    "\n",
    "**Code Along** Goes over this example"
   ]
  },
  {
   "cell_type": "code",
   "execution_count": null,
   "metadata": {},
   "outputs": [],
   "source": [
    "def reverse_list_tail(values, reverse):\n",
    "    # base first!\n",
    "    if len(values) < 1: return reverse # this contains the final list\n",
    "    return  reverse_list_tail(values[:-1], reverse + [values[-1]])\n",
    "    \n",
    "def reverse_list_tail_start(values):\n",
    "    return  reverse_list_tail(values, []) # will learn a way to make default values in the future!\n",
    "\n",
    "\n",
    "names = [\"Princess Zelda\", \"Ganon\", \"Link\", \"Epona\", \"Impa\"]\n",
    "reversed = reverse_list_tail_start(names)\n",
    "\n",
    "print(reversed)"
   ]
  },
  {
   "cell_type": "markdown",
   "metadata": {},
   "source": [
    "## Recursion Overview\n",
    "\n",
    "* Keep it simple!\n",
    "  * Often folks over think it\n",
    "* Always find the base case first\n",
    "* Then write for the N+1 case\n",
    "  * Wait! That is induction!\n",
    "  * Correct, math majors recursion and induction two sides of the same coin. \n",
    "  * **CS 220** goes into more in depth\n",
    "* Used heavily in data science\n",
    "  * And Artificial Intelligence\n",
    "* But not always good to use!\n",
    "  * There is a cost\n",
    "  * Most notable, speed / memory concerns (to be explored later)"
   ]
  }
 ],
 "metadata": {
  "interpreter": {
   "hash": "507d0580e2b527a70f64f40fb9b6583b2a77378ccde06f27533dbdd39bb8d03d"
  },
  "kernelspec": {
   "display_name": "Python 3.10.3 64-bit (windows store)",
   "language": "python",
   "name": "python3"
  },
  "language_info": {
   "codemirror_mode": {
    "name": "ipython",
    "version": 3
   },
   "file_extension": ".py",
   "mimetype": "text/x-python",
   "name": "python",
   "nbconvert_exporter": "python",
   "pygments_lexer": "ipython3",
   "version": "3.10.4"
  },
  "orig_nbformat": 4
 },
 "nbformat": 4,
 "nbformat_minor": 2
}
