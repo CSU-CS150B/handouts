{
 "cells": [
  {
   "cell_type": "markdown",
   "metadata": {},
   "source": [
    "# More Recursion, CS Concepts, Symmetric Encryption\n",
    "\n",
    "* in this lecture we will cover\n",
    "  * Symmetric Encryption\n",
    "  * Cases for recursion\n",
    "  * Basic CS concepts and algorithms "
   ]
  },
  {
   "cell_type": "markdown",
   "metadata": {},
   "source": [
    "### Your future in CS \n",
    "I used to include this on my slides, but since these slides have changed - going to just leave it up here for every notebook. I get a lot of questions about more programming courses, the concentrations, and minors in computer science. Here is a brief reminder.\n",
    "\n",
    "CS 164 – Next Course In Sequence, also consider CS 220 (math and stats especially) \n",
    "* CO Jobs Report 2021 – 77% of *all* new jobs in Colorado require programming\n",
    "* 60% of all STEM jobs requires *advanced* (200-300 level) \n",
    "* 31% of all Bachelor of Arts degree titled jobs also required coding skills \n",
    "* 2016 Report found on average jobs that require coding skills paid $22,000 more\n",
    "\n",
    "* Concentrations in CS:\n",
    "  * Computer science has a number of concentrations. \n",
    "    * [General concentration](https://catalog.colostate.edu/general-catalog/colleges/natural-sciences/computer-science/computer-science-major/computer-science-concentration/#requirementstext) is the most flexible, and even allows students to double major or minor pretty easily. \n",
    "    * [Software Engineering](https://catalog.colostate.edu/general-catalog/colleges/natural-sciences/computer-science/computer-science-major-software-engineering-concentration/)\n",
    "    * [Computing Systems](https://catalog.colostate.edu/general-catalog/colleges/natural-sciences/computer-science/computer-science-major-computing-systems-concentration/)\n",
    "    * [Human Centered Computing](https://catalog.colostate.edu/general-catalog/colleges/natural-sciences/computer-science/computer-science-major/human-centered-computing-concentration/)\n",
    "    * [Networks and Security](https://catalog.colostate.edu/general-catalog/colleges/natural-sciences/computer-science/computer-science-major-networks-security-concentration/)\n",
    "    * [Artificial Intelligence](https://catalog.colostate.edu/general-catalog/colleges/natural-sciences/computer-science/computer-science-major-artificial-intelligence-machine-learning-concentration/)\n",
    "    * Computer Science Education. \n",
    "  * Minors: \n",
    "    * [Minor in Computer Science](https://catalog.colostate.edu/general-catalog/colleges/natural-sciences/computer-science/computer-science-minor/) - choose your own adventure minor\n",
    "    * [Minor in Machine Learning](https://catalog.colostate.edu/general-catalog/colleges/natural-sciences/computer-science/machine-learning-minor/) - popular with stats/math, and engineering\n",
    "    * [Minor in Bioinformatics](https://catalog.colostate.edu/general-catalog/colleges/natural-sciences/computer-science/bioinformatics-minor/) - Biology + Computer Science\n"
   ]
  },
  {
   "cell_type": "markdown",
   "metadata": {},
   "source": [
    "## Reminder from last lecture\n",
    "\n",
    "![What if hacker modifies files?](img/sending_file_issues.png)\n",
    "\n",
    "\n",
    "* Thinking about what we know about the internet\n",
    "* Computers send packets through other computers\n",
    "* What prevents a computer from slightly modifying a packet?\n",
    "\n",
    "\n",
    "\n",
    "### What are packets?\n",
    "\n",
    "\n",
    "<table border=\"0\">\n",
    "    <tr>\n",
    "        <td>Header</td>\n",
    "        <td>\n",
    "            <ul>\n",
    "                <li>Destination IP</li>\n",
    "                <li>Originating IP</li>\n",
    "                <li>Protocol (email/www/ftp/video/etc)</li>\n",
    "                <li>...</li>\n",
    "        </td>\n",
    "    </tr>\n",
    "    <tr>\n",
    "        <td>Payload</td>\n",
    "        <td>Payload these are the file contents\n",
    "    </tr>\n",
    "    <tr>\n",
    "        <td>Footer</td>\n",
    "        <td>Info needed for file reassembly</td>\n",
    "    </tr>\n",
    "</table>\n",
    "\n",
    "* Given the contents of a packet, and how the internet works, which parts can you encrypt? \n",
    "* How can we do this so it seamless to the client?\n",
    "\n",
    "### Encryption Types\n",
    "* Symmetric Encryption\n",
    "  * We use this almost daily\n",
    "  * HTTPS - or TLS\n",
    "* Public Key Encryption (asymmetric)\n",
    "  * We should use this more  \n",
    "  * Will cover this in a future lecture\n",
    "    * We need to cover more CS concepts first\n"
   ]
  },
  {
   "cell_type": "markdown",
   "metadata": {},
   "source": [
    "## Transport Layer Security\n",
    "\n",
    "* A way to encrypt the **payload** of packet\n",
    "* Protocol\n",
    "  * Used on top of the web protocols (www, IP, etc)\n",
    "* Stages:\n",
    "  * Handshake\n",
    "    * Double check certificate\n",
    "    * Figure out encryption key\n",
    "  * Connection is now encrypted for a limited time\n",
    "* We see it as: HTTPS\n",
    "* Also used in Virtual Private Networks (VPNs)\n",
    "\n",
    "\n",
    "> **Action Item:**  \n",
    "> * At your tables, open up a webpage (google or csu for example) \n",
    "> * Click the Lock next to the URL\n",
    "> * Look for the 'certificate' to popup (slightly different in various browsers)\n",
    "\n",
    "This is dependant on 3rd party **trusted** authorities, so that means the 'distributed' nature of the internet is a bit more limited once we need certificates for everything. \n",
    "\n",
    "![TSL Certificate](img/tsl_certificate.png)\n",
    "\n",
    "Side comment: it is possible to spoof certificates or root them. CS 356 and the CS 456 are great classes to learn how (and ways against). Open to minors and majors in CS.\n"
   ]
  },
  {
   "cell_type": "markdown",
   "metadata": {},
   "source": [
    "### Virtual Private Networks (VPN)\n",
    "\n",
    "![vpn example](img/vpn_example.png)\n",
    "\n",
    "* Ways to encrypt\n",
    "  * Payload\n",
    "  * Mask your Origination IP\n",
    "  * Add additional layer of encryption\n",
    "* You **first** connect to a VPN server\n",
    "  * Tunnel all your information through that server\n",
    "    * Called a tunnel as it creates a mostly direct connection\n",
    "    * The connection between you and the server is encrypted\n",
    "    * Often requires two factor authentication, so no one else can 'be you'\n",
    "  * Server then relays the info the websites you are browsing\n",
    "    * Ideally through TSL also!\n",
    "* PROs:\n",
    "  * Your IP is masked\n",
    "  * Your data to the server is encrypted, and then your data to the website is encrypted\n",
    "  * You act  like you are from their server\n",
    "    * often granting access to websites you may not have had access to before\n",
    "  * Those who manage VPNs are experts at securing their servers\n",
    "* CONS:\n",
    "  * VPN becomes a single point of failure for multiple parties\n",
    "  * You  must trust the VPN service\n",
    "  * Some of them charge for it!\n",
    "    * Free ones often have issues\n",
    "* We all have a *free* one that is pretty well known to be secure\n",
    "  * Colorado State University \n",
    "  * Allows you to access to subscriptions that CSU gives to everyone\n",
    "    * scholarly journals\n",
    "    * access to on-campus resources\n",
    "    * etc\n",
    "  * Also, secures your connection, masks your origination, and adds a layer of security!\n",
    "* CSU uses pulse secure \n",
    "  * Migrating to global protect (early access now)\n",
    "* Requires 2 factor authentication\n",
    "* Easy to setup\n",
    "  * Recommended you set it up as an application, so all traffic is encrypted, not the single browser session. "
   ]
  },
  {
   "cell_type": "markdown",
   "metadata": {},
   "source": [
    "### To think about over the week\n",
    "\n",
    "* How do you know the file sent is the **correct** file?\n",
    "* How do you make it so **only** your friend can open the file?\n",
    "\n",
    "![Sending the wrong file](img/others_opening_files.png)\n",
    "\n",
    "However, before we really talk about this, we need to explore some more CS concepts."
   ]
  },
  {
   "cell_type": "markdown",
   "metadata": {},
   "source": [
    "## Repeating Recursion\n",
    "\n",
    "* Recursion\n",
    "  * Allows us to use a method to 'repeat' our actions\n",
    "  * Causes us to focus more on the local aspect of our code\n",
    "    * Divide-conquer-glue\n",
    "* Why do we want to use it?\n",
    "  * Let's look at a few examples"
   ]
  },
  {
   "cell_type": "markdown",
   "metadata": {},
   "source": [
    "### Linear Search\n",
    "\n",
    "* we have done this in labs\n",
    "* if we want to **find** an item in a list, we can iterate looking at every element!\n",
    "  \n",
    "\n",
    "#### In class activity\n",
    "\n",
    "  * Write a function that finds a value in a list (don't use the built in one)\n",
    "  * Return the **index** of the value found!\n",
    "    * return -1 if it isn't found "
   ]
  },
  {
   "cell_type": "code",
   "execution_count": 2,
   "metadata": {},
   "outputs": [
    {
     "name": "stdout",
     "output_type": "stream",
     "text": [
      "0\n",
      "4\n",
      "-1\n"
     ]
    }
   ],
   "source": [
    "def find_it(lst, value):\n",
    "    index = 0\n",
    "    while(index < len(lst)):\n",
    "        if value == lst[index]: return index\n",
    "        index += 1\n",
    "    return -1\n",
    "\n",
    "\n",
    "lst = [\"Kaz\", \"Inej\", \"Jasper\", \"Nina\", \"Matthias\", \"Wylan\"]\n",
    "print(find_it(lst, \"Kaz\"))  # should return 0\n",
    "print(find_it(lst, \"Matthias\")) # should return 4\n",
    "print(find_it(lst, \"Yarl\"))  # should return -1"
   ]
  },
  {
   "cell_type": "markdown",
   "metadata": {},
   "source": [
    "* To find Wylan, it would take 6 iterations of the loop\n",
    "* No matter how large the list, the worst time is the last element\n",
    "  * so we say size is N, we can say a linear search takes N times worst case!\n",
    "\n",
    "\n",
    "### Binary Search\n",
    "* However, what if our data was *sorted*?\n",
    "* For example:\n",
    "  * \\[1, 2, 3, 4, 5, 6, 7, 8, 9, 10\\]\n",
    "* Could we reduce the amount of time it takes to find an element?\n",
    "* What if we 'redrew' the sorted list as follows?\n",
    "\n",
    "![Ordered Tree](img/tree_numbering.png)\n",
    "\n",
    "* Looking at it this way:\n",
    "  * We can check to see if the value we are looking for is \n",
    "    * larger, equal to, or less than five\n",
    "  * Then we can split our data and search in half.\n",
    "    * Continue to look at the middle value\n",
    "    * And move down\n",
    "* This is a binary search\n",
    "  * Oldest documented search method\n",
    "  * Goes back to roman times and looking up addresses in an address book\n",
    "* It is also naturally recursive in nature!\n",
    "\n"
   ]
  },
  {
   "cell_type": "code",
   "execution_count": 3,
   "metadata": {},
   "outputs": [],
   "source": [
    "def binary_search(sorted_list, value, start=0, end=None):\n",
    "  if end is None:\n",
    "    end = len(sorted_list)\n",
    "  print(sorted_list[start:end]) ## just so we can see what is going on\n",
    "  if (end - start) + 1 < 2:\n",
    "    return -1\n",
    "  ## get middle index!\n",
    "  middle = (end+start) // 2  # notice! why?\n",
    "  if value == sorted_list[middle]:\n",
    "    index = middle\n",
    "  elif value < sorted_list[middle]:\n",
    "    index = binary_search(sorted_list, value, start=0, end=middle)\n",
    "  else:\n",
    "    index = binary_search(sorted_list, value, start=middle+1, end=end)\n",
    "  return index\n"
   ]
  },
  {
   "cell_type": "markdown",
   "metadata": {},
   "source": [
    "### Activity\n",
    "\n",
    "* Discuss the above code\n",
    "* Can you draw out what it is doing\n",
    "  * Use the code below to help with drawing. "
   ]
  },
  {
   "cell_type": "code",
   "execution_count": 4,
   "metadata": {},
   "outputs": [
    {
     "name": "stdout",
     "output_type": "stream",
     "text": [
      "[1, 2, 3, 4, 5, 6, 7, 8, 9, 10]\n",
      "[1, 2, 3, 4, 5]\n",
      "[1, 2]\n",
      "The index is 1\n",
      "\n",
      "[1, 2, 3, 4, 5, 6, 7, 8, 9, 10]\n",
      "[7, 8, 9, 10]\n",
      "[1, 2, 3, 4, 5, 6, 7, 8]\n",
      "[6, 7, 8]\n",
      "The index is 6\n",
      "\n",
      "[1, 2, 3, 4, 5, 6, 7, 8, 9, 10]\n",
      "[1, 2, 3, 4, 5]\n",
      "[4, 5]\n",
      "The index is 4\n",
      "\n",
      "[1, 2, 3, 4, 5, 6, 7, 8, 9, 10]\n",
      "[7, 8, 9, 10]\n",
      "[10]\n",
      "[]\n",
      "The index is -1\n"
     ]
    }
   ],
   "source": [
    "sorted = [1, 2, 3, 4, 5, 6, 7, 8, 9, 10]  # i could have said sorted = range(1,11)\n",
    "\n",
    "print(\"The index is\", binary_search(sorted, 2))\n",
    "print()\n",
    "print(\"The index is\", binary_search(sorted, 7))\n",
    "print()\n",
    "print(\"The index is\", binary_search(sorted, 5))\n",
    "print()\n",
    "print(\"The index is\", binary_search(sorted, 12))\n"
   ]
  },
  {
   "cell_type": "markdown",
   "metadata": {},
   "source": [
    "### More Recursion?\n",
    "\n",
    "* You will cover recursion and cases for recursions in future classes\n",
    "  * 164, 165, 220, 320, etc\n",
    "  * It has a high representational power, but at a cost\n",
    "* Good at:\n",
    "  * building sequences \n",
    "  * breakdown complex iteration to simple methods\n",
    "  * Divide-Conquer-Glue\n",
    "    * Essential thinking for recursion\n",
    "\n",
    "### What about other structures?\n",
    "\n",
    "* We have been talking about lists using indexes\n",
    "* What if we don't know all the indexes?\n",
    "* These *chain* style lists are called linked-lists\n",
    "\n",
    "\n",
    "> Activity  \n",
    "> Stand up, form mostly equal groups with each TA. We will go over lists as these groups.\n"
   ]
  },
  {
   "cell_type": "markdown",
   "metadata": {},
   "source": [
    "### Linked list in code\n",
    "\n",
    "* assume the following information [value, next element]\n",
    "* Based on that, I can build a *list of lists* \n",
    "* There are actual uses of this, lists is just one way to show it\n",
    "\n",
    "![Linked List Example](img/linked_list.png)\n"
   ]
  },
  {
   "cell_type": "code",
   "execution_count": 5,
   "metadata": {},
   "outputs": [
    {
     "name": "stdout",
     "output_type": "stream",
     "text": [
      "[5, [10, [12, [3, None]]]]\n",
      "[5, [10, [13, [3, None]]]]\n"
     ]
    }
   ],
   "source": [
    "lstfinal = [3, None]\n",
    "lst3 = [12, lstfinal]\n",
    "lst2 = [10, lst3]\n",
    "lst = [5, lst2]\n",
    "\n",
    "\n",
    "print(lst)\n",
    "\n",
    "lst3[0] = 13\n",
    "\n",
    "print(lst)  #notice the middle list is modified"
   ]
  },
  {
   "cell_type": "markdown",
   "metadata": {},
   "source": [
    "#### Finding an element?\n",
    "\n",
    "* Finding an element can be a challenge\n",
    "* Why because we don't know the 'list' depth\n",
    "* Each list is stored in a separate spot in memory, and `lst` just references all those memory spots\n",
    "* Recursion to the rescue "
   ]
  },
  {
   "cell_type": "code",
   "execution_count": 6,
   "metadata": {},
   "outputs": [],
   "source": [
    "def find_recursive(lst, val):\n",
    "    print(lst)\n",
    "    if(lst[0] == val): return lst ## found\n",
    "    if(lst[1] == None): return None ## not found!\n",
    "    return find_recursive(lst[1], val) # keep moving down the links"
   ]
  },
  {
   "cell_type": "code",
   "execution_count": 7,
   "metadata": {},
   "outputs": [
    {
     "name": "stdout",
     "output_type": "stream",
     "text": [
      "[5, [10, [13, [3, None]]]]\n",
      "[10, [13, [3, None]]]\n",
      "start of node is: [10, [13, [3, None]]]\n",
      "\n",
      "[5, [10, [13, [3, None]]]]\n",
      "[10, [13, [3, None]]]\n",
      "[13, [3, None]]\n",
      "[3, None]\n",
      "start of node is: None\n"
     ]
    }
   ],
   "source": [
    "print(\"start of node is:\", find_recursive(lst, 10))\n",
    "print()\n",
    "print(\"start of node is:\", find_recursive(lst, 12))\n"
   ]
  },
  {
   "cell_type": "markdown",
   "metadata": {},
   "source": [
    "What if we want to add to the end?"
   ]
  },
  {
   "cell_type": "code",
   "execution_count": 9,
   "metadata": {},
   "outputs": [
    {
     "name": "stdout",
     "output_type": "stream",
     "text": [
      "[3, None]\n"
     ]
    }
   ],
   "source": [
    "def find_end(lst):\n",
    "    if(lst[1] is None): return lst\n",
    "    return find_end(lst[1])\n",
    "\n",
    "end = find_end(lst)\n",
    "print(end)"
   ]
  },
  {
   "cell_type": "markdown",
   "metadata": {},
   "source": [
    "Now let's add a value!"
   ]
  },
  {
   "cell_type": "code",
   "execution_count": 10,
   "metadata": {},
   "outputs": [],
   "source": [
    "def add_to_links(lst, value):\n",
    "    end = find_end(lst)\n",
    "    end[1] = [value, None]"
   ]
  },
  {
   "cell_type": "code",
   "execution_count": 13,
   "metadata": {},
   "outputs": [
    {
     "name": "stdout",
     "output_type": "stream",
     "text": [
      "[1, [10, None]]\n",
      "\n",
      "[1, [10, [3.4, None]]]\n",
      "\n",
      "[1, [10, [3.4, ['another type', None]]]]\n",
      "\n"
     ]
    }
   ],
   "source": [
    "nlst = [1, None]\n",
    "add_to_links(nlst, 10)\n",
    "print(nlst)\n",
    "print()\n",
    "add_to_links(nlst, 3.4)\n",
    "print(nlst)\n",
    "print()\n",
    "add_to_links(nlst, \"another type\")\n",
    "print(nlst)\n",
    "print()"
   ]
  },
  {
   "cell_type": "markdown",
   "metadata": {},
   "source": [
    "### Thinking Further\n",
    "\n",
    "* Advantages\n",
    "  * More memory efficient \n",
    "* Disadvantage \n",
    "  * Takes longer to 'jump' to a location\n",
    "* Also, the 'chain' is distinct!\n",
    "  * What happens when a node is removed incorrectly?\n",
    "    * The chain breaks!\n",
    "    * Which  means if we compare chains, we can easily find differences\n",
    "\n",
    "![Broken lists](img/linked_list_broken.png)"
   ]
  },
  {
   "cell_type": "markdown",
   "metadata": {},
   "source": [
    "## Overview\n",
    "\n",
    "* The study of these algorithms is part of CS\n",
    "  * CS 320, 420, etc\n",
    "  * So much so, we have ways to define 'impossible problems'\n",
    "    * and then we tackle them using ML or other algorithms. \n",
    "* Speed matters!\n",
    "  * Especially if you deal with internet of things devices \n",
    "* Very open field "
   ]
  }
 ],
 "metadata": {
  "interpreter": {
   "hash": "507d0580e2b527a70f64f40fb9b6583b2a77378ccde06f27533dbdd39bb8d03d"
  },
  "kernelspec": {
   "display_name": "Python 3.10.4 64-bit (windows store)",
   "language": "python",
   "name": "python3"
  },
  "language_info": {
   "codemirror_mode": {
    "name": "ipython",
    "version": 3
   },
   "file_extension": ".py",
   "mimetype": "text/x-python",
   "name": "python",
   "nbconvert_exporter": "python",
   "pygments_lexer": "ipython3",
   "version": "3.10.4"
  },
  "orig_nbformat": 4
 },
 "nbformat": 4,
 "nbformat_minor": 2
}
