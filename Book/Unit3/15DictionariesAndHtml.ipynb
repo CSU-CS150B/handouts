{
 "cells": [
  {
   "cell_type": "markdown",
   "metadata": {},
   "source": [
    "# Dictionaries and HTML\n",
    "\n",
    "In this lecture, we will cover:\n",
    "* python dictionaries\n",
    "* World Wide Web + HTML"
   ]
  },
  {
   "cell_type": "markdown",
   "metadata": {},
   "source": [
    "### Your future in CS \n",
    "I used to include this on my slides, but since these slides have changed - going to just leave it up here for every notebook. I get a lot of questions about more programming courses, the concentrations, and minors in computer science. Here is a brief reminder.\n",
    "\n",
    "CS 164 – Next Course In Sequence, also consider CS 220 (math and stats especially) \n",
    "* CO Jobs Report 2021 – 77% of *all* new jobs in Colorado require programming\n",
    "* 60% of all STEM jobs requires *advanced* (200-300 level) \n",
    "* 31% of all Bachelor of Arts degree titled jobs also required coding skills \n",
    "* 2016 Report found on average jobs that require coding skills paid $22,000 more\n",
    "\n",
    "* Concentrations in CS:\n",
    "  * Computer science has a number of concentrations. \n",
    "    * [General concentration](https://catalog.colostate.edu/general-catalog/colleges/natural-sciences/computer-science/computer-science-major/computer-science-concentration/#requirementstext) is the most flexible, and even allows students to double major or minor pretty easily. \n",
    "    * [Software Engineering](https://catalog.colostate.edu/general-catalog/colleges/natural-sciences/computer-science/computer-science-major-software-engineering-concentration/)\n",
    "    * [Computing Systems](https://catalog.colostate.edu/general-catalog/colleges/natural-sciences/computer-science/computer-science-major-computing-systems-concentration/)\n",
    "    * [Human Centered Computing](https://catalog.colostate.edu/general-catalog/colleges/natural-sciences/computer-science/computer-science-major/human-centered-computing-concentration/)\n",
    "    * [Networks and Security](https://catalog.colostate.edu/general-catalog/colleges/natural-sciences/computer-science/computer-science-major-networks-security-concentration/)\n",
    "    * [Artificial Intelligence](https://catalog.colostate.edu/general-catalog/colleges/natural-sciences/computer-science/computer-science-major-artificial-intelligence-machine-learning-concentration/)\n",
    "    * Computer Science Education. \n",
    "  * Minors: \n",
    "    * [Minor in Computer Science](https://catalog.colostate.edu/general-catalog/colleges/natural-sciences/computer-science/computer-science-minor/) - choose your own adventure minor\n",
    "    * [Minor in Machine Learning](https://catalog.colostate.edu/general-catalog/colleges/natural-sciences/computer-science/machine-learning-minor/) - popular with stats/math, and engineering\n",
    "    * [Minor in Bioinformatics](https://catalog.colostate.edu/general-catalog/colleges/natural-sciences/computer-science/bioinformatics-minor/) - Biology + Computer Science\n"
   ]
  },
  {
   "cell_type": "markdown",
   "metadata": {},
   "source": [
    "## Python Dictionaries\n",
    "\n",
    "Let's think about a routing table:\n",
    "\n",
    "* www.cs.colostate.edu is the name for 129.82.45.48\n",
    "* www.colostate.edu is the name for 129.82.103.64\n",
    "* www.google.com is the name for 142.250.72.46\n",
    "* www.amazon.com is the name for 13.33.253.2\n",
    "* www.microsoft.com is the name for 23.58.117.164\n",
    "  \n",
    "\n",
    "Wouldn't it be great if we could store this information, so we just search for the website, and the IP address is the answer given?\n",
    "\n",
    "\n",
    "Flipping the other direction, think about a class roster. Let's say every student has an ename, and then a group of data is stored about the statement?\n",
    "\n",
    "* apond references information about Amy Pond, class, grades, etc\n",
    "* rwilliams references information about Rory Williams, class, grades, etc. \n",
    "\n",
    "Essentially, we are **mapping** data to a key:value pair. This is a python dictionary."
   ]
  },
  {
   "cell_type": "code",
   "execution_count": null,
   "metadata": {},
   "outputs": [],
   "source": [
    "routes = {\"www.cs.colostate.edu\": \"129.82.45.48\",\n",
    "          \"www.colostate.edu\": \"129.82.103.64\",\n",
    "          \"www.google.com\": \"142.250.72.46\",\n",
    "          \"www.amazon.com\": \"13.33.253.2\",\n",
    "          \"www.microsoft.com\": \"23.58.117.164\"} #notice format it uses key:value\n",
    "\n",
    "print(routes[\"www.cs.colostate.edu\"])\n",
    "print(routes[\"www.google.com\"])\n",
    "\n",
    "## what if I need to change a value?\n",
    "\n",
    "routes[\"www.cs.colostate.edu\"] = \"129.82.45.50\"\n",
    "\n",
    "print(\"updated route!\", routes[\"www.cs.colostate.edu\"])\n",
    "\n"
   ]
  },
  {
   "cell_type": "markdown",
   "metadata": {},
   "source": [
    "We can also store any type as the value."
   ]
  },
  {
   "cell_type": "code",
   "execution_count": null,
   "metadata": {},
   "outputs": [],
   "source": [
    "students = {} # creating an empty dictionary, going to add students to it\n",
    "\n",
    "students[\"apond\"] = ('Amy Pond', 'apond', 123456789, 'apond@the60s.com')  ## this is a Tuple\n",
    "students[\"rwilliams\"] = ['Rory Williams', 'rwilliams', 987654321, 'rwilliams@thefirstcentury.com'] ## a list \n",
    "students[\"drdonna\"] = {\"name\": \"Donna\", \"id\": 135792468, \"email\": \"doctordonna@mixed.com\"} # dictionary as the item\n",
    "\n",
    "print(students) # yes printing the whole dictionary like we do lists\n",
    "print()\n",
    "print(\"One item of the dictionary=>\", students[\"drdonna\"])\n",
    "print(\"One element of the single item in the dictionary=>\", students[\"drdonna\"][\"name\"]) #yes, we can keep accessing elements!"
   ]
  },
  {
   "cell_type": "markdown",
   "metadata": {},
   "source": [
    "### In class activity\n",
    "\n",
    "* Create a dictionary for the people at your table.\n",
    "* Create 'key' for each of you, (ename, nickname, etc)\n",
    "* For each of you, create another dictionary that contains the following information (at a minimum)\n",
    "  * name, fav_color, fav_fruit, fav_movie\n",
    "* Print out each\n",
    "\n",
    "Example:\n",
    "```python\n",
    "team_mystery[\"scooby\"] = {\"name\": \"Scoobert Doo\", \"fav_color\": \"gray\", \"fav_fruit\": \"All Fruits\", \"fav_movie\": \"Nothing scary!\"}\n",
    "```\n",
    "\n",
    "print out the list when done"
   ]
  },
  {
   "cell_type": "code",
   "execution_count": null,
   "metadata": {},
   "outputs": [],
   "source": [
    "## student activity here\n"
   ]
  },
  {
   "cell_type": "markdown",
   "metadata": {},
   "source": [
    "### Dictionaries - What about looping through the items?\n",
    "\n",
    "* dict.keys() -  give list of keys\n",
    "  * in no particular order! \n",
    "* dict.values() -  give items  *without  keys*\n",
    "* dict.items()  - gives tuple of (key,  value)\n"
   ]
  },
  {
   "cell_type": "code",
   "execution_count": null,
   "metadata": {},
   "outputs": [],
   "source": [
    "authorized = {\"Valtaja\": [\"Cut & Thrust\", \"Rapier Spear\", \"Rapier\"], \n",
    "              \"Aegeon\":  [\"Cut & Thrust\", \"Rapier Spear\", \"Rapier\", \"Armored Combat\", \"Great Weapons\"], \n",
    "              \"Felix\":   [\"Armored Combat\", \"Great Weapons\"]}\n",
    "\n",
    "\n",
    "for key, value in authorized.items():\n",
    "    print(\"{} is authorized in {}\".format(key, \", \".join(value)))\n"
   ]
  },
  {
   "cell_type": "markdown",
   "metadata": {},
   "source": [
    "### Student Activity\n",
    "\n",
    "Take the list you just generated and print out only the favorite colors or favorite fruits in the format\n",
    "\n",
    "name likes fruit"
   ]
  },
  {
   "cell_type": "code",
   "execution_count": null,
   "metadata": {},
   "outputs": [],
   "source": []
  },
  {
   "cell_type": "markdown",
   "metadata": {},
   "source": [
    "## HTML and the World Wide Web\n",
    "\n",
    "* Layers\n",
    "  * Physical Wires transmitting bits\n",
    "  * IP and DNS - figuring out where to go\n",
    "  * Routing and TCP helps transfer packets\n",
    "  * HTTP/S - helps determine files\n",
    "    * World Wide Web (WWW)\n",
    "    * Tim Berners Lee  (WWW Consortium) \n",
    "    * Marc Andreesen (Netscape) \n",
    "    * CERN Laboratories - first Website\n",
    "    * End of 1993 - 26 websites in existence \n",
    "    * End of 1994 - Amazon, 1 million browsers\n",
    "  * By 1998 - 750,000 commercial sites \n",
    "* All of this is based on the layers - files transferred through multiple computers\n",
    "\n",
    "![Network Diagram](img/networkDiagram.png)\n",
    "\n",
    "[Code.org Video on HTML and WWW](https://youtu.be/kBXQZMmiA4s)"
   ]
  },
  {
   "cell_type": "markdown",
   "metadata": {},
   "source": [
    "### Hyper Text Transfer Protocol \n",
    "\n",
    "* Layer on top of the internet\n",
    "* Focuses on transferring files\n",
    "  * Browsers take all the files, and present the webpages!\n",
    "  * Uses Hypertext Markup Language (HTML)\n",
    "    * Realistically, just a text file with a set format!"
   ]
  },
  {
   "cell_type": "markdown",
   "metadata": {},
   "source": [
    "```html\n",
    "<html>\n",
    "   <head>\n",
    "     <title>This is the document title</title>\n",
    "   </head>\n",
    "   <body>\n",
    "      <h3>This is a heading - a rank 3 heading</h3>\n",
    "      <p>Hello this is a paragraph.</p>\n",
    "      <ul>\n",
    "         <li>this is a list item</li>\n",
    "         <li>Another list item</li>\n",
    "      </ul>\n",
    "    </body>\n",
    "</html>\n",
    "```\n",
    "<hr/>\n",
    "<html>\n",
    "   <head>\n",
    "     <title>This is the document title</title>\n",
    "   </head>\n",
    "   <body>\n",
    "      <h3>This is a heading - a rank 3 heading</h3>\n",
    "      <p>Hello this is a paragraph.</p>\n",
    "      <ul>\n",
    "         <li>this is a list item</li>\n",
    "         <li>Another list item</li>\n",
    "      </ul>\n",
    "    </body>\n",
    "</html>\n",
    "<hr />"
   ]
  },
  {
   "cell_type": "markdown",
   "metadata": {},
   "source": [
    "#### Adding Style: Cascading Style Sheets and Javascript\n",
    "\n",
    "```html\n",
    "<div style=\"background-color:green;color:white;padding:10px 10px 10px 10px;\">\n",
    "    <h3 style=\"color:yellow\">This should be yellow</h3>\n",
    "    <p>This will be white</p>\n",
    "</div>\n",
    "```\n",
    "<div style=\"background-color:green;color:white;padding: 10px 10px 10px 10px;\">\n",
    "    <h3 style=\"color:yellow\">This should be yellow</h3>\n",
    "    <p>This will be white</p>\n",
    "</div>\n",
    "\n",
    "![HTML evolution](img/modern_webpages.png)\n",
    "\n",
    "\n",
    "* The internet has evolved\n",
    "  * HTML pages (Semantic Hints)\n",
    "  * Cascading Style Sheets (Look and Feel)\n",
    "     * Color, semantics, and some layout\n",
    "  * Javascript (Functionality) \n",
    "     * ECMAScript ! \n",
    "     * Javascript is not Java\n",
    "  * Your computer talks to another computer\n",
    "     * Sending files back and forth!\n",
    "     * Your browser displays the file\n",
    "     * Similar to how a word doc displays files\n"
   ]
  },
  {
   "cell_type": "markdown",
   "metadata": {},
   "source": [
    "### Modern Web Applications\n",
    "\n",
    "* Server applications process data and information\n",
    "  * Written in multiple languages\n",
    "    * Python is very popular\n",
    "    * Java is popular\n",
    "    * Kotlin is popular\n",
    "    * Typescript using Node\n",
    "  * Generate strings to send across the internet\n",
    "  * Often \"dictionary like\" strings (JSON)\n",
    "* Browsers process the javascript\n",
    "  * Javascript handles interactions \n",
    "  * The webpage then becomes a way to present the information and events to the client\n",
    "    * Essentially, a user-interface!\n",
    "    * Human Centered Computing or Software Engineering are good concentrations for people interested in this!\n",
    "\n",
    "![Modern Web Applications](img/webapplications.png)"
   ]
  },
  {
   "cell_type": "markdown",
   "metadata": {},
   "source": [
    "### Overview\n",
    "\n",
    "* Modern webpages are applications\n",
    "* Interactions between different components\n",
    "  * Server, Browser, and the client!\n",
    "  * This all works because of the **layers** of the internet"
   ]
  }
 ],
 "metadata": {
  "interpreter": {
   "hash": "507d0580e2b527a70f64f40fb9b6583b2a77378ccde06f27533dbdd39bb8d03d"
  },
  "kernelspec": {
   "display_name": "Python 3.10.4 64-bit (windows store)",
   "language": "python",
   "name": "python3"
  },
  "language_info": {
   "codemirror_mode": {
    "name": "ipython",
    "version": 3
   },
   "file_extension": ".py",
   "mimetype": "text/x-python",
   "name": "python",
   "nbconvert_exporter": "python",
   "pygments_lexer": "ipython3",
   "version": "3.10.4"
  },
  "orig_nbformat": 4
 },
 "nbformat": 4,
 "nbformat_minor": 2
}
