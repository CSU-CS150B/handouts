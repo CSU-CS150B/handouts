{
 "cells": [
  {
   "cell_type": "markdown",
   "metadata": {},
   "source": [
    "# Culture and Coding: Python Unit 1 - <br> Introduction to Python While Loops\n",
    "\n",
    "Programming languages are based off of these principles:\n",
    "* Perform operations on numbers (both conditional and traditional)\n",
    "* Split code into smaller chunks to run as needed (functions)\n",
    "* Run specific code segments based on logical conditions (if/else statements)\n",
    "* Repeat code a specified number of times (loops)\n",
    "\n",
    "In this chapter we will explore Loops."
   ]
  },
  {
   "cell_type": "markdown",
   "metadata": {},
   "source": [
    "## Reading Check In Question\n",
    "As a reminder, we will have this from time to time to remind you reading *before* lecture"
   ]
  },
  {
   "cell_type": "code",
   "execution_count": 1,
   "metadata": {},
   "outputs": [],
   "source": [
    "# given the following function\n",
    "def simpleWhile(start, end):\n",
    "    counter = 0\n",
    "    while start < end:\n",
    "        counter = counter - 1\n",
    "        start = start + 1 \n",
    "    return counter"
   ]
  },
  {
   "cell_type": "code",
   "execution_count": 2,
   "metadata": {},
   "outputs": [
    {
     "name": "stdout",
     "output_type": "stream",
     "text": [
      "0\n"
     ]
    }
   ],
   "source": [
    "print(simpleWhile(12,12)) # question 1"
   ]
  },
  {
   "cell_type": "code",
   "execution_count": 3,
   "metadata": {},
   "outputs": [
    {
     "name": "stdout",
     "output_type": "stream",
     "text": [
      "0\n"
     ]
    }
   ],
   "source": [
    "print(simpleWhile(1, 0)) # question 2"
   ]
  },
  {
   "cell_type": "code",
   "execution_count": 4,
   "metadata": {},
   "outputs": [
    {
     "name": "stdout",
     "output_type": "stream",
     "text": [
      "-5\n"
     ]
    }
   ],
   "source": [
    "print(simpleWhile(0, 5)) # question 3"
   ]
  },
  {
   "cell_type": "markdown",
   "metadata": {},
   "source": [
    "## While Loop Format\n",
    "\n",
    "* The while loop says:\n",
    "    repeat this block of code **while** the condition is true\n",
    "\n",
    "```python\n",
    "while True:\n",
    "    print(\"infinite loop, breaks computer\")\n",
    "```\n",
    "\n",
    "Ideally, we want to use conditional operators to help us evaluate the condition!"
   ]
  },
  {
   "cell_type": "code",
   "execution_count": 5,
   "metadata": {},
   "outputs": [
    {
     "name": "stdout",
     "output_type": "stream",
     "text": [
      "0\n",
      "1\n",
      "2\n",
      "3\n",
      "4\n",
      "5\n",
      "6\n",
      "7\n",
      "8\n",
      "9\n"
     ]
    }
   ],
   "source": [
    "i = 0\n",
    "while i < 10:\n",
    "    print(i)\n",
    "    i += 1  # same as i = i + 1"
   ]
  },
  {
   "cell_type": "markdown",
   "metadata": {},
   "source": [
    "We can also compare strings, and use input!"
   ]
  },
  {
   "cell_type": "code",
   "execution_count": 6,
   "metadata": {},
   "outputs": [
    {
     "name": "stdout",
     "output_type": "stream",
     "text": [
      "I want to build a snowman!\n",
      "I want to build a snowman!\n",
      "I want to build a snowman!\n"
     ]
    }
   ],
   "source": [
    "check = ''\n",
    "while check != 'y':\n",
    "    print(\"I want to build a snowman!\")\n",
    "    check = input(\"Do you want to build a snowman? \")[0] # grab the first character of the response"
   ]
  },
  {
   "cell_type": "markdown",
   "metadata": {},
   "source": [
    "### In class activity\n",
    "\n",
    "You will do this activity write in the interactive slides (look for the interactive slides link in canvas)\n",
    "\n",
    "Scroll to this section, and you can work on the code! As always, one person works the rest directs. If the person coding is directing, you shouldn't be!\n",
    "\n",
    "#### Task One\n",
    "Modify the following loop to\n",
    "* build a string that has `10,9,8,7...0,`\n",
    "* hint: you will find one of these lines of code useful\n",
    "    * `ans += str(i) + ','` or\n",
    "    * `ans += f\"{i},\"`"
   ]
  },
  {
   "cell_type": "code",
   "execution_count": 8,
   "metadata": {},
   "outputs": [
    {
     "name": "stdout",
     "output_type": "stream",
     "text": [
      "10,9,8,7,6,5,4,3,2,1,0,\n"
     ]
    }
   ],
   "source": [
    "i = 10\n",
    "ans = \"\" # string to modify / append to \n",
    "## student code here\n",
    "while i >= 0:\n",
    "    ans += f\"{i},\"\n",
    "    i = i - 1\n",
    "\n",
    "print(ans)"
   ]
  },
  {
   "cell_type": "markdown",
   "metadata": {},
   "source": [
    "#### Task Two\n",
    "\n",
    "Modify the code so that is instead of printing 0, it prints \"blastoff\"\n",
    "\n",
    "For example:\n",
    "`10,9,8,7,6,5,4,3,2,1,Blastoff!`"
   ]
  },
  {
   "cell_type": "code",
   "execution_count": 15,
   "metadata": {},
   "outputs": [],
   "source": [
    "i = int(input(\"The final countdown: \"))\n",
    "ans = \"\"  # string to modify / append to\n",
    "## student code here\n",
    "if i > 0:\n",
    "    while i > 0: ## this is just the code above.. change it\n",
    "        ans += f\"{i},\"\n",
    "        i = i - 1\n",
    "    ans += \"Blastoff!\"\n",
    "    print(ans)\n"
   ]
  },
  {
   "cell_type": "markdown",
   "metadata": {},
   "source": [
    "That is the end of loops for now! We will continue to repeat ourselves throughout the semester.\n",
    "* we will have 'small' snippets of code most lectures\n",
    "\n",
    "Note: with functions, loops, conditions, and operations - you can start building programs!"
   ]
  },
  {
   "cell_type": "markdown",
   "metadata": {},
   "source": [
    "# Alan Turing, the engima and philospher\n",
    "\n",
    "<div style=\"max-width:300px\">\n",
    "    <img src=\"img/turing_headshot.jpg\" alt=\"Alan Turing headshot\") />\n",
    "</div>\n",
    "\n",
    "## World War II - Engima\n",
    "* Built the Bombe Machine\n",
    "    * Lead Programmer Jean Valentine \n",
    "* Trying to break the enigma code\n",
    "    * [Article](https://medium.com/analytics-vidhya/how-to-build-an-enigma-machine-virtualisation-in-python-b5476a1fd922) on writing the full machine in python\n",
    "    * Based on a number of Ciphers\n",
    "        * Most famously the **Caesar cipher**  \n",
    "            ![Caesar Cipher](img/ceasarCipher.png)        \n",
    "\n",
    "* The bomb machine\n",
    "    * Tested for every possible combination\n",
    "    * If they found it, they found a solution\n",
    "* Actually true with a lot of password breakers\n",
    "    * Why you want longer passwords, more combinations\n",
    "\n",
    "* Let's look at this in python!"
   ]
  },
  {
   "cell_type": "code",
   "execution_count": 23,
   "metadata": {},
   "outputs": [
    {
     "name": "stdout",
     "output_type": "stream",
     "text": [
      "Jgnnq\"rgqrng\n"
     ]
    }
   ],
   "source": [
    "def ceasar(msg, key):\n",
    "    counter = 0\n",
    "    coded = \"\"\n",
    "    while(counter < len(msg)) : # there are better loops for this, will learn about them in the future\n",
    "        coded = coded + chr(ord(msg[counter]) + key) # ord == convert to number, chr convert back to character\n",
    "        counter = counter + 1\n",
    "    return coded\n",
    "\n",
    "short_string = ceasar(\"Hello people\", 2)\n",
    "print(short_string)\n"
   ]
  },
  {
   "cell_type": "markdown",
   "metadata": {},
   "source": [
    "* \"Ada\" should convert to \"Cfc\"\n",
    "* Essentially shift the entire alphabet on over by 2 spots"
   ]
  },
  {
   "cell_type": "code",
   "execution_count": 19,
   "metadata": {},
   "outputs": [
    {
     "name": "stdout",
     "output_type": "stream",
     "text": [
      "TESTING 2\n",
      "TESTING 5\n"
     ]
    }
   ],
   "source": [
    "def shift_to_A(char):\n",
    "    value = ord(char) # take the value and convert it to ascii\n",
    "    max_shift = value - ord(\"A\")\n",
    "    if(max_shift > 25):\n",
    "        max_shift = value - ord(\"a\") # as A and a are two different characers\n",
    "    return max_shift\n",
    "\n",
    "print(\"TESTING\", shift_to_A(\"C\"))\n",
    "print(\"TESTING\", shift_to_A(\"f\"))"
   ]
  },
  {
   "cell_type": "code",
   "execution_count": 24,
   "metadata": {},
   "outputs": [
    {
     "name": "stdout",
     "output_type": "stream",
     "text": [
      "Ifmmp!qfpqmf\n",
      "Hello people\n",
      "Gdkkn\u001fodnokd\n",
      "Fcjjm\u001encmnjc\n",
      "Ebiil\u001dmblmib\n",
      "Dahhk\u001claklha\n",
      "C`ggj\u001bk`jkg`\n",
      "B_ffi\u001aj_ijf_\n",
      "A^eeh\u0019i^hie^\n",
      "@]ddg\u0018h]ghd]\n",
      "?\\ccf\u0017g\\fgc\\\n",
      ">[bbe\u0016f[efb[\n",
      "=Zaad\u0015eZdeaZ\n",
      "<Y``c\u0014dYcd`Y\n",
      ";X__b\u0013cXbc_X\n",
      ":W^^a\u0012bWab^W\n"
     ]
    }
   ],
   "source": [
    "def max_of_group(msg):\n",
    "    largest = 0\n",
    "    counter = 0\n",
    "    while(counter < len(msg)):\n",
    "        current = shift_to_A(msg[counter])\n",
    "        if current > largest:\n",
    "            largest = current\n",
    "        counter += 1\n",
    "    return largest # returns the largest max_shift\n",
    "\n",
    "def decode_options(msg):\n",
    "    total = max_of_group(msg)\n",
    "    counter = 1\n",
    "    while(counter < total):\n",
    "        print(ceasar(msg, -1 * counter))\n",
    "        counter += 1\n",
    "\n",
    "decode_options(short_string) # remember it is \"Cfc\"   "
   ]
  },
  {
   "cell_type": "markdown",
   "metadata": {},
   "source": [
    "It provided every permutation of the cipher! \n",
    "* someone would have to look at it\n",
    "* or have a file to compare it to known words to 'flag' certain lines\n",
    "* could also shorten output by removing answers that don't use valid characters\n",
    "\n",
    "Turing found out two characters every message had to reduce his posiblities! \n",
    "\n",
    "Let's try something like that! Our secret messages always are a question, ending in a question mark"
   ]
  },
  {
   "cell_type": "code",
   "execution_count": 25,
   "metadata": {},
   "outputs": [
    {
     "name": "stdout",
     "output_type": "stream",
     "text": [
      "Encoded message: Ecp\"Ocejkpgu\"VjkpmA\n",
      "Decoded options that end with ?\n",
      "Can Machines Think?\n"
     ]
    }
   ],
   "source": [
    "def decode_options(msg, print_option):\n",
    "    total = max_of_group(msg)\n",
    "    counter = 1\n",
    "    while(counter < total):\n",
    "        tmp = ceasar(msg, -1 * counter)\n",
    "        if tmp[-1] == print_option: ## if the last character is the one we know!\n",
    "            print(tmp)\n",
    "        counter += 1\n",
    "\n",
    "longer_msg = ceasar(\"Can Machines Think?\", 2)\n",
    "print(\"Encoded message:\", longer_msg)\n",
    "print(\"Decoded options that end with ?\")\n",
    "decode_options(longer_msg, '?') # we learned every message ends in a question  mark"
   ]
  },
  {
   "cell_type": "markdown",
   "metadata": {},
   "source": [
    "Notice - only one valid option comes out! \n",
    "\n",
    "All done with code you have already learned (except for the ord/chr command options)"
   ]
  },
  {
   "cell_type": "markdown",
   "metadata": {},
   "source": [
    "## The Turing Test\n",
    "\n",
    "* Computers are estimatation of the *Turing* machine (really a von Neumann machine)\n",
    "* There is also the *Turing* test\n",
    "    * Intelligence and Consciousness \n",
    "        * Too hard to test, not what matters\n",
    "    * Can a machine make me *think* it is a human\n",
    "        * That is all we really compare anyway\n",
    "    * Very hard test!\n",
    "        * Only considered passed just recently (million dollar prize)\n",
    "        * Argumented if was actually passed\n",
    "\n",
    "![Turing Test](img/turing_test.png)"
   ]
  },
  {
   "cell_type": "markdown",
   "metadata": {},
   "source": [
    "### On Critique of the Turing Test\n",
    "\n",
    "#### Chinese Room Argument \n",
    "* John Searle \n",
    "* Minds, Brains, and Programs - 1980\n",
    "* Even if a computer can give proper answers:\n",
    "    * Does it understand the answers?\n",
    "    * Example: \n",
    "        * A person is sitting in a room\n",
    "        * They get a saying in a foreign language\n",
    "        * The person has a 'giant book' with all possible and correct answers\n",
    "        * They answer back\n",
    "    * Sure the person getting the answers back - may think the person knows the other language\n",
    "    * But do they?\n",
    "\n",
    "> Discussion  \n",
    "> * Is the turing test valid?\n",
    "> * What does it meant to have conciousness?\n",
    "> * Can machines be intelligent?\n",
    ">   * What are some issues with \"trusting\" machines with that much freedom?\n",
    "\n",
    "\n",
    "## Distinction on AI/ML\n",
    "Artificial Intelligence and Machine Learning\n",
    "\n",
    "* Techniques used to estimate search spaces and answers to problems\n",
    "* Not actually saying machines can \"think\"\n",
    "\n",
    "\n",
    "This weekend, can you see how AI/ML is affecting your life? Try to find out!\n"
   ]
  }
 ],
 "metadata": {
  "interpreter": {
   "hash": "2ba540a0224cde77ca4ac53e72c437473ecb7ee9f5c9f57a02383d20eb80f2df"
  },
  "kernelspec": {
   "display_name": "Python 3.9.10 64-bit (windows store)",
   "language": "python",
   "name": "python3"
  },
  "language_info": {
   "codemirror_mode": {
    "name": "ipython",
    "version": 3
   },
   "file_extension": ".py",
   "mimetype": "text/x-python",
   "name": "python",
   "nbconvert_exporter": "python",
   "pygments_lexer": "ipython3",
   "version": "3.8.2"
  },
  "orig_nbformat": 4
 },
 "nbformat": 4,
 "nbformat_minor": 2
}
