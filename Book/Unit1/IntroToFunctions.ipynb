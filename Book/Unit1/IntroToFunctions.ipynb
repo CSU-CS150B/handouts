{
 "cells": [
  {
   "cell_type": "markdown",
   "metadata": {},
   "source": [
    "# Culture and Coding: Python - Unit 1 Functions\n",
    "The following 'book' and 'slides' is actually a jupyter notebook, which allows for Markdown and Python side by side. You may be reading this in the exported PDF form.\n",
    "\n",
    "The notebook file is available on the CS0: Culture and Coding Github."
   ]
  },
  {
   "cell_type": "markdown",
   "metadata": {},
   "source": [
    "## Introducing functions\n",
    "\n",
    "### Algebra introduced you to \"functions\"\n",
    "  * $f(x) = x^2$\n",
    "  * $f(3) = 9$\n",
    "  * $f(2) = 4$\n",
    "  * $f(5) = 25$\n",
    "  * But in coding, they are so much more!\n",
    "\n",
    "\n",
    "### Less technical\n",
    "  * A function is a repeatable and named set of instructions\n",
    "    * We define a block of code\n",
    "    * We give it a name\n",
    "    * We allow values to be *passed* into the code\n",
    "    * We return an answer (usually)\n",
    "\n",
    "### Why functions\n",
    "  * Keep the code we write in smaller chunks\n",
    "  * Helps with debugging and grading both\n",
    "   \n",
    "  "
   ]
  },
  {
   "cell_type": "code",
   "execution_count": 1,
   "metadata": {},
   "outputs": [
    {
     "name": "stdout",
     "output_type": "stream",
     "text": [
      "The first value is 42.0 and the second value is 21.0\n",
      "The first times the second is 882.0\n",
      "The first divided by the second is 2.0\n",
      "The second divided by the first is 0.5\n",
      "The first value is 22.0 and the second value is 5.0\n",
      "The first times the second is 110.0\n",
      "The first divided by the second is 4.4\n",
      "The second divided by the first is 0.22727272727272727\n",
      "The first value is 100.0 and the second value is 101.0\n",
      "The first times the second is 10100.0\n",
      "The first divided by the second is 0.9900990099009901\n",
      "The second divided by the first is 1.01\n",
      "The first value is 23.0 and the second value is 21.0\n",
      "The first times the second is 483.0\n",
      "The first divided by the second is 1.0952380952380953\n",
      "The second divided by the first is 0.9130434782608695\n",
      "The first value is 10.0 and the second value is 5.0\n",
      "The first times the second is 50.0\n",
      "The first divided by the second is 2.0\n",
      "The second divided by the first is 0.5\n"
     ]
    }
   ],
   "source": [
    "# The following is a valid python program\n",
    "\n",
    "first = float(input(\"Enter your first number\"))\n",
    "second = float(input(\"Enter your second number\"))\n",
    "print(\"The first value is\", first, \"and the second value is\", second)\n",
    "print(\"The first times the second is\", first*second)\n",
    "print(\"The first divided by the second is\", first / second)\n",
    "print(\"The second divided by the first is\", second / first)\n",
    "\n",
    "first = float(input(\"Enter your first number\"))\n",
    "second = float(input(\"Enter your second number\"))\n",
    "print(\"The first value is\", first, \"and the second value is\", second)\n",
    "print(\"The first times the second is\", first*second)\n",
    "print(\"The first divided by the second is\", first / second)\n",
    "print(\"The second divided by the first is\", second / first)\n",
    "\n",
    "first = float(input(\"Enter your first number\"))\n",
    "second = float(input(\"Enter your second number\"))\n",
    "print(\"The first value is\", first, \"and the second value is\", second)\n",
    "print(\"The first times the second is\", first*second)\n",
    "print(\"The first divided by the second is\", first / second)\n",
    "print(\"The second divided by the first is\", second / first)\n",
    "\n",
    "first = float(input(\"Enter your first number\"))\n",
    "second = float(input(\"Enter your second number\"))\n",
    "print(\"The first value is\", first, \"and the second value is\", second)\n",
    "print(\"The first times the second is\", first*second)\n",
    "print(\"The first divided by the second is\", first / second)\n",
    "print(\"The second divided by the first is\", second / first)\n",
    "\n",
    "first = float(input(\"Enter your first number\"))\n",
    "second = float(input(\"Enter your second number\"))\n",
    "print(\"The first value is\", first, \"and the second value is\", second)\n",
    "print(\"The first times the second is\", first*second)\n",
    "print(\"The first divided by the second is\", first / second)\n",
    "print(\"The second divided by the first is\", second / first)\n"
   ]
  },
  {
   "cell_type": "markdown",
   "metadata": {},
   "source": [
    "Great! but...\n",
    "* My client just told me the output should look like..\n",
    "```\n",
    "10.0 * 20.0 is 200.0\n",
    "10.0 / 20.0 is 0.5\n",
    "20.0 / 10.0 is 2.0\n",
    "```\n",
    "* Now I have to change *every* item I copied and pasted my code!"
   ]
  },
  {
   "cell_type": "markdown",
   "metadata": {},
   "source": [
    "## Functions a better way to write code\n",
    "\n",
    "* Allows for **resuable** blocks of code\n",
    "* These resuable blocks of code\n",
    "  * Are independant of the rest of the blocks (for now)\n",
    "  * Allows for *isolation* of variables \n",
    "  * Allows to easily fix and debug code\n",
    "  * Keeps my code into smaller snippets or tasks\n",
    "    * One task at a time.. means a zen to coding\n",
    "\n",
    "### Function format in python\n",
    "\n",
    "```python\n",
    "def name(parameters):\n",
    "  # a line of code\n",
    "  # a line of code\n",
    "```\n",
    "\n",
    "* `def` means \"**def**ine function\"\n",
    "* Name can be any valid identifier\n",
    "* Parameters are values the function can use\n",
    "  * They are variables that are **passed** into the function, like x in $f(x)$\n",
    "  * You can have more than one, seperated by commas\n",
    "* Let's write one"
   ]
  },
  {
   "cell_type": "code",
   "execution_count": 2,
   "metadata": {},
   "outputs": [],
   "source": [
    "def multiplyDividePrint(first, second):\n",
    "    print(\"The first value is\", first, \"and the second value is\", second)\n",
    "    print(first, \"*\", second,\"is\", first*second)\n",
    "    print(first, \"/\", second,\"is\", first / second)\n",
    "    print(second, \"/\", first, \"is\", second / first)\n"
   ]
  },
  {
   "cell_type": "markdown",
   "metadata": {},
   "source": [
    "* Running this code has no output!\n",
    "* What happens is:\n",
    "    *  `multiplyDividePrint(value1, value2)` is stored in memory\n",
    "    *  When I need to run those lines of code\n",
    "        * Call or \"invoke\" the function using `multipleDividePrint(val, val)`\n",
    "        * Similiar to how you have already been using `print()` (which is a function someone else wrote!)\n",
    "\n"
   ]
  },
  {
   "cell_type": "code",
   "execution_count": 3,
   "metadata": {},
   "outputs": [
    {
     "name": "stdout",
     "output_type": "stream",
     "text": [
      "The first value is 42.0 and the second value is 21.0\n",
      "42.0 * 21.0 is 882.0\n",
      "42.0 / 21.0 is 2.0\n",
      "21.0 / 42.0 is 0.5\n"
     ]
    }
   ],
   "source": [
    "val1 = float(input(\"Enter your first value: \"))\n",
    "val2 = float(input(\"Enter your second value: \"))\n",
    "\n",
    "multiplyDividePrint(val1, val2)  #the value in val1 and val2 gets copied to the function\n"
   ]
  },
  {
   "cell_type": "markdown",
   "metadata": {},
   "source": [
    "## Multiple Functions\n",
    "\n",
    "You should liberally use functions, as you need. \n",
    "Take the above code, and it can be its own function"
   ]
  },
  {
   "cell_type": "code",
   "execution_count": 4,
   "metadata": {},
   "outputs": [],
   "source": [
    "def tinyProgram():\n",
    "    val1 = float(input(\"Enter your first value: \"))\n",
    "    val2 = float(input(\"Enter your second value: \"))\n",
    "    multiplyDividePrint(val1, val2)\n"
   ]
  },
  {
   "cell_type": "markdown",
   "metadata": {},
   "source": [
    "And now, I can call `tinyProgram()` multiple times "
   ]
  },
  {
   "cell_type": "code",
   "execution_count": 5,
   "metadata": {},
   "outputs": [
    {
     "name": "stdout",
     "output_type": "stream",
     "text": [
      "The first value is 42.0 and the second value is 21.0\n",
      "42.0 * 21.0 is 882.0\n",
      "42.0 / 21.0 is 2.0\n",
      "21.0 / 42.0 is 0.5\n",
      "-----\n",
      "The first value is 13.0 and the second value is 12.0\n",
      "13.0 * 12.0 is 156.0\n",
      "13.0 / 12.0 is 1.0833333333333333\n",
      "12.0 / 13.0 is 0.9230769230769231\n",
      "-----\n",
      "The first value is 10.0 and the second value is 13.0\n",
      "10.0 * 13.0 is 130.0\n",
      "10.0 / 13.0 is 0.7692307692307693\n",
      "13.0 / 10.0 is 1.3\n"
     ]
    }
   ],
   "source": [
    "tinyProgram()\n",
    "print(\"-----\") # just here to make output cleaner\n",
    "tinyProgram()\n",
    "print(\"-----\")\n",
    "tinyProgram() # notice I need the parens - that is critical, even without parameters"
   ]
  },
  {
   "cell_type": "markdown",
   "metadata": {},
   "source": [
    "## Return Types\n",
    "\n",
    "* A key feature of functional programming\n",
    "    * functions should ideally return answers\n",
    "    * Go do the work, give me an answer to use\n",
    "* `return` is a command to:\n",
    "    * return the value of whatever is after it (variable usually)\n",
    "    * the value is then used in place of the function in the calling code"
   ]
  },
  {
   "cell_type": "code",
   "execution_count": 6,
   "metadata": {},
   "outputs": [],
   "source": [
    "def getDivideString(firstValue, secondValue):\n",
    "    rtn_str = str(firstValue) + \" / \" + str(secondValue) + \" is \" + str( firstValue / secondValue ) + \".\"\n",
    "    return rtn_str"
   ]
  },
  {
   "cell_type": "markdown",
   "metadata": {},
   "source": [
    "Note: we will come up with a better way to write the string concatination next lecture."
   ]
  },
  {
   "cell_type": "code",
   "execution_count": 7,
   "metadata": {},
   "outputs": [
    {
     "name": "stdout",
     "output_type": "stream",
     "text": [
      "42 / 21 is 2.0.\n",
      "21 / 42 is 0.5.\n"
     ]
    }
   ],
   "source": [
    "def tinyProgramWithReturns():\n",
    "    val1 = int(input(\"Enter your first value: \"))\n",
    "    val2 = int(input(\"Enter your second value: \"))\n",
    "    answer = getDivideString(val1, val2)\n",
    "    print(answer)\n",
    "    print(getDivideString(val2, val1))\n",
    "\n",
    "tinyProgramWithReturns()"
   ]
  },
  {
   "cell_type": "markdown",
   "metadata": {},
   "source": [
    "In `tinyProgramWithReturns()` we \n",
    "* asked for client input, storing the answer\n",
    "    * notice both int() and input() are functions, that both return values\n",
    "    * input returns the client input as a string\n",
    "    * int() takes the string, and returns an whole number\n",
    "* called `getDivideString` with val1 being copied for firstValue, and val2 with secondValue\n",
    "    * we stored the returned string into `answer`\n",
    "* printed the value stored in `answer`\n",
    "* called `getDivideString` with val1 being copoied into SecondValue, and val2 with firstValue\n",
    "    * notice: the same function is used, but in different ways\n",
    "    * the value returned is passed into the `print()` function\n",
    "\n",
    "#### Notice\n",
    "We can use the function in a variety of ways, but we just **focus** on a value is being given back to use. "
   ]
  },
  {
   "cell_type": "markdown",
   "metadata": {},
   "source": [
    "## Inclass Coding Activity: Your First Functions\n",
    "\n",
    "There is an inclass activity in your textbook. Go to canvas to click through the link.\n",
    "* Second one person at your table to program\n",
    "  * Ideally the person with the *least* experience\n",
    "  * Everyone work and guide that person in solving the problem! \n",
    "* For this activity, you will write two functions to help build a working program. "
   ]
  },
  {
   "cell_type": "code",
   "execution_count": 8,
   "metadata": {},
   "outputs": [
    {
     "name": "stdout",
     "output_type": "stream",
     "text": [
      "Lovelace, Ada\n"
     ]
    }
   ],
   "source": [
    "def nameFormat(first, last):\n",
    "    return last + \", \" + first;\n",
    "\n",
    "print(nameFormat(\"Ada\", \"Lovelace\"))"
   ]
  },
  {
   "cell_type": "markdown",
   "metadata": {},
   "source": [
    "## Important \"Gotchas\" to watch for\n",
    "\n",
    "* Python processes lines in order\n",
    "  * which means you want to define a function *before* using it!\n",
    "* the *scope* of a function is local\n",
    "    * meaning the variables only exist in the function\n",
    "    * unless you return them (or do something special)"
   ]
  },
  {
   "cell_type": "code",
   "execution_count": 30,
   "metadata": {},
   "outputs": [
    {
     "name": "stdout",
     "output_type": "stream",
     "text": [
      "hello\n",
      "10\n"
     ]
    }
   ],
   "source": [
    "first = 10\n",
    "\n",
    "def myfunction():\n",
    "    first = \"hello\"\n",
    "    print(first)  # what is printed to the screen\n",
    "\n",
    "myfunction() \n",
    "print(first) # what is printed to the screen"
   ]
  },
  {
   "cell_type": "markdown",
   "metadata": {},
   "source": [
    "## Thinking Further: Functional Programming \n",
    "\n",
    "* Focus on divide (decomposition)\n",
    "    * your problem is large, break into smaller parts\n",
    "* Functions should be \"pure\"\n",
    "    * use parameters\n",
    "    * return values\n",
    "    * only one task\n",
    "    * don't modify other code (no side affects)\n",
    "* Helps with maintainablity\n",
    "    * hot code deployment\n",
    "    * unit testing is easier\n",
    "    * lazy loading\n",
    "* The most common programming model for web application programming \n",
    "    * is a functional model\n",
    "    * objects that load at different rates\n",
    "    * and must be maintained based on the return values\n",
    "* Overall: It is a way to **think** about programming\n",
    "    * we move from steps to repeatable actions that build\n"
   ]
  }
 ],
 "metadata": {
  "interpreter": {
   "hash": "2ba540a0224cde77ca4ac53e72c437473ecb7ee9f5c9f57a02383d20eb80f2df"
  },
  "kernelspec": {
   "display_name": "Python 3.9.10 64-bit (windows store)",
   "language": "python",
   "name": "python3"
  },
  "language_info": {
   "codemirror_mode": {
    "name": "ipython",
    "version": 3
   },
   "file_extension": ".py",
   "mimetype": "text/x-python",
   "name": "python",
   "nbconvert_exporter": "python",
   "pygments_lexer": "ipython3",
   "version": "3.8.2"
  },
  "orig_nbformat": 4
 },
 "nbformat": 4,
 "nbformat_minor": 2
}
