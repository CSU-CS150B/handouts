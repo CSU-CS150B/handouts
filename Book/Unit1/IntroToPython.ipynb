{
 "cells": [
  {
   "cell_type": "markdown",
   "metadata": {},
   "source": [
    "# Culture and Coding: Python - Unit 1 Coding Fundamentals\n",
    "\n",
    "The following 'book' and 'slides' is actually a jupyter notebook, which allows for Markdown and Python side by side. You may be reading this in the exported PDF form. \n",
    "\n",
    "The notebook file is available on the CS0: Culture and Coding Github."
   ]
  },
  {
   "cell_type": "markdown",
   "metadata": {},
   "source": [
    "### Python: A Modern Programming Language\n",
    "\n",
    "* Focuses on ‘scripting’\n",
    "* Interpreted  \n",
    "  * Takes another program to run the code\n",
    "  * LISP: first __interpreted__ language\n",
    "    * 1959 John McCarthy and Steve Russell\n",
    "    * Focused on functions / mathmatical notation\n",
    "  * Python was highly inspired by this idea\n",
    "    * Considered a functional language\n",
    "* Counter Point\n",
    "  * Java, C, C++, etc are compiled language\n",
    "  * Grace Hopper developed the first compilier\n",
    "\n",
    "* Common Uses\n",
    "  * Research\n",
    "  * Data science \n",
    "  * Machine learning and Artificial Intelligence \n",
    "  * Web development (backend) \n",
    "  * Full applications and games \n",
    "\n",
    "Becoming more common, and one of the fast growing languages. \n"
   ]
  },
  {
   "cell_type": "markdown",
   "metadata": {},
   "source": [
    "## Programs are\n",
    "* A recipe with certain steps\n",
    "* They are followed in order\n",
    "\n",
    "### A computer only  does what you tell it\n",
    "* It can’t guess\n",
    "* It can’t assume\n",
    "* It follows the instructions\n",
    "   * for better or worse\n",
    "   * Line by line, unless we say otherwise"
   ]
  },
  {
   "cell_type": "markdown",
   "metadata": {},
   "source": [
    "## Setting Variables\n",
    "\n",
    "A variable \n",
    "* a \"named\" item, that stores a value\n",
    "* Indentifier - another term we use for the variable name\n",
    "* We set values to the variables using the equal(**=**) sign. "
   ]
  },
  {
   "cell_type": "code",
   "execution_count": 3,
   "metadata": {},
   "outputs": [],
   "source": [
    "var = 10\n",
    "var = \"Ada\"\n",
    "puppyCounter = 100\n",
    "names_have_meaning = 12.0"
   ]
  },
  {
   "cell_type": "markdown",
   "metadata": {},
   "source": [
    "The value 10 is stored in var. At any point, I can reference `var` and 10 will be returned. \n",
    "\n",
    "The same is true for other variables referenced *before* the print."
   ]
  },
  {
   "cell_type": "code",
   "execution_count": 4,
   "metadata": {},
   "outputs": [
    {
     "name": "stdout",
     "output_type": "stream",
     "text": [
      "Ada\n",
      "100\n",
      "12.0\n"
     ]
    }
   ],
   "source": [
    "print(var)\n",
    "print(puppyCounter)\n",
    "print(names_have_meaning)"
   ]
  },
  {
   "cell_type": "markdown",
   "metadata": {},
   "source": [
    "I can also change the value of var at any point!"
   ]
  },
  {
   "cell_type": "code",
   "execution_count": 5,
   "metadata": {},
   "outputs": [
    {
     "name": "stdout",
     "output_type": "stream",
     "text": [
      "12\n",
      "13\n"
     ]
    }
   ],
   "source": [
    "var = 12\n",
    "print(var)\n",
    "var = 13\n",
    "print(var)"
   ]
  },
  {
   "cell_type": "markdown",
   "metadata": {},
   "source": [
    "I can perform mathmatical operations, mainly basic elementary operations, such as:\n",
    "\n",
    "* `+` addition\n",
    "* `-` subtraction\n",
    "* `*` multiplication\n",
    "* `/` division"
   ]
  },
  {
   "cell_type": "code",
   "execution_count": 7,
   "metadata": {},
   "outputs": [
    {
     "name": "stdout",
     "output_type": "stream",
     "text": [
      "14\n",
      "2.5\n"
     ]
    }
   ],
   "source": [
    "new_var = 10+4\n",
    "print(new_var)\n",
    "myMeaningfulName = 10 / 4\n",
    "print(myMeaningfulName)"
   ]
  },
  {
   "cell_type": "markdown",
   "metadata": {},
   "source": [
    "## Getting Input from the Client\n",
    "\n",
    "* We want programs to be interactive\n",
    "* `input` is a python command that\n",
    "    * Requests the client to enter information\n",
    "    * Allows a 'prompt', so user knows what that input is\n",
    "    * Returns the answer, which you have to store!\n",
    "* Format:\n",
    "    * variable = **input**(\"String prompt\")"
   ]
  },
  {
   "cell_type": "code",
   "execution_count": 8,
   "metadata": {},
   "outputs": [
    {
     "data": {
      "text/plain": [
       "'Albert'"
      ]
     },
     "execution_count": 8,
     "metadata": {},
     "output_type": "execute_result"
    }
   ],
   "source": [
    "input(\"What is your name?\") # wait, what do you do with the answer?"
   ]
  },
  {
   "cell_type": "code",
   "execution_count": 9,
   "metadata": {},
   "outputs": [
    {
     "name": "stdout",
     "output_type": "stream",
     "text": [
      "Hello, Joe\n"
     ]
    }
   ],
   "source": [
    "name = input(\"What is your name?\")\n",
    "print(\"Hello, \" + name)"
   ]
  },
  {
   "cell_type": "markdown",
   "metadata": {},
   "source": [
    "## Wanting Numbers\n",
    "\n",
    "* Input always returns a \"string\" \n",
    "    * A collection of characters in a set order\n",
    "* However, sometimes we want numbers\n",
    "    * We have to be explicit! Python needs to know!\n",
    "* types conversion\n",
    "    * `int(value)` converts value to a **whole** number\n",
    "    * `float(value)` converts value to a **floating point** (has a decimal) number\n",
    "    * `str(value)` converts a number to a string. \n",
    "\n",
    "**Pro Topic**: While python is 'weakly typed', type still matters!"
   ]
  },
  {
   "cell_type": "code",
   "execution_count": 10,
   "metadata": {},
   "outputs": [
    {
     "ename": "TypeError",
     "evalue": "unsupported operand type(s) for /: 'str' and 'int'",
     "output_type": "error",
     "traceback": [
      "\u001b[0;31m---------------------------------------------------------------------------\u001b[0m",
      "\u001b[0;31mTypeError\u001b[0m                                 Traceback (most recent call last)",
      "\u001b[0;32m/var/folders/5v/69k5qxr937d_fw8hwd12qb340000gn/T/ipykernel_33208/1941047333.py\u001b[0m in \u001b[0;36m<module>\u001b[0;34m\u001b[0m\n\u001b[1;32m      1\u001b[0m \u001b[0mage\u001b[0m \u001b[0;34m=\u001b[0m \u001b[0minput\u001b[0m\u001b[0;34m(\u001b[0m\u001b[0;34m\"What is your age?\"\u001b[0m\u001b[0;34m)\u001b[0m\u001b[0;34m\u001b[0m\u001b[0;34m\u001b[0m\u001b[0m\n\u001b[0;32m----> 2\u001b[0;31m \u001b[0mhalf_age\u001b[0m \u001b[0;34m=\u001b[0m \u001b[0mage\u001b[0m \u001b[0;34m/\u001b[0m \u001b[0;36m2\u001b[0m  \u001b[0;31m## this will cause an error!\u001b[0m\u001b[0;34m\u001b[0m\u001b[0;34m\u001b[0m\u001b[0m\n\u001b[0m",
      "\u001b[0;31mTypeError\u001b[0m: unsupported operand type(s) for /: 'str' and 'int'"
     ]
    }
   ],
   "source": [
    "age = input(\"What is your age?\")\n",
    "half_age = age / 2  ## this will cause an error!"
   ]
  },
  {
   "cell_type": "code",
   "execution_count": 11,
   "metadata": {},
   "outputs": [
    {
     "name": "stdout",
     "output_type": "stream",
     "text": [
      "This is your half age! 21.0\n"
     ]
    }
   ],
   "source": [
    "age = int(input(\"What is your age?\"))\n",
    "half_age = age / 2\n",
    "print(\"This is your half age!\", half_age)"
   ]
  },
  {
   "cell_type": "markdown",
   "metadata": {},
   "source": [
    "## Your Turn!\n",
    "\n",
    "* Go to your canvas shell, you will find \"In Class Activity: Intro to Python\n",
    "* You will work on the assignment in __pairs__, with **one** person coding\n",
    "  * the person coding should be the one with the **least** experience\n",
    "  * everyone else guide them!"
   ]
  }
 ],
 "metadata": {
  "interpreter": {
   "hash": "31f2aee4e71d21fbe5cf8b01ff0e069b9275f58929596ceb00d14d90e3e16cd6"
  },
  "kernelspec": {
   "display_name": "Python 3.8.2 64-bit",
   "language": "python",
   "name": "python3"
  },
  "language_info": {
   "codemirror_mode": {
    "name": "ipython",
    "version": 3
   },
   "file_extension": ".py",
   "mimetype": "text/x-python",
   "name": "python",
   "nbconvert_exporter": "python",
   "pygments_lexer": "ipython3",
   "version": "3.8.2"
  },
  "orig_nbformat": 4
 },
 "nbformat": 4,
 "nbformat_minor": 2
}
