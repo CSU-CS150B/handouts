{
 "cells": [
  {
   "cell_type": "markdown",
   "metadata": {},
   "source": [
    "# Culture and Coding: Python - Unit 1 Coding Fundamentals\n",
    "\n",
    "The following 'book' and 'slides' is actually a jupyter notebook, which allows for Markdown and Python side by side. You may be reading this in the exported PDF form. \n",
    "\n",
    "The notebook file is available on the CS0: Culture and Coding Github."
   ]
  },
  {
   "cell_type": "markdown",
   "metadata": {},
   "source": [
    "### Python: A Modern Programming Language\n",
    "\n",
    "* Focuses on ‘scripting’\n",
    "* Interpreted  \n",
    "  * Takes another program to run the code\n",
    "\n",
    "* Common Uses\n",
    "  * Research\n",
    "  * Data science \n",
    "  * Machine learning and Artificial Intelligence \n",
    "  * Web development (backend) \n",
    "  * Full applications and games \n",
    "\n",
    "Becoming more common, and one of the fast growing languages. \n"
   ]
  },
  {
   "cell_type": "markdown",
   "metadata": {},
   "source": [
    "## Programs are\n",
    "* A recipe with certain steps\n",
    "* They are followed in order\n",
    "\n",
    "### A computer only  does what you tell it\n",
    "* It can’t guess\n",
    "* It can’t assume\n",
    "* It follows the instructions\n",
    "   * for better or worse\n",
    "   * Line by line, unless we say otherwise"
   ]
  },
  {
   "cell_type": "markdown",
   "metadata": {},
   "source": [
    "## Setting Variables\n",
    "\n",
    "A variable \n",
    "* a \"named\" item, that stores a value\n",
    "* Indentifier - another term we use for the variable name\n",
    "* We set values to the variables using the equal(**=**) sign. "
   ]
  },
  {
   "cell_type": "code",
   "execution_count": 8,
   "metadata": {},
   "outputs": [],
   "source": [
    "var = 10\n",
    "puppyCounter = 100\n",
    "names_have_meaning = 12.0"
   ]
  },
  {
   "cell_type": "markdown",
   "metadata": {},
   "source": [
    "The value 10 is stored in var. At any point, I can reference `var` and 10 will be returned. \n",
    "\n",
    "The same is true for other variables referenced *before* the print."
   ]
  },
  {
   "cell_type": "code",
   "execution_count": 9,
   "metadata": {},
   "outputs": [
    {
     "name": "stdout",
     "output_type": "stream",
     "text": [
      "10\n",
      "100\n",
      "12.0\n"
     ]
    }
   ],
   "source": [
    "print(var)\n",
    "print(puppyCounter)\n",
    "print(names_have_meaning)"
   ]
  },
  {
   "cell_type": "markdown",
   "metadata": {},
   "source": [
    "I can also change the value of var at any point!"
   ]
  },
  {
   "cell_type": "code",
   "execution_count": null,
   "metadata": {},
   "outputs": [],
   "source": [
    "var = 12\n",
    "print(var)\n",
    "var = 13\n",
    "print(var)"
   ]
  },
  {
   "cell_type": "markdown",
   "metadata": {},
   "source": [
    "I can perform mathmatical operations, mainly basic elementary operations, such as:\n",
    "\n",
    "* `+` addition\n",
    "* `-` subtraction\n",
    "* `*` multiplication\n",
    "* `/` division"
   ]
  },
  {
   "cell_type": "code",
   "execution_count": null,
   "metadata": {},
   "outputs": [],
   "source": [
    "new_var = 10+4\n",
    "print(new_var)"
   ]
  }
 ],
 "metadata": {
  "interpreter": {
   "hash": "31f2aee4e71d21fbe5cf8b01ff0e069b9275f58929596ceb00d14d90e3e16cd6"
  },
  "kernelspec": {
   "display_name": "Python 3.8.2 64-bit",
   "language": "python",
   "name": "python3"
  },
  "language_info": {
   "codemirror_mode": {
    "name": "ipython",
    "version": 3
   },
   "file_extension": ".py",
   "mimetype": "text/x-python",
   "name": "python",
   "nbconvert_exporter": "python",
   "pygments_lexer": "ipython3",
   "version": "3.9.10"
  },
  "orig_nbformat": 4
 },
 "nbformat": 4,
 "nbformat_minor": 2
}
