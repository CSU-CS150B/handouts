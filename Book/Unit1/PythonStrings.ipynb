{
 "cells": [
  {
   "cell_type": "markdown",
   "metadata": {},
   "source": [
    "# Culture and Coding: Python - Unit 1 Strings\n",
    "\n",
    "The following 'book' and 'slides' is actually a jupyter notebook, which allows for Markdown and Python side by side. You may be reading this in the exported PDF form.\n",
    "\n",
    "The notebook file is available on the CS0: Culture and Coding Github."
   ]
  },
  {
   "cell_type": "markdown",
   "metadata": {},
   "source": [
    "## Words\n",
    "* Have you really thought about the words you use?\n",
    "    * What conteext surrounds those words?\n",
    "    * Romeo and Juliet\n",
    "        * What meaning does that bring?\n",
    "        * Does it have a connectation to you?\n",
    "    * Famous Star Trek TNG episode: \n",
    "        * And the walls fell\n",
    "    \n",
    "\n",
    "## Game Time!\n",
    "\n",
    "* At your table, play Hang'um. \n",
    "* Try to use words (or phrases) from python or related to programming\n",
    "* If the word has a space, make sure to include that!\n",
    "* Example:\n",
    "\n",
    "   ```\n",
    "   H e l l o   W o r l d\n",
    "   - - - - - - - - - - -\n",
    "   ```"
   ]
  },
  {
   "cell_type": "markdown",
   "metadata": {},
   "source": [
    "### Next Step\n",
    "\n",
    "* Take the word you have\n",
    "* Put numbers below the dashes\n",
    "    * Start counting at 0\n",
    "   ```\n",
    "    G  u  i  d  o     v  a  n     R  o  s  s  u  m \n",
    "    -  -  -  -  -  -  -  -  -  -  -  -  -  -  -  -\n",
    "    0  1  2  3  4  5  6  7  8  9  10 11 12 13 14 15\n",
    "   ```\n",
    "\n",
    "* This is **string**\n",
    "    * Strings are characters in specified order\n",
    "    * We do it all the time (crosswords, hang'em, wordly, etc)\n",
    "    * But we don't think of it that way\n",
    "\n",
    "* A string has\n",
    "    * characters in order\n",
    "    * functions associated with it\n",
    "    * indexes for each location\n",
    "\n",
    "* Given the indices 0-15: **what can we tell about the string?**"
   ]
  }
 ],
 "metadata": {
  "language_info": {
   "name": "python"
  },
  "orig_nbformat": 4
 },
 "nbformat": 4,
 "nbformat_minor": 2
}
