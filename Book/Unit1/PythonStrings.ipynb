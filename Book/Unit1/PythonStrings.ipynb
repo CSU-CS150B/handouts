{
 "cells": [
  {
   "cell_type": "markdown",
   "metadata": {},
   "source": [
    "# Culture and Coding: Python - Unit 1 Strings\n",
    "\n",
    "The following 'book' and 'slides' is actually a jupyter notebook, which allows for Markdown and Python side by side. You may be reading this in the exported PDF form.\n",
    "\n",
    "The notebook file is available on the CS0: Culture and Coding Github."
   ]
  },
  {
   "cell_type": "markdown",
   "metadata": {},
   "source": [
    "## Words\n",
    "* Have you really thought about the words you use?\n",
    "    * What conteext surrounds those words?\n",
    "    * Romeo and Juliet\n",
    "        * What meaning does that bring?\n",
    "        * Does it have a connectation to you?\n",
    "    * Famous Star Trek TNG episode: \n",
    "        * And the walls fell\n",
    "    \n",
    "\n",
    "## Game Time!\n",
    "\n",
    "* Play Hang'um. \n",
    "* Try to use words (or phrases) from python or related to programming\n",
    "* If the word has a space, make sure to include that!\n",
    "* Example:\n",
    "\n",
    "   ```\n",
    "   H e l l o   W o r l d\n",
    "   - - - - - - - - - - -\n",
    "   ```"
   ]
  },
  {
   "cell_type": "markdown",
   "metadata": {},
   "source": [
    "### Next Step\n",
    "\n",
    "* Take the word you have\n",
    "* Put numbers below the dashes\n",
    "    * Start counting at 0\n",
    "       ```\n",
    "        G  u  i  d  o     v  a  n     R  o  s  s  u  m \n",
    "        -  -  -  -  -  -  -  -  -  -  -  -  -  -  -  -\n",
    "        0  1  2  3  4  5  6  7  8  9  10 11 12 13 14 15\n",
    "       ```\n",
    "This is a **string**\n",
    "   * Strings are characters in specified order\n",
    "     * Often called an \"order sequence of characters\"\n",
    "   * We do it all the time (crosswords, hang'em, wordly, etc)\n",
    "   * But we don't think of it that way\n",
    "\n",
    "A string has\n",
    "   * an ordered sequence of characters\n",
    "   * functions associated with it\n",
    "   * indexes for each location\n",
    "\n",
    "Given the indices 0-15: **what can we tell about the string?**\n",
    "   * The first character is G at location 0\n",
    "   * The number of characters is 16\n",
    "      * Since we start counting at 0, the length is always the last index +1\n",
    "   * Similiarly, the last character is at length-1 (location 15)\n",
    "   * The middle of the string is length / 2\n",
    "      * In this case, it is better to round down (truncate) if the string is odd in length\n",
    "\n",
    "Lets look at code!"
   ]
  },
  {
   "cell_type": "markdown",
   "metadata": {},
   "source": [
    "> Shoutout:  \n",
    "> [Guido van Rossum](https://en.wikipedia.org/wiki/Guido_van_Rossum) is the creator of the python programming language"
   ]
  },
  {
   "cell_type": "code",
   "execution_count": 3,
   "metadata": {},
   "outputs": [
    {
     "name": "stdout",
     "output_type": "stream",
     "text": [
      "Guido van Rossum\n",
      "Van Rossum\n",
      "https://gvanrossum.github.io/\n",
      "Guido van Rossum's homepage is https://gvanrossum.github.io/\n"
     ]
    }
   ],
   "source": [
    "pythonCreator = \"Guido van Rossum\"\n",
    "lastOnly = \"Van Rossum\" # Dutch naming conventions according to Guido\n",
    "homepage = \"https://gvanrossum.github.io/\"\n",
    "\n",
    "print(pythonCreator)\n",
    "print(lastOnly)\n",
    "print(homepage)\n",
    "\n",
    "# let's concatinate the strings using +\n",
    "\n",
    "print(pythonCreator + \"'s homepage is \" + homepage)"
   ]
  },
  {
   "cell_type": "markdown",
   "metadata": {},
   "source": [
    "> **Practice TASK**  \n",
    "> Reading the slides as a notebook/interactively? You should change the variables above to be someone else's name, and their homepage. Hit the run arrow to see how it changes the output."
   ]
  },
  {
   "cell_type": "markdown",
   "metadata": {},
   "source": [
    "# Functions for Strings\n",
    "\n",
    "There are a number of functions for strings. Let's look at two for now.\n",
    "\n",
    "* `str(val)`  \n",
    "   * Takes any number and converts it to be a string. Called 'casting'. \n",
    "   * You have used this when adding a number to a string for printing.\n",
    "* `len(str)`\n",
    "   * Gives you the length of any sequence\n",
    "   * A string is a sequence of characters, so gives you length of the string!"
   ]
  },
  {
   "cell_type": "code",
   "execution_count": 6,
   "metadata": {},
   "outputs": [
    {
     "ename": "TypeError",
     "evalue": "can only concatenate str (not \"int\") to str",
     "output_type": "error",
     "traceback": [
      "\u001b[1;31m---------------------------------------------------------------------------\u001b[0m",
      "\u001b[1;31mTypeError\u001b[0m                                 Traceback (most recent call last)",
      "\u001b[1;32m~\\AppData\\Local\\Temp/ipykernel_25436/3440036219.py\u001b[0m in \u001b[0;36m<module>\u001b[1;34m\u001b[0m\n\u001b[0;32m      1\u001b[0m \u001b[0mage\u001b[0m \u001b[1;33m=\u001b[0m \u001b[1;36m50\u001b[0m\u001b[1;33m\u001b[0m\u001b[1;33m\u001b[0m\u001b[0m\n\u001b[0;32m      2\u001b[0m \u001b[0mburgler\u001b[0m \u001b[1;33m=\u001b[0m \u001b[1;34m\"Bilbo Baggins\"\u001b[0m\u001b[1;33m\u001b[0m\u001b[1;33m\u001b[0m\u001b[0m\n\u001b[1;32m----> 3\u001b[1;33m \u001b[0mcombo\u001b[0m \u001b[1;33m=\u001b[0m \u001b[0mburgler\u001b[0m \u001b[1;33m+\u001b[0m \u001b[1;34m\"'s age is \"\u001b[0m \u001b[1;33m+\u001b[0m \u001b[0mage\u001b[0m \u001b[1;31m# fix this code by putting str(age) in place of age\u001b[0m\u001b[1;33m\u001b[0m\u001b[1;33m\u001b[0m\u001b[0m\n\u001b[0m\u001b[0;32m      4\u001b[0m \u001b[0mprint\u001b[0m\u001b[1;33m(\u001b[0m\u001b[0mcombo\u001b[0m\u001b[1;33m)\u001b[0m\u001b[1;33m\u001b[0m\u001b[1;33m\u001b[0m\u001b[0m\n",
      "\u001b[1;31mTypeError\u001b[0m: can only concatenate str (not \"int\") to str"
     ]
    }
   ],
   "source": [
    "age = 50 \n",
    "burgler = \"Bilbo Baggins\"\n",
    "combo = burgler + \"'s age is \" + age # fix this code by putting str(age) in place of age\n",
    "print(combo)"
   ]
  },
  {
   "cell_type": "code",
   "execution_count": 8,
   "metadata": {},
   "outputs": [
    {
     "name": "stdout",
     "output_type": "stream",
     "text": [
      "Bilbo Baggins's age is 50\n"
     ]
    }
   ],
   "source": [
    "combo = burgler + \"'s age is \" + str(age) # fixed version\n",
    "print(combo)"
   ]
  },
  {
   "cell_type": "markdown",
   "metadata": {},
   "source": [
    "Now let's use `len(string)`"
   ]
  },
  {
   "cell_type": "code",
   "execution_count": 11,
   "metadata": {},
   "outputs": [
    {
     "name": "stdout",
     "output_type": "stream",
     "text": [
      "13\n",
      "25\n"
     ]
    }
   ],
   "source": [
    "print(len(burgler))\n",
    "lengthOfCombo = len(combo)\n",
    "print(lengthOfCombo)"
   ]
  },
  {
   "cell_type": "markdown",
   "metadata": {},
   "source": [
    "## Slicing Strings\n",
    "\n",
    "Any sequence like a string, we can \"slice\" into smaller parts\n",
    "* Really - we create a smaller string, we never change the original!\n",
    "* The operator we use is square brackets [] after the variable name\n",
    "* Inside the brakets is a number, or two numbers split by the colon :\n",
    "* Let's look at some examples:\n",
    "\n"
   ]
  },
  {
   "cell_type": "code",
   "execution_count": 17,
   "metadata": {},
   "outputs": [
    {
     "name": "stdout",
     "output_type": "stream",
     "text": [
      "Bilbo Baggins\n",
      "B\n",
      "Baggins\n"
     ]
    }
   ],
   "source": [
    "print(burgler) # set above to be Bilbo Baggins\n",
    "print(burgler[0]) # just give me the first character\n",
    "print(burgler[6:13])  \n"
   ]
  },
  {
   "cell_type": "markdown",
   "metadata": {},
   "source": [
    "### Baggins!\n",
    "\n",
    "What does `burgler[6:13]` do?\n",
    "\n",
    "* It says, start at the 6th index \n",
    "  ```\n",
    "    B  i  l  b  o     B  a  g  g  i  n  s\n",
    "    -  -  -  -  -  -  -  -  -  -  -  -  -\n",
    "    0  1  2  3  4  5  6  7  8  9  10 11 12\n",
    "  ```\n",
    "* Then give me the **substring** (part of string) until the second number\n",
    "   * but the second number is 13?\n",
    "   * correct I said *until* which does not include the second number\n",
    "   * formally stated:\n",
    "     * inclusive of the first value\n",
    "     * exclusive of the second value\n",
    "* If a value is omitted at the end, it grabs until end of string\n",
    "   * `burgler[6:]` is the same as `burgler[6:13]`\n",
    "   * the former is most common\n",
    "* If a value is omitted at the start, 0 is assumed\n"
   ]
  },
  {
   "cell_type": "code",
   "execution_count": 19,
   "metadata": {},
   "outputs": [
    {
     "name": "stdout",
     "output_type": "stream",
     "text": [
      "Baggins\n",
      "Bilbo\n"
     ]
    }
   ],
   "source": [
    "print(burgler[6:])\n",
    "print(burgler[:5])"
   ]
  },
  {
   "cell_type": "markdown",
   "metadata": {},
   "source": [
    "Also, if we want to use len(string) combined with this, it works well!"
   ]
  },
  {
   "cell_type": "code",
   "execution_count": 21,
   "metadata": {},
   "outputs": [
    {
     "name": "stdout",
     "output_type": "stream",
     "text": [
      "Baggins\n",
      "Bilbo Baggins\n"
     ]
    }
   ],
   "source": [
    "length = len(burgler)\n",
    "half = int(length / 2) ## why would I want an int here? Do indices have decimals or whole numbers?\n",
    "print(burgler[half:])\n",
    "print(burgler) # just a reminder with all this, the original remained"
   ]
  },
  {
   "cell_type": "markdown",
   "metadata": {},
   "source": [
    "We will come back to slicing. Moving foward we also want to make strings *look good*."
   ]
  },
  {
   "cell_type": "markdown",
   "metadata": {},
   "source": [
    "## String Format\n",
    "\n",
    "* Having to worry about string contination and types is a pain\n",
    "* Furthermore, what if I wanted something to be more human readable\n",
    "* Example:\n",
    "    33.33333333% isn't as nice as 33.33%\n",
    "* Returning to Bilbo who really just wants to be left alone    \n"
   ]
  },
  {
   "cell_type": "code",
   "execution_count": 22,
   "metadata": {},
   "outputs": [
    {
     "name": "stdout",
     "output_type": "stream",
     "text": [
      "Bilbo Baggins's age is 50\n",
      "Bilbo Baggins's age is 50\n"
     ]
    }
   ],
   "source": [
    "combo = burgler + \"'s age is \" + str(age)\n",
    "print(combo) \n",
    "\n",
    "# a better way, string format\n",
    "\n",
    "combo2  = f\"{burgler}'s age is {age}\"\n",
    "print(combo2)"
   ]
  },
  {
   "cell_type": "markdown",
   "metadata": {},
   "source": [
    "Notice the **f** before the quotation mark!\n",
    "\n",
    "* There are multiple ways to do string format\n",
    "* You can also say `\"{}'s age is {}\".format(burgler, age)`\n",
    "* The \"f-string\" notation does the same, but\n",
    "   * Variables are directly in the string\n",
    "   * It tells the computer to insert value in variable location!\n",
    "   * Don't forget the curly brackets!\n",
    "* This is also common in other languages like javascript"
   ]
  },
  {
   "cell_type": "markdown",
   "metadata": {},
   "source": [
    "### Formatting Numbers\n",
    "* Often going from numbers to string, we *want* to make them look better.\n",
    "* There are a bunch of different options for formatting in python\n",
    "* Do not memorize them all!\n",
    "* Look them up, just a few known (**.\\[precision\\]f** is most common)\n",
    "\n",
    "| Type |\tDescription |\tExample | Output |\n",
    "| --- | --- | --- | ---|\n",
    "| s\t|String (default presentation type - can be omitted) | name = 'Aiden' <br> print(f'{name:s}') | Aiden |\n",
    "| d\t| Decimal (integer values only)\t | number = 4<br>print(f'{number:d}') | 4 |\n",
    "| b\t| Binary (integer values only) | number = 4<br>print(f'{number:b}') | 100 |\n",
    "| x, X\t| Hexadecimal in lowercase (x) and uppercase (X) (integer values only)\t| number = 255<br>print(f'{number:x}') | ff | | e | Exponent notation| number = 44<br>print(f'{number:e}')|4.400000e+01|\n",
    "|f | Fixed-point notation (6 places of precision) | number = 4 <br> print(f'{number:f}')| 4.000000|\n",
    "|.\\[precision\\]f|\tFixed-point notation (programmer-defined precision)\t| number = 4<br>print(f'{number:.2f}')|4.00|\n",
    "|0\\[precision\\]d|\tLeading 0 notation\t| number = 4<br> print(f'{number:03d}') | 004 |\n"
   ]
  },
  {
   "cell_type": "code",
   "execution_count": 27,
   "metadata": {},
   "outputs": [
    {
     "name": "stdout",
     "output_type": "stream",
     "text": [
      "0.3333333333333333\n",
      "0.33\n",
      "33%\n"
     ]
    }
   ],
   "source": [
    "repeating  = 1 / 3\n",
    "print(repeating)\n",
    "\n",
    "## now let's make it look better\n",
    "print(f\"{repeating:.2f}\")\n",
    "\n",
    "myPercent = f\"{repeating*100:.0f}%\"\n",
    "\n",
    "print(myPercent)\n"
   ]
  },
  {
   "cell_type": "markdown",
   "metadata": {},
   "source": [
    "> Notice!  \n",
    "> We can do mathmatical operations inside the string. `repeating*100`, made it 33.3333, then `:.0f` made it 33"
   ]
  },
  {
   "cell_type": "markdown",
   "metadata": {},
   "source": [
    "### A program (thinking deeper / advanced concept)\n",
    "* Let's combine what we learned this week\n",
    "* Background:\n",
    "    * HTML color schemes use hexidecimal format, with two character for Red, Green, Blue (in that order)\n",
    "      * Additional the color code is always two digits long, so 0 should be listed as 00\n",
    "      * And it starts with a pound / hash sign (#), so a common code for white is **#FFFFFF**\n",
    "    * However, many color picker program provide Red, Green, Blue as numbers 0-255\n",
    "      * White would be 255,255,255\n",
    "* We can use string format to easily convert between the two!"
   ]
  },
  {
   "cell_type": "code",
   "execution_count": 31,
   "metadata": {},
   "outputs": [
    {
     "name": "stdout",
     "output_type": "stream",
     "text": [
      "HTML Color is: #FF0A7F\n"
     ]
    }
   ],
   "source": [
    "def toHtmlColor(red, green, blue):\n",
    "    return f\"#{red:02X}{green:02X}{blue:02X}\"\n",
    "\n",
    "red = int(input(\"Give me a red (0-255\"))\n",
    "green = int(input(\"Give me a green (0-255)\"))\n",
    "blue = int(input(\"Give me a blue (0-255\"))\n",
    "\n",
    "print(f\"HTML Color is: {toHtmlColor(red, green, blue)}\") #yes, we can do this!"
   ]
  },
  {
   "cell_type": "markdown",
   "metadata": {},
   "source": [
    "## Recap\n",
    "\n",
    "* Focus on strings being a sequence of characters\n",
    "* Focus on splicing strings\n",
    "* Know that string format makes your life easier, but not required!"
   ]
  }
 ],
 "metadata": {
  "interpreter": {
   "hash": "2ba540a0224cde77ca4ac53e72c437473ecb7ee9f5c9f57a02383d20eb80f2df"
  },
  "kernelspec": {
   "display_name": "Python 3.9.10 64-bit (windows store)",
   "language": "python",
   "name": "python3"
  },
  "language_info": {
   "codemirror_mode": {
    "name": "ipython",
    "version": 3
   },
   "file_extension": ".py",
   "mimetype": "text/x-python",
   "name": "python",
   "nbconvert_exporter": "python",
   "pygments_lexer": "ipython3",
   "version": "3.9.10"
  },
  "orig_nbformat": 4
 },
 "nbformat": 4,
 "nbformat_minor": 2
}
