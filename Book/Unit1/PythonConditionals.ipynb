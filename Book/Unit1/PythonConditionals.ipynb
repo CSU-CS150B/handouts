{
 "cells": [
  {
   "cell_type": "markdown",
   "metadata": {},
   "source": [
    "# Introduction to Python Conditionals\n",
    "\n",
    "Placeholder. Interactive slides in progress. "
   ]
  },
  {
   "cell_type": "code",
   "execution_count": 1,
   "metadata": {},
   "outputs": [
    {
     "name": "stdout",
     "output_type": "stream",
     "text": [
      "In progress\n"
     ]
    }
   ],
   "source": [
    "print(\"In progress\")"
   ]
  }
 ],
 "metadata": {
  "interpreter": {
   "hash": "2ba540a0224cde77ca4ac53e72c437473ecb7ee9f5c9f57a02383d20eb80f2df"
  },
  "kernelspec": {
   "display_name": "Python 3.9.10 64-bit (windows store)",
   "language": "python",
   "name": "python3"
  },
  "language_info": {
   "codemirror_mode": {
    "name": "ipython",
    "version": 3
   },
   "file_extension": ".py",
   "mimetype": "text/x-python",
   "name": "python",
   "nbconvert_exporter": "python",
   "pygments_lexer": "ipython3",
   "version": "3.9.10"
  },
  "orig_nbformat": 4
 },
 "nbformat": 4,
 "nbformat_minor": 2
}
