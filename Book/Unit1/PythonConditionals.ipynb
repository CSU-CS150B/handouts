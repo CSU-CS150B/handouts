{
 "cells": [
  {
   "cell_type": "markdown",
   "metadata": {},
   "source": [
    "# Culture and Coding: Python Unit 1 - <br> Introduction to Python Conditionals\n",
    "\n",
    "In this section, we will explore conditional operators and the ability to be able to execute code conditionally. First however, let us take a look at our logic with a warm up problem. \n"
   ]
  },
  {
   "cell_type": "markdown",
   "metadata": {},
   "source": [
    "## Three mislabled boxes problem\n",
    "\n",
    "* A classic logic problem\n",
    "* We have three boxes\n",
    "* They are labled\n",
    "    * Apples\n",
    "    * Oranges\n",
    "    * Apples & Oranges\n",
    "* However, we know they are *all* mislabled\n",
    "* We want to correct the labels\n",
    "* We can only pull *ONE* item from ONE box\n",
    "\n",
    "* Can we relable the boxes correctly?\n",
    "\n",
    "![Three Boxes Mislabled](img/logic_mislabled_boxes.png \"Three Boxes Mislabled\")\n",
    "\n",
    "> **DISCUSSION**  \n",
    "> * Work together at the table to solve the problem.  \n",
    "> * Document on a piece of paper *how* you solve.  \n",
    "> * A key thing in technical interviews is being able to discuss your logic outloud, so make sure you are talking. \n",
    "  \n",
    "\n",
    "We will give about 5 minutes to discuss. You will be asked which **one box** we will want to start with. "
   ]
  },
  {
   "cell_type": "markdown",
   "metadata": {},
   "source": [
    "### Solution\n",
    "* Apple box  - possible correct answers: Oranges OR Apples and Oranges\n",
    "* Orange Box - possible correct answers: Apples OR Apples and Oranges \n",
    "  * If I pick from both boxes, I could end up with either apple or orange - no definitive answer\n",
    "* Apples and Orange Box - possible correct answers: Apples OR Oranges \n",
    "    * This seems like a definitive answer - as we know if we pick one, the other is not in there\n",
    "    * Let's assume we pick an orange from the \"Apples and Oranges\" \n",
    "        * That means, that box is Orange\n",
    "        * The Apples box Apples & Oranges\n",
    "        * The Oranges box  must be Apples\n",
    "        * We have a definitive answer!\n",
    "\n",
    "![\"Correct Logic Labels\"](img/logic_correct_labels.png \"Boxes labeled correctly\")\n",
    "\n",
    "Notice: We didn't just say which box, but we *tried it out*.  \n",
    "Logic problems should always be tested, as should code!        "
   ]
  },
  {
   "cell_type": "markdown",
   "metadata": {},
   "source": [
    "## Logic Problems and Coding\n",
    "\n",
    "Not every programmer likes logic problems (personally, I didn't)\n",
    "\n",
    "This is because, we are often not trained on how to do them. Logic is really asking ourselves:\n",
    "\n",
    "* What do you know\n",
    "* What do we have to work with\n",
    "* What can we do based on conditions given\n",
    "\n",
    "And then...\n",
    "\n",
    "* Coming up with a possible solution\n",
    "* Testing it out\n",
    "\n",
    "At that point, it moves from 'logic problem'. To simply: **problem solving** and **coding**\n",
    "\n",
    "Right now, we can do is limited to a single path, but let's change that!"
   ]
  },
  {
   "cell_type": "markdown",
   "metadata": {},
   "source": [
    "## Conditional Operators\n",
    "\n",
    "* We already know the basic mathmatical operators\n",
    "  * `+`\n",
    "  * `-`\n",
    "  * `*`\n",
    "  * `/`\n",
    "  * `=`\n",
    "\n",
    "However, logic is so important, all programming languages have **conditional** operators.\n",
    "\n",
    "* Conditional Operators are\n",
    "  * `<` - is my left **less than** my right\n",
    "  * `<=` - is my left **less than or equal to** my right\n",
    "  * `>` - is my left **greater than** my right\n",
    "  * `>=` - is my left **greater than or equal to** my right\n",
    "  * `==` - is my left **equal to** my right\n",
    "  * `!=` - is my left **not equal to** my right\n",
    "\n",
    "  Based on what they are comparing, they all evaluate to `True` or `False` (notice capital!)"
   ]
  },
  {
   "cell_type": "code",
   "execution_count": 6,
   "metadata": {},
   "outputs": [
    {
     "name": "stdout",
     "output_type": "stream",
     "text": [
      "False\n",
      "True\n"
     ]
    }
   ],
   "source": [
    "myValue = 5 > 5\n",
    "print(myValue)\n",
    "\n",
    "myValue = 5 >= 4 + 1 # conditional operators have lower precidence, so this is 5 >= 5\n",
    "print(myValue)"
   ]
  },
  {
   "cell_type": "markdown",
   "metadata": {},
   "source": [
    "Notice, these are just like standard operations. They give us a value.  Which means we can store (like above) or **return** that value."
   ]
  },
  {
   "cell_type": "code",
   "execution_count": 4,
   "metadata": {},
   "outputs": [
    {
     "name": "stdout",
     "output_type": "stream",
     "text": [
      "TESTING function\n",
      "True\n",
      "False\n"
     ]
    }
   ],
   "source": [
    "def is_less_than_zero(val1):\n",
    "    return val1 < 0\n",
    "\n",
    "print(\"TESTING function\")\n",
    "print(is_less_than_zero(-10))\n",
    "print(is_less_than_zero(11))"
   ]
  },
  {
   "cell_type": "markdown",
   "metadata": {},
   "source": [
    "### In class activity - Conditionals\n",
    "\n",
    "Let's work on an in class activity. You can find it linked in canvas.\n",
    "\n",
    "#### Your Task:\n",
    "Given the following code, write a condition statement that produces the following output\n",
    "\n",
    "```\n",
    "False\n",
    "True\n",
    "True\n",
    "```\n",
    "\n",
    "As a group\n",
    "Step 1: Figure out the logic, and write it out (not in code)\n",
    "Step 2: Write it out in code\n",
    "Step 3: Test with other values!\n",
    "\n",
    "##### Tip\n",
    "It can be in two lines or one line, but for reference, here is the code from above.\n",
    "\n",
    "```python\n",
    "def is_less_than_zero(val1):\n",
    "    return val1 < 0  ## one line version\n",
    "\n",
    "def is_less_than_zero(val1):\n",
    "    myValue = val1 < 0\n",
    "    return myValue ## two line version\n",
    "```"
   ]
  },
  {
   "cell_type": "code",
   "execution_count": 8,
   "metadata": {},
   "outputs": [
    {
     "name": "stdout",
     "output_type": "stream",
     "text": [
      "True\n",
      "False\n",
      "True\n"
     ]
    }
   ],
   "source": [
    "def age_check(age):\n",
    "    return False  # replace false with your conditional statement. This can be *one line* don't over think\n",
    "\n",
    "\n",
    "print(age_check(20))  # should print False\n",
    "print(age_check(21))  # should print True\n",
    "print(age_check(22))  # should print True\n"
   ]
  },
  {
   "cell_type": "markdown",
   "metadata": {},
   "source": [
    "## Coditional Code Execution (if/else Statements)\n",
    "\n",
    "Using conditionals, we can have code only execute given a certain condition. We call this an **if** statement.\n",
    "\n",
    "* if condition is true:\n",
    "   * execute the indented block of code\n",
    "* else \n",
    "   * execute a different block of code (if any)\n",
    "\n",
    "Examples:"
   ]
  },
  {
   "cell_type": "code",
   "execution_count": 11,
   "metadata": {},
   "outputs": [
    {
     "name": "stdout",
     "output_type": "stream",
     "text": [
      "In first if statement\n",
      "As long as it is indented, it is a block of code\n",
      "42 is above zero\n"
     ]
    }
   ],
   "source": [
    "if 10 > 5:\n",
    "    print(\"In first if statement\")\n",
    "    print(\"As long as it is indented, it is a block of code\")\n",
    "\n",
    "value = int(input(\"Enter a whole number: \"))\n",
    "if value > 0:\n",
    "    print(f\"{value} is above zero\")\n",
    "else:\n",
    "    print(\"it is not above zero\")\n",
    "\n"
   ]
  },
  {
   "cell_type": "markdown",
   "metadata": {},
   "source": [
    "### Adding additional options elif\n",
    "\n",
    "In python (not all languages), if we want to have more options we use `elif` (short for else if).\n",
    "\n",
    "The rule:\n",
    "* checks the first if, if False\n",
    "* check the next elfif\n",
    "* execute until end\n",
    "    * else is often included, but technically optional"
   ]
  },
  {
   "cell_type": "code",
   "execution_count": 12,
   "metadata": {},
   "outputs": [
    {
     "name": "stdout",
     "output_type": "stream",
     "text": [
      "Value is possitive\n"
     ]
    }
   ],
   "source": [
    "value = int(input(\"Enter a whole number: \"))\n",
    "\n",
    "if value > 0:\n",
    "    print(\"Value is possitive\")\n",
    "elif value < 0:\n",
    "    print(\"Value is negative\")\n",
    "else:\n",
    "    print(\"Value is zero\")"
   ]
  },
  {
   "cell_type": "markdown",
   "metadata": {},
   "source": [
    "Or, let's put in a function, so we can reuse it!"
   ]
  },
  {
   "cell_type": "code",
   "execution_count": 13,
   "metadata": {},
   "outputs": [
    {
     "name": "stdout",
     "output_type": "stream",
     "text": [
      "42 is possitive and The value is zero\n"
     ]
    }
   ],
   "source": [
    "def isPossitive(value):\n",
    "    ans = \"The value is zero\" #assuming a value\n",
    "    if value > 0:\n",
    "        ans = f\"{value} is possitive\"\n",
    "    elif value < 0:\n",
    "        ans = f\"{value} is negative\"\n",
    "    return ans\n",
    "\n",
    "val = int(input(\"Enter a possitive number: \"))\n",
    "val2 = int(input(\"Enter a random number: \"))\n",
    "\n",
    "answer1 = isPossitive(val)\n",
    "answer2 = isPossitive(val2)\n",
    "\n",
    "print(f\"{answer1} and {answer2}\")\n"
   ]
  }
 ],
 "metadata": {
  "interpreter": {
   "hash": "2ba540a0224cde77ca4ac53e72c437473ecb7ee9f5c9f57a02383d20eb80f2df"
  },
  "kernelspec": {
   "display_name": "Python 3.9.10 64-bit (windows store)",
   "language": "python",
   "name": "python3"
  },
  "language_info": {
   "codemirror_mode": {
    "name": "ipython",
    "version": 3
   },
   "file_extension": ".py",
   "mimetype": "text/x-python",
   "name": "python",
   "nbconvert_exporter": "python",
   "pygments_lexer": "ipython3",
   "version": "3.9.10"
  },
  "orig_nbformat": 4
 },
 "nbformat": 4,
 "nbformat_minor": 2
}
