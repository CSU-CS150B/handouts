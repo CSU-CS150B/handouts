{
 "cells": [
  {
   "cell_type": "markdown",
   "metadata": {},
   "source": [
    "# Lists and Loops\n",
    "\n",
    "In this lecture, we will cover\n",
    "\n",
    "* Python List Structure\n",
    "* For Loops\n",
    "\n",
    "###  Opening Question\n",
    "How are you feeling about the coding side of things?  \n",
    "0 - I am not coding yet  \n",
    "3 - I am comfortable and still learning  \n",
    "5 - We need to pick up the speed/do more  \n",
    "\n",
    "\n",
    "### Your future in CS \n",
    "I used to include this on my slides, but since these slides have changed - going to just leave it up here for every notebook. I get a lot of questions about more programming courses, the concentrations, and minors in computer science. Here is a brief reminder.\n",
    "\n",
    "CS 164 – Next Course In Sequence, also consider CS 220 (math and stats especially) \n",
    "* CO Jobs Report 2021 – 77% of *all* new jobs in Colorado require programming\n",
    "* 60% of all STEM jobs requires *advanced* (200-300 level) \n",
    "* 31% of all Bachelor of Arts degree titled jobs also required coding skills \n",
    "* 2016 Report found on average jobs that require coding skills paid $22,000 more\n",
    "\n",
    "* Concentrations in CS:\n",
    "  * Computer science has a number of concentrations. \n",
    "    * [General concentration](https://catalog.colostate.edu/general-catalog/colleges/natural-sciences/computer-science/computer-science-major/computer-science-concentration/#requirementstext) is the most flexible, and even allows students to double major or minor pretty easily. \n",
    "    * [Software Engineering](https://catalog.colostate.edu/general-catalog/colleges/natural-sciences/computer-science/computer-science-major-software-engineering-concentration/)\n",
    "    * [Computing Systems](https://catalog.colostate.edu/general-catalog/colleges/natural-sciences/computer-science/computer-science-major-computing-systems-concentration/)\n",
    "    * [Human Centered Computing](https://catalog.colostate.edu/general-catalog/colleges/natural-sciences/computer-science/computer-science-major/human-centered-computing-concentration/)\n",
    "    * [Networks and Security](https://catalog.colostate.edu/general-catalog/colleges/natural-sciences/computer-science/computer-science-major-networks-security-concentration/)\n",
    "    * [Artificial Intelligence](https://catalog.colostate.edu/general-catalog/colleges/natural-sciences/computer-science/computer-science-major-artificial-intelligence-machine-learning-concentration/)\n",
    "    * Computer Science Education. \n",
    "  * Minors: \n",
    "    * [Minor in Computer Science](https://catalog.colostate.edu/general-catalog/colleges/natural-sciences/computer-science/computer-science-minor/) - choose your own adventure minor\n",
    "    * [Minor in Machine Learning](https://catalog.colostate.edu/general-catalog/colleges/natural-sciences/computer-science/machine-learning-minor/) - popular with stats/math, and engineering\n",
    "    * [Minor in Bioinformatics](https://catalog.colostate.edu/general-catalog/colleges/natural-sciences/computer-science/bioinformatics-minor/) - Biology + Computer Science\n"
   ]
  },
  {
   "cell_type": "markdown",
   "metadata": {},
   "source": [
    "## Python Lists\n",
    "\n",
    "At this point, anytime we wanted to store information\n",
    "* We created a variable\n",
    "* Stored information in it\n",
    "\n",
    "For example:\n",
    "\n",
    "```python\n",
    "item1 = \"Oranges\"\n",
    "item2 = \"Pineapples\"\n",
    "item3 = \"Mangos\"\n",
    "```\n",
    "\n",
    "Not only is this tedious, but not wise! Imagine needing to keep track of 100 items or 1000 items? \n",
    "\n",
    "### Introducing List\n",
    "A python list is a **sequential** structure designed to hold more than one item in order!"
   ]
  },
  {
   "cell_type": "code",
   "execution_count": 13,
   "metadata": {},
   "outputs": [
    {
     "name": "stdout",
     "output_type": "stream",
     "text": [
      "['Oranges', 'Pineapples', 'Mangoes']\n",
      "Oranges\n",
      "Pineapples\n",
      "Mangoes\n",
      "[3, 4, 4, 3]\n"
     ]
    }
   ],
   "source": [
    "shopping = [\"Oranges\", \"Pineapples\", \"Mangoes\"]\n",
    "grades = [3, 4, 4, 3]\n",
    "\n",
    "print(shopping)\n",
    "print(shopping[0]) ## notice we start at 0!\n",
    "print(shopping[1])\n",
    "print(shopping[2])\n",
    "\n",
    "print(grades)"
   ]
  },
  {
   "cell_type": "markdown",
   "metadata": {},
   "source": [
    "## Changing elements\n",
    "\n",
    "You can both access, and change an element at a location!\n",
    "\n",
    "But if you need to add an item, you use the `.append(val)` function. "
   ]
  },
  {
   "cell_type": "code",
   "execution_count": 14,
   "metadata": {},
   "outputs": [
    {
     "name": "stdout",
     "output_type": "stream",
     "text": [
      "['Oranges', 'Pineapples', 'Mangoes']\n",
      "['Apples', 'Pineapples', 'Mangoes']\n",
      "['Apples', 'Pineapples', 'Mangoes', 'Lychee']\n"
     ]
    }
   ],
   "source": [
    "print(shopping)\n",
    "\n",
    "shopping[0] = \"Apples\"\n",
    "\n",
    "print(shopping)\n",
    "\n",
    "shopping.append(\"Lychee\")\n",
    "\n",
    "print(shopping)"
   ]
  },
  {
   "cell_type": "markdown",
   "metadata": {},
   "source": [
    "## Looping over elements\n",
    "We can use a while loop to loop over elements\n",
    "\n"
   ]
  },
  {
   "cell_type": "code",
   "execution_count": 15,
   "metadata": {},
   "outputs": [
    {
     "name": "stdout",
     "output_type": "stream",
     "text": [
      "Apples\n",
      "Pineapples\n",
      "Mangoes\n",
      "Lychee\n"
     ]
    }
   ],
   "source": [
    "index = 0\n",
    "while index < len(shopping):  # len gives us the total items in a list the \"length\" of the list\n",
    "    print(shopping[index])\n",
    "    index += 1\n"
   ]
  },
  {
   "cell_type": "markdown",
   "metadata": {},
   "source": [
    "### for loop - a better way\n",
    "\n",
    "Introducing the for-loop (called for-each in other languages).\n",
    "* It looks at every element in a list\n",
    "* grabs each element, storing it in a variable\n",
    "  * you can use that variable in the loop\n",
    "\n",
    "```python\n",
    "for val in lst:\n",
    "    # i can now use val in the loop\n",
    "```"
   ]
  },
  {
   "cell_type": "code",
   "execution_count": 17,
   "metadata": {},
   "outputs": [
    {
     "name": "stdout",
     "output_type": "stream",
     "text": [
      "Need to buy: Apples\n",
      "Need to buy: Pineapples\n",
      "Need to buy: Mangoes\n",
      "Need to buy: Lychee\n",
      "0 1 2 3 4 5 6 7 8 9 "
     ]
    }
   ],
   "source": [
    "for item in shopping:\n",
    "    print(f\"Need to buy: {item}\")\n",
    "\n",
    "# also, if i need to loop over numbers, range function exists!\n",
    "# inclusive of the first position, exclusive of the second\n",
    "for val in range(0, 10):\n",
    "    print(val, end = ' ')"
   ]
  },
  {
   "cell_type": "markdown",
   "metadata": {},
   "source": [
    "### In class activity\n",
    "\n",
    "1. Create a list made up with the names of people as your table\n",
    "2. Print out each persons name in the list \n",
    "  * use the for loop, not direct access"
   ]
  },
  {
   "cell_type": "code",
   "execution_count": 18,
   "metadata": {},
   "outputs": [
    {
     "name": "stdout",
     "output_type": "stream",
     "text": [
      "Biggs Wedge Cid Boko Mog Sarah "
     ]
    }
   ],
   "source": [
    "## put your code here\n",
    "\n",
    "\n"
   ]
  },
  {
   "cell_type": "markdown",
   "metadata": {},
   "source": [
    "## List Functions\n",
    "\n",
    "Lists have a number of functions that help make life easier. \n",
    "\n",
    "A few common functions are:\n",
    "* len(list) - gives you the length / number of items in the list\n",
    "* min(list) - gives you the smallest item (works on strings also!)\n",
    "* max(list) - gives you the largest item (also works on strings)\n",
    "* sum(list) - adds all the items together - does *NOT* work on strings\n",
    "* \\+ - the plus operator is used for adding two lists and returning a single list of items\n"
   ]
  },
  {
   "cell_type": "code",
   "execution_count": 19,
   "metadata": {},
   "outputs": [
    {
     "name": "stdout",
     "output_type": "stream",
     "text": [
      "The length of the shopping list is: 4\n",
      "The smallest grade is 3, the largest: 4, and the sum is 14\n",
      "['Apples', 'Pineapples', 'Mangoes', 'Lychee', 3, 4, 4, 3]\n"
     ]
    }
   ],
   "source": [
    "shopping_length = len(shopping)\n",
    "print(f\"The length of the shopping list is: {shopping_length}\")\n",
    "\n",
    "smallest_grade = min(grades) \n",
    "largest_grade = max(grades)\n",
    "sum_grade = sum(grades)\n",
    "print(f\"The smallest grade is {smallest_grade}, the largest: {largest_grade}, and the sum is {sum_grade}\")\n",
    "\n",
    "oddList = shopping + grades\n",
    "\n",
    "print(oddList)\n",
    "\n"
   ]
  },
  {
   "cell_type": "markdown",
   "metadata": {},
   "source": [
    "### Splitting Lists\n",
    "\n",
    "We also have the split operators **[]**, just like we do for Strings\n"
   ]
  },
  {
   "cell_type": "code",
   "execution_count": 21,
   "metadata": {},
   "outputs": [
    {
     "name": "stdout",
     "output_type": "stream",
     "text": [
      "['Pineapples', 'Mangoes', 'Lychee']\n"
     ]
    }
   ],
   "source": [
    "sublist = shopping[1:] ## gets the item in possition one, and returns the sublist\n",
    "print(sublist)"
   ]
  },
  {
   "cell_type": "code",
   "execution_count": 24,
   "metadata": {},
   "outputs": [
    {
     "name": "stdout",
     "output_type": "stream",
     "text": [
      "['Pineapples', 'Mangoes']\n",
      "['Apples', 'Pineapples', 'Mangoes']\n",
      "['Apples', 'Pineapples', 'Mangoes']\n"
     ]
    }
   ],
   "source": [
    "print(shopping[1:3])\n",
    "print(shopping[:3])\n",
    "print(shopping[0:3]) ## this is the same as [:3]"
   ]
  },
  {
   "cell_type": "markdown",
   "metadata": {},
   "source": [
    "### In Class Activity\n",
    "\n",
    "* Create a list of grades (all ranging)\n",
    "* print only the grades that are 3 or above\n",
    "* print some stats about the grades (min grade, max grade, average grade?)\n",
    "* print a list of only the last two grades \n",
    "  *  remember len(list)-1 gives you the last location! "
   ]
  },
  {
   "cell_type": "code",
   "execution_count": null,
   "metadata": {},
   "outputs": [],
   "source": [
    "grades = [4, 3, 2, 1, 4, 3, 2, 3, 4]\n",
    "## your code here"
   ]
  }
 ],
 "metadata": {
  "interpreter": {
   "hash": "507d0580e2b527a70f64f40fb9b6583b2a77378ccde06f27533dbdd39bb8d03d"
  },
  "kernelspec": {
   "display_name": "Python 3.10.2 64-bit (windows store)",
   "language": "python",
   "name": "python3"
  },
  "language_info": {
   "codemirror_mode": {
    "name": "ipython",
    "version": 3
   },
   "file_extension": ".py",
   "mimetype": "text/x-python",
   "name": "python",
   "nbconvert_exporter": "python",
   "pygments_lexer": "ipython3",
   "version": "3.10.2"
  },
  "orig_nbformat": 4
 },
 "nbformat": 4,
 "nbformat_minor": 2
}
