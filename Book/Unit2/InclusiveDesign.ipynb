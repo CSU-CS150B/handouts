{
 "cells": [
  {
   "cell_type": "markdown",
   "metadata": {},
   "source": [
    "# Inclusive Design\n",
    "\n",
    "> Warm up question:  \n",
    "> What is the *primary way* you get your \"news\"? \n",
    "> * A - newspaper\n",
    "> * B - online news sites (currated by news media)\n",
    "> * C - TV news channels \n",
    "> * D - Podcasts/radio from news channels (NPR podcast/radio)\n",
    "> * E - Social media / people sharing articles (Facebook, Reddit, TikTok, etc)\n",
    "\n",
    "## Content Delivery\n",
    "\n",
    "A content delivery means news and information is directly sent to us. \n",
    "\n",
    "  * We wake up and information is available to us via \n",
    "    * suggestions / personalized lists (google now)\n",
    "    * via information currated based on our wants\n",
    "    * information that is important to myself and my circles (friend/work groups)\n",
    "    * based on **recommendation systems**\n",
    "  * Compared to having to search for the news\n",
    "    * You go to the sports section in the newspaper\n",
    "       * But you still see the main story before going there\n",
    "\n",
    "\n",
    "### 71% of Americans (in 2020!)\n",
    "\n",
    "![Pew Research Poll on Social Media Content](img/pew_social_media.jpg)\n",
    "\n",
    "Source: [SocialMediaToday: New Research Shows that 71% of Americans Now Get News Content via Social Platforms](https://www.socialmediatoday.com/news/new-research-shows-that-71-of-americans-now-get-news-content-via-social-pl/593255/)\n",
    "\n",
    "\n",
    "### Discussion Item: Which Artificial Intelligence Bias? \n",
    "\n",
    "If we are building a system to recommend news sources, which bias do we risk the most?\n",
    "\n",
    "* A. Dataset Bias - the data to train the recommendation system is flawed\n",
    "* B. Associations Bias - tools make assumptions based societal associations  (gender assumptions on jobs)\n",
    "* C. Automation Bias - assumes society norms in the algorithm repetition\n",
    "* D. Interaction Bias - humans intentionally try to break the system\n",
    "* E. Confirmation Bias - gives recommendations based on past preferences to ensure continued liking \n",
    "\n",
    "Just because it works, doesn't mean it is right..."
   ]
  },
  {
   "cell_type": "code",
   "execution_count": 7,
   "metadata": {},
   "outputs": [
    {
     "name": "stdout",
     "output_type": "stream",
     "text": [
      "We recommend you try out a pineapple.\n"
     ]
    }
   ],
   "source": [
    "favorite = \"apple\"\n",
    "fruit = \"pineapple\"\n",
    "\n",
    "if fruit.find(favorite):\n",
    "    print(f\"We recommend you try out a {fruit}.\")\n",
    "else:\n",
    "    print(f\"We didn't find anything related today, you should stick with your {favorite}.\")"
   ]
  },
  {
   "cell_type": "markdown",
   "metadata": {},
   "source": [
    "\n",
    "## The Ethical Dilemma of Computer Science \n",
    "* Programmers have\n",
    "   * Phenomenal ability to influence society\n",
    "      * Especially in a **content delivery** society\n",
    "   * Influence groups they never expected\n",
    "      * World wide audience\n",
    "   * This power often is unintentional \n",
    "       * First law of technology: *Technology is neither good nor bad; nor is it neutral.*\n",
    "\n",
    "> *Ethical Question*  \n",
    "> Can technology fully meet a group's needs or preferences, if members who identify with that group are not part of the creation of that techology?\n"
   ]
  },
  {
   "cell_type": "markdown",
   "metadata": {},
   "source": [
    "## Discussion Item: Who do you picture?\n",
    "\n",
    "* For each column of traits (A,B,C) \n",
    "    * First **by yourself** write down what you think\n",
    "        * gender? race? education? hobbies? hair color? sexual preferences? pronouns? clothes? ability levels?\n",
    "        * or one a TA loved to answer, \"what movies do they watch\"?\n",
    "    * Be open and honest with yourself!\n",
    "        * first thing that comes to mind!\n",
    "\n",
    "|  A  |  B  |  C  |\n",
    "| :-: | :-: | :-: |\n",
    "|First plane travel was on a family private jet|Lived in grandparents basement, due to family not having a home |Regularly participates in Rocky Horror Picture Show <br> Shadow Casts for fun \n",
    "|Highly educated|Attended school in a very poor school district (> 60% free/reduced lunch)|Dresses up regularly |\n",
    "|Attended a predominately white school|Only afforded the Christmas meal by raiding the coin savings jar.| Often attends Pride events|\n",
    "|Attended a private elementary school|Has regularly worked in manual labor|Relationships are not considered society normal|\n",
    "|Stays up-to-date on financial markets|Always struggled with math and reading|Has had slurs yelled at them|\n",
    "|Occasionally listens to podcasts|Constantly worried about money |Has had eyes operated on to see|\n",
    "|Drives an electric vehicle variant (PHEV)|Roman-Catholic family |Grew up singing and dancing in musicals <br> and has been paid in professional theater|\n",
    "|Rarely cooks|One of four children, and tons of cousins - food often center of gatherings| Has won cooking competitions|\n",
    "|Entrepreneur | Drug addict family members in and out of jail| Certified life coach |\n",
    "\n",
    "** BE HONEST and OPEN ** First thing that comes to mind, and yes, most of us will often feel bad about the first thing that comes to mind. \n",
    "\n",
    "\n",
    "* Now the hard part - and why we have had warmup questions all semester\n",
    "  * Share your list with table\n",
    "  * What did you have in common?\n",
    "  * What did you see differently?\n",
    "\n"
   ]
  },
  {
   "cell_type": "markdown",
   "metadata": {},
   "source": [
    "## Unconcious Bias\n",
    "\n",
    "[Make the Unconcious concious](https://youtu.be/NW5s_-Nl3JE)\n",
    "\n",
    "* We all have it\n",
    "* Psychology\n",
    "  * Sees lion eat friend, forms opinion on brain that hairy things with sharp pointing things are bad\n",
    "  * Better stated, our brain likes to put things in labels and boxes for understanding\n",
    "* This is brain using ‘pattern matching’ and learning association\n",
    "\n",
    "* What makes it bad?\n",
    "  * When we unconsciously do it\n",
    "  * When we don’t self-reflect and see we are doing it\n",
    "  * When we let it affect our decisions\n",
    "    * Especially towards people and products\n",
    "  * The most common one?\n",
    "    * Not race, gender, or social-economic background\n",
    "    * The most common is for individuals who need special services (hearing or vision impaired, etc)\n",
    "\n",
    "![Tritanopia](img/colorblindness.png)"
   ]
  },
  {
   "cell_type": "code",
   "execution_count": 8,
   "metadata": {},
   "outputs": [
    {
     "data": {
      "text/html": [
       "Standard: <text style=color:#984829>Standard</text><br>Tritanopia: <text style=color:#984800>Tritanopia</text><br>Deuteranopia: <text style=color:#980029>Deuteranopia</text><br>Protanopia: <text style=color:#000029>Protanopia</text>"
      ],
      "text/plain": [
       "<IPython.core.display.HTML object>"
      ]
     },
     "execution_count": 8,
     "metadata": {},
     "output_type": "execute_result"
    }
   ],
   "source": [
    "from IPython.display import HTML as hprint # allows me to print in colors\n",
    "\n",
    "def colorized(s, color='green'):\n",
    "    return f\"<text style=color:{color}>{s}</text>\"\n",
    "\n",
    "def convertRGB2HTML(red, green, blue):\n",
    "    return f\"#{red:02X}{green:02X}{blue:02X}\" # html color codes use hex values of 0-255, so 255 is FF\n",
    "\n",
    "## the following is a bit oversimplified, look at the supplemental reading for a much more detailed version\n",
    "def tritanopiaColor(red, green, blue):\n",
    "    return convertRGB2HTML(red, green, 0)\n",
    "\n",
    "def deuteranopiaColor(red, green, blue):\n",
    "    return convertRGB2HTML(red, 0, blue)\n",
    "\n",
    "def protanopiaColor(red, green, blue):\n",
    "    return convertRGB2HTML(0, 0, blue)\n",
    "\n",
    "red = int(input(\"Enter red (0-255): \"))\n",
    "green = int(input(\"Enter green (0-255): \"))\n",
    "blue = int(input(\"Enter blue (0-255): \"))\n",
    "\n",
    "standard = colorized(\"Standard\", convertRGB2HTML(red, green, blue))\n",
    "tritanopia = colorized(\"Tritanopia\", tritanopiaColor(red, green, blue))\n",
    "deuteranopia = colorized(\"Deuteranopia\", deuteranopiaColor(red, green, blue))\n",
    "protanopia = colorized(\"Protanopia\", protanopiaColor(red, green, blue))\n",
    "\n",
    "\n",
    "hprint(f\"Standard: {standard}<br>\" \\\n",
    "        f\"Tritanopia: {tritanopia}<br>\" \\\n",
    "        f\"Deuteranopia: {deuteranopia}<br>\" \\\n",
    "        f\"Protanopia: {protanopia}\")\n",
    "\n",
    "\n",
    "\n"
   ]
  },
  {
   "cell_type": "markdown",
   "metadata": {},
   "source": [
    "### Cam!\n",
    "\n",
    "![Cam with deuteranopia](img/ram_emulated.png)  \n",
    "\n",
    "You can pull up the above tool in the \"Dev Tools\" of Chrome based browsers - This was microsoft edge. \n",
    "\n",
    "[Verify that a page is usable by people with color blindness](https://docs.microsoft.com/en-us/microsoft-edge/devtools-guide-chromium/accessibility/test-color-blindness)\n",
    "\n",
    "\n",
    "So what can we do? We will talk about that next time. "
   ]
  }
 ],
 "metadata": {
  "interpreter": {
   "hash": "507d0580e2b527a70f64f40fb9b6583b2a77378ccde06f27533dbdd39bb8d03d"
  },
  "kernelspec": {
   "display_name": "Python 3.10.2 64-bit (windows store)",
   "language": "python",
   "name": "python3"
  },
  "language_info": {
   "codemirror_mode": {
    "name": "ipython",
    "version": 3
   },
   "file_extension": ".py",
   "mimetype": "text/x-python",
   "name": "python",
   "nbconvert_exporter": "python",
   "pygments_lexer": "ipython3",
   "version": "3.10.2"
  },
  "orig_nbformat": 4
 },
 "nbformat": 4,
 "nbformat_minor": 2
}
