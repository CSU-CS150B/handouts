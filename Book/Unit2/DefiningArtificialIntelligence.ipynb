{
 "cells": [
  {
   "cell_type": "markdown",
   "metadata": {},
   "source": [
    "# Culture and Coding: Python Unit 2 "
   ]
  },
  {
   "cell_type": "markdown",
   "metadata": {},
   "source": [
    "\n",
    "Reminder: Lab and Help Sessions will focus on coding! This is quick review for questions. You should feel free to use the interactive version of this play around with the code. \n",
    "\n",
    "\n",
    "## More Operations\n",
    "We already know we have the following mathematical operations!\n",
    "\n",
    "* `+`, `-`, `*`, `/`, `=`\n",
    "\n",
    "Now we add more options! \n",
    "\n",
    "* `**` - exponential\n",
    "* `//` - floored (rounded down) division\n",
    "* `%` - modulo"
   ]
  },
  {
   "cell_type": "markdown",
   "metadata": {},
   "source": [
    "### Exponential and Floored\n",
    "\n",
    "Exponential: `val ** n` - is the $val^n$ \n",
    "\n",
    "Floored is always rounding *down* to the nearest whole number, which means down for negative looks larger. Different from `int(val)` which truncates the value."
   ]
  },
  {
   "cell_type": "code",
   "execution_count": 6,
   "metadata": {},
   "outputs": [
    {
     "name": "stdout",
     "output_type": "stream",
     "text": [
      "answer: 125, and answer2: 125 \n"
     ]
    }
   ],
   "source": [
    "# testing exponential\n",
    "\n",
    "answer = 5 ** 3 #five to the power of 3! \n",
    "answer2 = 5*5*5 \n",
    "\n",
    "print(f\"answer: {answer}, and answer2: {answer2} \")\n",
    "\n"
   ]
  },
  {
   "cell_type": "code",
   "execution_count": 7,
   "metadata": {},
   "outputs": [
    {
     "name": "stdout",
     "output_type": "stream",
     "text": [
      "standard:3.3333333333333335, floored:3\n",
      "standard:-3, floored:-4\n"
     ]
    }
   ],
   "source": [
    "# testing the 'floored' division\n",
    "\n",
    "standard = 10 / 3\n",
    "floored = 10 // 3\n",
    "\n",
    "print(f\"standard:{standard}, floored:{floored}\")\n",
    "\n",
    "## same as int(val) ?\n",
    "\n",
    "standard = int(-10 / 3)\n",
    "floored = -10 // 3\n",
    "\n",
    "print(f\"standard:{standard}, floored:{floored}\")\n"
   ]
  },
  {
   "cell_type": "markdown",
   "metadata": {},
   "source": [
    "### Modulo!\n",
    "We grew up with it, but haven't in a while! - Long division remainder!\n",
    "\n",
    "![Long Division](img/longdivision.png)"
   ]
  },
  {
   "cell_type": "code",
   "execution_count": 9,
   "metadata": {},
   "outputs": [
    {
     "name": "stdout",
     "output_type": "stream",
     "text": [
      "Remainder: 4\n",
      "Quotient:  41\n"
     ]
    }
   ],
   "source": [
    "remainder = 250 % 6\n",
    "\n",
    "print(\"Remainder:\", remainder)\n",
    "\n",
    "quotient = 250 // 6\n",
    "\n",
    "print(\"Quotient: \", quotient)"
   ]
  },
  {
   "cell_type": "code",
   "execution_count": 13,
   "metadata": {},
   "outputs": [
    {
     "name": "stdout",
     "output_type": "stream",
     "text": [
      "row:1, seat:20\n",
      "Random seat 204\n",
      "row:11, seat:4\n"
     ]
    }
   ],
   "source": [
    "## more complicated example\n",
    "from random import randint\n",
    "\n",
    "row_size = 20\n",
    "\n",
    "def getRowSeat(id, row_size):\n",
    "    id = id - 1 # because we start counting at 1, but computers count at 0\n",
    "    row =  id // row_size \n",
    "    seat = id % row_size \n",
    "    return f\"row:{row+1}, seat:{seat+1}\"\n",
    "\n",
    "print(getRowSeat(20, row_size))\n",
    "\n",
    "ran= randint(1,270)\n",
    "print(\"Random seat \" + str(ran))\n",
    "print(getRowSeat(ran, row_size))\n"
   ]
  },
  {
   "cell_type": "markdown",
   "metadata": {},
   "source": [
    "## Why Remainder?\n",
    "\n",
    "* Needed for complex math (GCD)\n",
    "* You are guaranteed a range between 0-(n-1)\n",
    "    * so any value % 6, would give 0-5 as answers - no matter the value!\n",
    "* Tells you even/odd values easily (%2)\n",
    "* Do something every $n^{th}$ time\n",
    "* Used throughout CS for groupings"
   ]
  },
  {
   "cell_type": "markdown",
   "metadata": {},
   "source": [
    "# Defining Artificial Intelligence\n",
    "\n"
   ]
  },
  {
   "cell_type": "markdown",
   "metadata": {},
   "source": [
    "## The Turing Test\n",
    "\n",
    "* Computers are estimation of the *Turing* machine (really a von Neumann machine)\n",
    "* There is also the *Turing* test\n",
    "    * Intelligence and Consciousness \n",
    "        * Too hard to test, not what matters\n",
    "    * Can a machine make me *think* it is a human\n",
    "        * That is all we really compare anyway\n",
    "    * Very hard test!\n",
    "        * Only considered passed just recently (million dollar prize)\n",
    "        * Argued if was actually passed\n",
    "\n",
    "![Turing Test](img/turing_test.png)\n",
    "\n",
    "### On Critique of the Turing Test\n",
    "\n",
    "#### Chinese Room Argument \n",
    "* John Searle \n",
    "* Minds, Brains, and Programs - 1980\n",
    "* Even if a computer can give proper answers:\n",
    "    * Does it understand the answers?\n",
    "    * Example: \n",
    "        * A person is sitting in a room\n",
    "        * They get a saying in a foreign language\n",
    "        * The person has a 'giant book' with all possible and correct answers\n",
    "        * They answer back\n",
    "    * Sure the person getting the answers back - may think the person knows the other language\n",
    "    * But do they?\n",
    "\n",
    "### A couple other tests\n",
    "\n",
    "#### Lovelace Test 2.0 \n",
    "* Named in honor of Ada Lovelace\n",
    "   * \"the Analytical Engine has no pretensions to originate anything. It can do whatever we know how to order it to perform\" (Note G by Ada Lovelace)\n",
    "* Lovelace Test states\n",
    "   * Must create art/music/etc - Novel and Surprising artifact\n",
    "   * Must have a human judge that\n",
    "      * Assumes creativity and creation\n",
    "      * Believes that the creation is not unrealistic for a human being\n",
    "   * Can't be built of solely prior created works, but must be *new*\n",
    "* 2001 and 2014 (v2.0)\n",
    "\n",
    "\n",
    "[Reference](https://arxiv.org/pdf/1410.6142v3.pdf)\n",
    "\n",
    "[Reference](https://gizmodo.com/8-possible-alternatives-to-the-turing-test-1697983985)\n",
    "\n",
    "#### Gary Marcus Test\n",
    "\n",
    "* If they can't watch Simpsons and laugh, it isn't conscious \n",
    "* Joking aside.. well included .. conscious *human* beings have humor\n",
    "* Until computers grasp humor, we should not call it intelligent.\n",
    "  * Not formally defined, but a critique of the tests\n",
    "  * Arguably could be a good test.. \n",
    "\n",
    "\n",
    "> Discussion  \n",
    "> * Are these tests valid?\n",
    "> * What does it meant to have consciousness?\n",
    "> * Can machines be intelligent?\n",
    ">   * What are some issues with \"trusting\" machines with that much freedom?\n",
    "\n",
    "\n",
    "#### The Lionelle Test\n",
    "* Ok, not a unique test - or really a test at all. \n",
    "* Can something understand sarcasm \n",
    "\n",
    "> “Sarcasm is the lowest form of wit but the highest form of intelligence,” – Oscar Wilde.\n",
    "\n",
    "This came while writing this. Google was randomly talking thinking we said \"ok, google\". My partner said, \"thanks google\" sarcastically. It's response, \"I am here to help!\". Missed the sarcasm in her voice completely. "
   ]
  },
  {
   "cell_type": "markdown",
   "metadata": {},
   "source": [
    "## Defining Artificial Intelligence and Machine Learning\n",
    "\n",
    "Computer science has an entire field of artificial intelligence and machine learning.\n",
    "* Including a CS Major: [AI/ML Concentration](https://catalog.colostate.edu/general-catalog/colleges/natural-sciences/computer-science/computer-science-major-artificial-intelligence-machine-learning-concentration/) and \n",
    "* [Minor in Machine Learning](https://catalog.colostate.edu/general-catalog/colleges/natural-sciences/computer-science/machine-learning-minor/). \n",
    "* Yet, we can't even decide what is intelligent. \n",
    "\n",
    "\n",
    "### Search (almost) all possibilities \n",
    "* The search for intelligence developed into *how* we approach some problems\n",
    "* The first AI algorithms \n",
    "  * Are based on **searching** all possibilities \n",
    "  * It seems intelligent when the computer beats you at chess\n",
    "  * Really, it looked at all possibilities and played those\n",
    "  * Finite rules, finite systems\n",
    "  * Deep Blue for playing Chess\n",
    "  * Note: CS 440 emphasizes these techniques along with ML techniques\n",
    "\n",
    "However, reality is not finite!\n",
    "\n",
    "### Machine Learning\n",
    "\n",
    "* Algorithms (recipes) based on the *data* provided to th em\n",
    "* Data is determines the outcome of the algorithm\n",
    "* Supervised learning - humans guide it\n",
    "* Unsupervised - unguided... sort of (based on 'training sets')\n",
    "* Examples: \n",
    "  * Deep Learning\n",
    "  * Artificial Neural Networks\n",
    "  * Reinforcement Learning\n",
    "  * Genetic Algorithms \n",
    "\n",
    "![Artificial Neural Network](img/ann.png)\n",
    "\n",
    "An artificial neural network. \n",
    "* Takes in inputs (example: every pixel in an image)\n",
    "* Multiples those values across the weights\n",
    "* Uses intermediate nodes (to add another layer of connections / weights)\n",
    "* Answers a YES or NO question (cat or dog, friends face or not, etc)\n",
    "* We teach how to do this, and use tools that do it for you, in [CS 345](https://www.cs.colostate.edu/~cs345/)\n",
    "\n",
    "Used everywhere! \n",
    "\n",
    "* [Minor in Bioinformatics](https://catalog.colostate.edu/general-catalog/colleges/natural-sciences/computer-science/bioinformatics-minor/) requires our machine learning course.\n",
    "* [Human Centered Computing](https://catalog.colostate.edu/general-catalog/colleges/natural-sciences/computer-science/computer-science-major/human-centered-computing-concentration/) requires our machine learning course. \n",
    "\n",
    "One of the few areas in Computer Science that requires more / higher math (really, we are a low math major in application). \n",
    "\n",
    "This all can fail horribly, and sometimes even catastrophically.\n",
    "* Self driving cars\n",
    "* Face recognition "
   ]
  },
  {
   "cell_type": "markdown",
   "metadata": {},
   "source": [
    "## Biases in Artificial Intelligence\n",
    "\n",
    "Searching for \"grandma or grandmother\" in google image search...\n",
    "\n",
    "![Grandmothers](img/grandma.jpg)\n",
    "\n",
    "This is much better than it was even a couple years ago, but still...\n",
    "\n",
    "> Does it look representational of all grandmothers out there?"
   ]
  },
  {
   "cell_type": "markdown",
   "metadata": {},
   "source": [
    "### Six A.I. Bias Classifications\n",
    "\n",
    "#### Dataset Bias\n",
    "\n",
    "Machine vision technologies—such as web cameras to track user movements—that only work well for small subsets of users based on race (predominantly white), because the initial training data excluded other races and skin tones.\n",
    "\n",
    "#### Associations Bias\n",
    "Language translation tools that make gender assumptions (e.g. pilots are male and flight attendants are female).\n",
    "\n",
    "#### Automation Bias\n",
    "Beautification photo filters reinforce a European notion of beauty on facial images, like lightening skin tone.\n",
    "\n",
    "#### Interaction Bias\n",
    "Humans deliberately input racist or sexist language into a chatbot to train it to say offensive things.\n",
    "\n",
    "#### Confirmation Bias\n",
    "Shopping sites that show recommendations for things the customer has already bought.Updated example: Newsfeeds (facebook, google news) only recommending articles like the ones you share.\n",
    "\n",
    "\n",
    "Reference:  \n",
    "[In Pursuit of Inclusive AI](https://www.microsoft.com/design/assets/inclusive/InclusiveDesign_InclusiveAI.pdf), Joyce Chou, Roger Ibars, Oscar Murillo, Microsoft Corporation\n",
    "\n",
    "> **Discussion**  \n",
    "> Discuss these biases, what are some other examples can you think of based on these definitions? What are some concerns? Is there an ethical dilemma we should consider? "
   ]
  }
 ],
 "metadata": {
  "interpreter": {
   "hash": "2ba540a0224cde77ca4ac53e72c437473ecb7ee9f5c9f57a02383d20eb80f2df"
  },
  "kernelspec": {
   "display_name": "Python 3.9.10 64-bit (windows store)",
   "language": "python",
   "name": "python3"
  },
  "language_info": {
   "codemirror_mode": {
    "name": "ipython",
    "version": 3
   },
   "file_extension": ".py",
   "mimetype": "text/x-python",
   "name": "python",
   "nbconvert_exporter": "python",
   "pygments_lexer": "ipython3",
   "version": "3.8.2"
  },
  "orig_nbformat": 4
 },
 "nbformat": 4,
 "nbformat_minor": 2
}
