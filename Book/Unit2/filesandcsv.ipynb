{
 "cells": [
  {
   "cell_type": "markdown",
   "metadata": {},
   "source": [
    "<img style=\"float:right;height:400px;margin-right:30px;\" src=\"img/os_logos.png\" />\n",
    "\n",
    "# OS, Files, and CSV\n",
    "\n",
    "In this lecture we will cover\n",
    "\n",
    "* Operating Systems\n",
    "* Using Python to read\n",
    "  * Plain Text Files\n",
    "  * Comma Separated Value Files (CSV) \n",
    "    * spoiler this is  also plain text, but in a common format!\n",
    "\n",
    "## Opening Question\n",
    "\n",
    "\n",
    "\n",
    "What operating systems do you use\n",
    "* A. Linux (including Chromium / Chromebooks)\n",
    "* B. iOS \n",
    "* C. MacOS\n",
    "* D. Windows\n",
    "* E. Android\n",
    "\n",
    "\n",
    "### Your future in CS \n",
    "I used to include this on my slides, but since these slides have changed - going to just leave it up here for every notebook. I get a lot of questions about more programming courses, the concentrations, and minors in computer science. Here is a brief reminder.\n",
    "\n",
    "CS 164 – Next Course In Sequence, also consider CS 220 (math and stats especially) \n",
    "* CO Jobs Report 2021 – 77% of *all* new jobs in Colorado require programming\n",
    "* 60% of all STEM jobs requires *advanced* (200-300 level) \n",
    "* 31% of all Bachelor of Arts degree titled jobs also required coding skills \n",
    "* 2016 Report found on average jobs that require coding skills paid $22,000 more\n",
    "\n",
    "* Concentrations in CS:\n",
    "  * Computer science has a number of concentrations. \n",
    "    * [General concentration](https://catalog.colostate.edu/general-catalog/colleges/natural-sciences/computer-science/computer-science-major/computer-science-concentration/#requirementstext) is the most flexible, and even allows students to double major or minor pretty easily. \n",
    "    * [Software Engineering](https://catalog.colostate.edu/general-catalog/colleges/natural-sciences/computer-science/computer-science-major-software-engineering-concentration/)\n",
    "    * [Computing Systems](https://catalog.colostate.edu/general-catalog/colleges/natural-sciences/computer-science/computer-science-major-computing-systems-concentration/)\n",
    "    * [Human Centered Computing](https://catalog.colostate.edu/general-catalog/colleges/natural-sciences/computer-science/computer-science-major/human-centered-computing-concentration/)\n",
    "    * [Networks and Security](https://catalog.colostate.edu/general-catalog/colleges/natural-sciences/computer-science/computer-science-major-networks-security-concentration/)\n",
    "    * [Artificial Intelligence](https://catalog.colostate.edu/general-catalog/colleges/natural-sciences/computer-science/computer-science-major-artificial-intelligence-machine-learning-concentration/)\n",
    "    * Computer Science Education. \n",
    "  * Minors: \n",
    "    * [Minor in Computer Science](https://catalog.colostate.edu/general-catalog/colleges/natural-sciences/computer-science/computer-science-minor/) - choose your own adventure minor\n",
    "    * [Minor in Machine Learning](https://catalog.colostate.edu/general-catalog/colleges/natural-sciences/computer-science/machine-learning-minor/) - popular with stats/math, and engineering\n",
    "    * [Minor in Bioinformatics](https://catalog.colostate.edu/general-catalog/colleges/natural-sciences/computer-science/bioinformatics-minor/) - Biology + Computer Science\n"
   ]
  },
  {
   "cell_type": "markdown",
   "metadata": {},
   "source": [
    "## Operating Systems\n",
    "\n",
    "* You use them daily \n",
    "  * Most common OS in the world? \n",
    "  * Android \n",
    "    * Written in Java w/ Kotlin \n",
    "* They control\n",
    "  * Resources\n",
    "  * Hardware Interaction\n",
    "  * Devices \n",
    "  * Running applications, memory, etc\n",
    "  * Files! \n",
    "\n",
    "<img alt=\"directory structure\" style=\"width:500px;margin: auto auto;\" src=\"img/dir_structure.png\" />\n",
    "\n",
    "\n",
    "* Definition:\n",
    "  * Absolute Path - Path from the 'root' directory. \n",
    "    * /local/usr/bin/myfile.txt\n",
    "    * C:/users/lionheart/file.csv\n",
    "  * Relative Path - A path based on the current location\n",
    "    * myfile.txt\n",
    "    * somedirectory/myfile.txt\n",
    "    * Also:\n",
    "      * `..` - special character that means - go \"up/back\" one level\n",
    "      * ../myfile.txt (my file is located above the current directory)\n",
    "      * `.` - special character to say  current directory\n",
    "      * ./myfile.txt is the same as typing myfile.txt\n",
    "\n",
    "### For this class, everything we will do is:\n",
    "* Relative Directory paths\n",
    "* In Zybooks, we won't use directories at all, just the file names!\n",
    "* In lecture, I will often use directories to help keep my files sorted\n",
    "\n",
    "But how  do  we read files in Python? Let's look!\n"
   ]
  },
  {
   "cell_type": "code",
   "execution_count": 2,
   "metadata": {},
   "outputs": [
    {
     "name": "stdout",
     "output_type": "stream",
     "text": [
      "Last Air Bender\n",
      "Book 1: Water\n",
      "Book 2: Earth\n",
      "Book 3: Fire\n",
      "Legend of Korra\n",
      "Book 1: Air\n",
      "Book 2: Spirits\n",
      "Book 3: Change\n",
      "Book 4: Balance\n"
     ]
    }
   ],
   "source": [
    "f = open(\"data/avatar.txt\") # notice we set the 'open file' to a variable!\n",
    "content = f.read() # this dumps all the contents - as is - into a giant String!\n",
    "f.close() \n",
    "print(content)\n"
   ]
  },
  {
   "cell_type": "code",
   "execution_count": 8,
   "metadata": {},
   "outputs": [
    {
     "name": "stdout",
     "output_type": "stream",
     "text": [
      "['Last Air Bender\\n', 'Book 1: Water\\n', 'Book 2: Earth\\n', 'Book 3: Fire\\n', 'Legend of Korra\\n', 'Book 1: Air\\n', 'Book 2: Spirits\\n', 'Book 3: Change\\n', 'Book 4: Balance\\n']\n"
     ]
    }
   ],
   "source": [
    "with open(\"data/avatar.txt\") as f:  # more common. auto closes the file, stores file in f\n",
    "    contents = f.readlines() ## This loads each line individually into a  **list**\n",
    "print(contents)\n"
   ]
  },
  {
   "cell_type": "markdown",
   "metadata": {},
   "source": [
    "## In Class Activity:\n",
    "\n",
    "This activity is more about practicing loops! \n",
    "\n",
    "1. Execute the code above, and that will read a file into the `contents` variable as a list!\n",
    "2. Loop through (for loop!) the contents of the file. \n",
    "   1. Print out the lines  of the file, one on each line. \n",
    "      * Hint: .strip() removes the '\\n', so `line.strip()` if you named your for loop variable line\n",
    "   2. Bonus problem: Build a second list for \"Legend of Korra\" books!\n",
    "      * Hint: You will want a boolean variable to help you keep track of where you are in the list\n",
    "      * Don't worry if you don't get it! This will just help with lab later\n",
    "\n"
   ]
  },
  {
   "cell_type": "code",
   "execution_count": 9,
   "metadata": {},
   "outputs": [
    {
     "name": "stdout",
     "output_type": "stream",
     "text": [
      "['Book 1: Air', 'Book 2: Spirits', 'Book 3: Change', 'Book 4: Balance']\n"
     ]
    }
   ],
   "source": [
    "##  start your loop here, remember format of the for loop is \"for Variable in List:, so for line in contents:\" \n",
    "addIt = False\n",
    "korra = []\n",
    "for line in contents:\n",
    "    line = line.strip()\n",
    "    if addIt:\n",
    "        korra.append(line)\n",
    "    if line == \"Legend of Korra\":\n",
    "        addIt = True\n",
    "    \n",
    "print(korra)"
   ]
  },
  {
   "cell_type": "markdown",
   "metadata": {},
   "source": [
    "## Comma Separated Value (CSV) Files\n",
    "\n",
    "* A common data format is Comma Separated Values\n",
    "* Think about  Excel / Spreadsheets\n",
    "  * The underlining design is:\n",
    "  * flat data\n",
    "  * row / column format\n",
    "  * separated by commas\n",
    "\n",
    "In fact, on most operating systems, if you open a .CSV file, it will open in excel or other spreadsheet application. \n",
    "\n",
    "| Region | Animal | Counted |\n",
    "| - | - | - |\n",
    "| Forest | Fox | 3 |\n",
    "| Plains | Fox | 5 |\n",
    "| Desert | Fox | 2 |\n",
    "\n",
    "Is represented as:\n",
    "\n",
    "```csv\n",
    "Region,Animal,Counted\n",
    "Forest,Fox,3\n",
    "Plains,Fox,5\n",
    "Desert,Fox,2\n",
    "```\n",
    "The first row is often called a 'header' row, but completely optional.\n",
    "\n",
    "From a programming point of view, it is just Strings given meaning by the pattern. \n",
    "\n",
    "> **Pro Discussion:**  \n",
    "> CSV and JSON formatted files are  some of the most common formats to store data in for data analysis. \n",
    ">\n",
    "> Data is often flawed and needs fixed before running scripts on it!\n",
    "\n",
    "\n",
    "### In Python\n",
    "\n",
    "* Python has special utilities to handle CSV files!\n"
   ]
  },
  {
   "cell_type": "code",
   "execution_count": 11,
   "metadata": {},
   "outputs": [
    {
     "name": "stdout",
     "output_type": "stream",
     "text": [
      "['name', 'hp', 'ac', 'initiative']\n",
      "['zombie', '22', '8', '8']\n",
      "['zombie', '22', '8', '10']\n",
      "['skeleton', '13', '13', '12']\n",
      "['skeleton', '13', '12', '20']\n",
      "['kobold', '5', '12', '15']\n"
     ]
    }
   ],
   "source": [
    "import csv ## this is called an import statement, allows access to the CSV  library\n",
    "\n",
    "with open(\"data/mobs.csv\") as csvfile:\n",
    "    mobs = csv.reader(csvfile) \n",
    "    for mob in mobs:        \n",
    "        print(mob) #list including the header! (just a line)"
   ]
  },
  {
   "cell_type": "markdown",
   "metadata": {},
   "source": [
    "### In Class Activity\n",
    "\n",
    "Write code to read mobs.csv into a list structure, instead of just printing it.\n",
    "\n",
    "Hint: copy the code above, and modify it\n",
    "\n",
    "Hint: You should run the code first as is. Often the 'best' first step is just to print out what you know. "
   ]
  },
  {
   "cell_type": "code",
   "execution_count": 12,
   "metadata": {},
   "outputs": [
    {
     "name": "stdout",
     "output_type": "stream",
     "text": [
      "[['name', 'hp', 'ac', 'initiative'], ['zombie', '22', '8', '8'], ['zombie', '22', '8', '10'], ['skeleton', '13', '13', '12'], ['skeleton', '13', '12', '20'], ['kobold', '5', '12', '15']]\n"
     ]
    }
   ],
   "source": [
    "values = []\n",
    "with open(\"data/mobs.csv\") as csvfile:\n",
    "    mobs = csv.reader(csvfile) \n",
    "    for mob in mobs:        \n",
    "        values.append(mob) #list including the header! (just a line)   \n",
    "\n",
    "print(values)"
   ]
  },
  {
   "cell_type": "markdown",
   "metadata": {},
   "source": [
    "You will  notice the output of the above activity is a 'list of lists'. Now let's\n",
    "write a function that 'filters' that list!"
   ]
  },
  {
   "cell_type": "code",
   "execution_count": 15,
   "metadata": {},
   "outputs": [
    {
     "name": "stdout",
     "output_type": "stream",
     "text": [
      "[['zombie', '22', '8', '8'], ['zombie', '22', '8', '10']]\n",
      "[['skeleton', '13', '13', '12'], ['skeleton', '13', '12', '20']]\n"
     ]
    }
   ],
   "source": [
    "def filter_by_name(name, lst):\n",
    "    rtn = []\n",
    "    for item in lst:\n",
    "        if item[0] == name:\n",
    "            rtn.append(item)\n",
    "    return rtn\n",
    "\n",
    "zombies = filter_by_name(\"zombie\", values)\n",
    "skeleton = filter_by_name(\"skeleton\", values)\n",
    "\n",
    "print(zombies)\n",
    "print(skeleton)\n"
   ]
  },
  {
   "cell_type": "markdown",
   "metadata": {},
   "source": [
    "## Overview\n",
    "\n",
    "The code seems harder, but the goal is to keep it simple! We are layering ideas on top of each other, but the fundamentals are still true - divide-conquer-glue. \n",
    "\n",
    "Also - remember to practice! There are a bunch of practice labs in zyBooks! "
   ]
  }
 ],
 "metadata": {
  "interpreter": {
   "hash": "31f2aee4e71d21fbe5cf8b01ff0e069b9275f58929596ceb00d14d90e3e16cd6"
  },
  "kernelspec": {
   "display_name": "Python 3.8.2 64-bit",
   "language": "python",
   "name": "python3"
  },
  "language_info": {
   "codemirror_mode": {
    "name": "ipython",
    "version": 3
   },
   "file_extension": ".py",
   "mimetype": "text/x-python",
   "name": "python",
   "nbconvert_exporter": "python",
   "pygments_lexer": "ipython3",
   "version": "3.8.2"
  },
  "orig_nbformat": 4
 },
 "nbformat": 4,
 "nbformat_minor": 2
}
