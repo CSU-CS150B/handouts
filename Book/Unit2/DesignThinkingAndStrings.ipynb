{
 "cells": [
  {
   "cell_type": "markdown",
   "metadata": {},
   "source": [
    "# Design Thinking and String Manipulation\n",
    "\n",
    "Topics we will cover today:\n",
    "* String manipulation \n",
    "* Introduction to Design Thinking and Program Design\n",
    "\n",
    "### Your future in CS \n",
    "I used to include this on my slides, but since these slides have changed - going to just leave it up here for every notebook. I get a lot of questions about more programming courses, the concentrations, and minors in computer science. Here is a brief reminder.\n",
    "\n",
    "CS 164 – Next Course In Sequence, also consider CS 220 (math and stats especially) \n",
    "* CO Jobs Report 2021 – 77% of *all* new jobs in Colorado require programming\n",
    "* 60% of all STEM jobs requires *advanced* (200-300 level) \n",
    "* 31% of all Bachelor of Arts degree titled jobs also required coding skills \n",
    "* 2016 Report found on average jobs that require coding skills paid $22,000 more\n",
    "\n",
    "* Concentrations in CS:\n",
    "  * Computer science has a number of concentrations. \n",
    "    * [General concentration](https://catalog.colostate.edu/general-catalog/colleges/natural-sciences/computer-science/computer-science-major/computer-science-concentration/#requirementstext) is the most flexible, and even allows students to double major or minor pretty easily. \n",
    "    * [Software Engineering](https://catalog.colostate.edu/general-catalog/colleges/natural-sciences/computer-science/computer-science-major-software-engineering-concentration/)\n",
    "    * [Computing Systems](https://catalog.colostate.edu/general-catalog/colleges/natural-sciences/computer-science/computer-science-major-computing-systems-concentration/)\n",
    "    * [Human Centered Computing](https://catalog.colostate.edu/general-catalog/colleges/natural-sciences/computer-science/computer-science-major/human-centered-computing-concentration/)\n",
    "    * [Networks and Security](https://catalog.colostate.edu/general-catalog/colleges/natural-sciences/computer-science/computer-science-major-networks-security-concentration/)\n",
    "    * [Artificial Intelligence](https://catalog.colostate.edu/general-catalog/colleges/natural-sciences/computer-science/computer-science-major-artificial-intelligence-machine-learning-concentration/)\n",
    "    * Computer Science Education. \n",
    "  * Minors: \n",
    "    * [Minor in Computer Science](https://catalog.colostate.edu/general-catalog/colleges/natural-sciences/computer-science/computer-science-minor/) - choose your own adventure minor\n",
    "    * [Minor in Machine Learning](https://catalog.colostate.edu/general-catalog/colleges/natural-sciences/computer-science/machine-learning-minor/) - popular with stats/math, and engineering\n",
    "    * [Minor in Bioinformatics](https://catalog.colostate.edu/general-catalog/colleges/natural-sciences/computer-science/bioinformatics-minor/) - Biology + Computer Science\n"
   ]
  },
  {
   "cell_type": "markdown",
   "metadata": {},
   "source": [
    "# Strings\n",
    "\n",
    "* Are a sequence of characters.\n",
    "* Like all sequences (lists!) they have indices from 0 until length-1\n",
    "* Are immutable \n",
    "  * Fancy word to say, you can't modify a string, but you can get new strings from them!\n",
    "\n",
    "```python\n",
    "barbarian = \"conan the barbarian!\"\n",
    "```\n",
    "\n",
    "| c | o | n | a | n | | t | h | e | | b | a | r | b | a | r | i | a | n | ! |\n",
    "| - | - | - | - | - | - | - | - | - | - | - | - | - | - | - | - | - | - | - | - |\n",
    "| 0 | 1 | 2 | 3 | 4 | 5 | 6 | 7 | 8 | 9 | 10 | 11 | 12 | 13 | 14 | 16 | 17 | 18 | 19 | 21 |\n"
   ]
  },
  {
   "cell_type": "code",
   "execution_count": 2,
   "metadata": {},
   "outputs": [
    {
     "name": "stdout",
     "output_type": "stream",
     "text": [
      "conan\n"
     ]
    }
   ],
   "source": [
    "barbarian = \"conan the barbarian!\"\n",
    "first = barbarian[0:5]\n",
    "print(first)"
   ]
  },
  {
   "cell_type": "code",
   "execution_count": 5,
   "metadata": {},
   "outputs": [
    {
     "name": "stdout",
     "output_type": "stream",
     "text": [
      "conan the barbarian\n",
      "conan the barbarian\n"
     ]
    }
   ],
   "source": [
    "no_last = barbarian[:-1]  ## notice, we are storing the sliced string in a variable\n",
    "print(no_last)\n",
    "print(barbarian[:len(barbarian)-1]) #equivalent to above!"
   ]
  },
  {
   "cell_type": "code",
   "execution_count": 6,
   "metadata": {},
   "outputs": [
    {
     "name": "stdout",
     "output_type": "stream",
     "text": [
      "barbarian!\n",
      "barbarian!\n"
     ]
    }
   ],
   "source": [
    "barb = barbarian[-10:]\n",
    "print(barb)\n",
    "print(barbarian[len(barbarian)-10:]) #equivalent"
   ]
  },
  {
   "cell_type": "markdown",
   "metadata": {},
   "source": [
    "A few things to notice:\n",
    "\n",
    "* variable\\[start:end\\] - gives you the 'substring'\n",
    "  * start is inclusive / includes it\n",
    "  * end is exclusive / does not include it\n",
    "* if you omit start, it will assume 0\n",
    "* if you omit end, it will assume length-1\n",
    "* len(variable) - gives you the length of any sequence!\n",
    "  * yes, same command for lists\n",
    "\n"
   ]
  },
  {
   "cell_type": "markdown",
   "metadata": {},
   "source": [
    "## String Functions and Methods\n",
    "\n",
    "A method is a function that is 'attached' to a specific String.  The format for using them is:\n",
    "\n",
    "variable.method(parameters)\n",
    "\n",
    "For example:\n",
    "\n",
    "|k | a | y | a | k |\n",
    "| - | - | - | - | - |\n",
    "| 0 | 1 | 2 | 3 | 4 |"
   ]
  },
  {
   "cell_type": "code",
   "execution_count": 3,
   "metadata": {},
   "outputs": [
    {
     "name": "stdout",
     "output_type": "stream",
     "text": [
      "2\n",
      "-1\n",
      "3\n",
      "3\n"
     ]
    }
   ],
   "source": [
    "boat = \"kayak\"\n",
    "\n",
    "indexY = boat.find(\"y\")  # .find(str) returns the index location of string within the string\n",
    "print(indexY)\n",
    "\n",
    "indexA = boat.find(\"A\")\n",
    "print(indexA) ## woops, case matters! returns -1 if not found\n",
    "\n",
    "indexA2 = boat.find(\"a\", indexY) # start looking for a at or after position 2\n",
    "print(indexA2)\n",
    "\n",
    "print(boat.rfind(\"a\")) # rfind starts looking from the end, \"reverse find\""
   ]
  },
  {
   "cell_type": "code",
   "execution_count": 10,
   "metadata": {},
   "outputs": [
    {
     "name": "stdout",
     "output_type": "stream",
     "text": [
      "2\n"
     ]
    }
   ],
   "source": [
    "a_count = boat.count(\"a\")\n",
    "print(a_count)"
   ]
  },
  {
   "cell_type": "code",
   "execution_count": 13,
   "metadata": {},
   "outputs": [
    {
     "name": "stdout",
     "output_type": "stream",
     "text": [
      "kakak\n",
      "KAYAK\n",
      "kayak\n"
     ]
    }
   ],
   "source": [
    "sound = boat.replace(\"y\", \"k\")\n",
    "print(sound) #notice, replace doesn't modify boat, but returns a new string!\n",
    "\n",
    "boat_large = boat.upper() \n",
    "print(boat_large)\n",
    "\n",
    "print(boat_large.lower()) # both .upper() and .lower() are great for setting equivalent case before comparisons\n"
   ]
  },
  {
   "cell_type": "code",
   "execution_count": 4,
   "metadata": {},
   "outputs": [
    {
     "name": "stdout",
     "output_type": "stream",
     "text": [
      "True\n",
      "I am in the if statement\n"
     ]
    }
   ],
   "source": [
    "dont_talk = \"yak\" in boat \n",
    "print(dont_talk)\n",
    "\n",
    "if \"yak\" in boat:\n",
    "    print(\"I am in the if statement\")"
   ]
  },
  {
   "cell_type": "markdown",
   "metadata": {},
   "source": [
    "### in Operator\n",
    "\n",
    "Worth talking about. It checks to see if an item is **in** a sequence, and returns true or false\n",
    "\n",
    "* works on Strings to see if a string contains something (case matters!)\n",
    "* works in lists to see if a list contains an item!"
   ]
  },
  {
   "cell_type": "markdown",
   "metadata": {},
   "source": [
    "### Lists and Strings\n",
    "\n",
    "Both sequences, but it is common to want to 'convert' between them. \n",
    "\n",
    "We do that using `.split` and `.join`"
   ]
  },
  {
   "cell_type": "code",
   "execution_count": 16,
   "metadata": {},
   "outputs": [
    {
     "name": "stdout",
     "output_type": "stream",
     "text": [
      "['skeleton', '13', '12', '20']\n",
      "skeleton=>13=>12=>20\n"
     ]
    }
   ],
   "source": [
    "csv = \"skeleton,13,12,20\".split(\",\")\n",
    "print(csv) # it is now a list of strings!\n",
    "\n",
    "line = \"=>\".join(csv) # notation is odd, you call join on the string you want to join the list with\n",
    "\n",
    "print(line)"
   ]
  },
  {
   "cell_type": "markdown",
   "metadata": {},
   "source": [
    "### Exploiting Patterns\n",
    "\n",
    "* Why does this matter?\n",
    "* File formats are essentially \"patterns\" we exploit\n",
    "  * Why? Because it allows structure to exist\n",
    "  * We can use that structure\n",
    "* Being able to find and exploit patterns is extremely helpful \n",
    "  * Also a good way to look at the world\n",
    "\n",
    "#### File Format Example\n",
    "\n",
    "* HTML files are the basis of webpages\n",
    "* They have the pattern of\n",
    "  ```html\n",
    "   <h1>Header</h1>\n",
    "   <p>paragraph</p>\n",
    "   ```\n",
    "* Notice the \"markup\" is bracket with the type of info to display.\n",
    "* A web browser reads the file, and uses that set pattern to help it display the information. \n",
    "\n",
    "#### Data Example:\n",
    "\n",
    "Assume we have a file with the following information:\n",
    "\n",
    "```text\n",
    "Field One:pH=7.2,P2O5=23,K20=5,Ca=40,S=30,Lat=40.5853N,Lon=105.0844W;Field Two:K20=6,P2O5=23,pH=7.1,Ca=41,S=30,Lat=40.5852N,Lon=106.0844W\n",
    "```\n",
    "\n",
    "There is a pattern to this data/soil test. \n",
    "\n",
    "```text\n",
    "Field Identifier:stats separated by commas;Field Identifier:stats\n",
    "```\n",
    "Knowing this pattern I can use it to write a program that pulls up field information. \n"
   ]
  },
  {
   "cell_type": "code",
   "execution_count": 22,
   "metadata": {},
   "outputs": [
    {
     "name": "stdout",
     "output_type": "stream",
     "text": [
      "Field One:pH=7.2,P2O5=23,K20=5,Ca=40,S=30,Lat=40.5853N,Lon=105.0844W\n",
      "--\n",
      "Field One:pH=7.2,P2O5=23,K20=5,Ca=40,S=30,Lat=40.5853N,Lon=105.0844W\n",
      "Field Two:K20=6,P2O5=23,pH=7.1,Ca=41,S=30,Lat=40.5852N,Lon=106.0844W\n"
     ]
    }
   ],
   "source": [
    "sample=\"Field One:pH=7.2,P2O5=23,K20=5,Ca=40,S=30,Lat=40.5853N,Lon=105.0844W;Field Two:K20=6,P2O5=23,pH=7.1,Ca=41,S=30,Lat=40.5852N,Lon=106.0844W\"\n",
    "\n",
    "def getSingleSample(data, sampleId):\n",
    "    sampleStart = sample.find(sampleId)\n",
    "    sampleEnd = sample.find(\";\", sampleStart)\n",
    "    return data[sampleStart : sampleEnd]\n",
    "\n",
    "print(getSingleSample(sample, \"Field One\"))\n",
    "print(\"--\")\n",
    "## this is also a good case for a split\n",
    "all_samples = sample.split(\";\")\n",
    "\n",
    "for s in all_samples:\n",
    "    print(s)\n"
   ]
  },
  {
   "cell_type": "markdown",
   "metadata": {},
   "source": [
    "## Your Turn! (In Class Activity)\n",
    "\n",
    "Given the string below, complete the function that will return the grade for the course.\n",
    "\n",
    "For example:\n",
    "```python\n",
    "find_grade('Amy', 'cs164', data_str)\n",
    "```\n",
    "should return **A**\n",
    "\n",
    "Write the code in steps! \n",
    "* First see if you can convert the data_str to a lower case string, since case doesn't matter. \n",
    "  * Same with the other variables passed in\n",
    "* First see if you can find the String that Amy is the start, or Rory is the start\n",
    "  * print out the entire string\n",
    "  * ok, no see if you can find the class\n",
    "* continue taking it in steps, repeating until you solve it. \n",
    "\n",
    "\n",
    "As always, in class activities mean one programmer at the table, the rest **guide** the programmer."
   ]
  },
  {
   "cell_type": "code",
   "execution_count": 27,
   "metadata": {},
   "outputs": [
    {
     "name": "stdout",
     "output_type": "stream",
     "text": [
      "Amy's grade for CS164 is  A\n",
      "Rory's grade for CHEM107 is  A-\n"
     ]
    }
   ],
   "source": [
    "data_str = \"Amy:Classes=CHEM107(B),GEO120(C),CS164(A);Rory:classes=CS150B(B),CHEM107(A-),MATH151(B)\"\n",
    "\n",
    "def find_grade(student, course, data):\n",
    "    return None ## change this and insert code above\n",
    "    \n",
    "\n",
    "### these methods are optional, but using them helps you divide the problem up into smaller parts  \n",
    "# maybe try calling these functions in find grade, and print out the results to see what they do?  \n",
    "def find_course(course, data):\n",
    "    course_start = data.lower().find(course.lower())\n",
    "    course_end = data.find(\")\", course_start) +1\n",
    "    return data[course_start : course_end]\n",
    "\n",
    "\n",
    "def find_student(student, data):\n",
    "    dlower = data.lower()\n",
    "    info_start = dlower.find(student.lower())\n",
    "    info_end = dlower.find(\";\", info_start)\n",
    "    return data[info_start : info_end]\n",
    "\n",
    "print(\"Amy's grade for CS164 is \", find_grade('amy', 'cs164', data_str))\n",
    "print(\"Rory's grade for CHEM107 is \", find_grade('Rory', 'CHEM107', data_str))\n"
   ]
  },
  {
   "cell_type": "markdown",
   "metadata": {},
   "source": [
    "## Design Thinking\n",
    "\n",
    "* Software Engineering focuses on designing system to solve the problems\n",
    "  * Like architecture for but for software!\n",
    "* Design is at the heart of computer science\n",
    "  * Creative Design\n",
    "  * Dealing with large systems \n",
    "  * Problem solving is about designing solutions to those problems\n",
    "* Design Thinking\n",
    "  * User Centered Design\n",
    "  * Human-Centered Design \n",
    "  * Been around for ~40 years in Computer Science\n",
    "    * John Arnold 1959\n",
    "    * IDEO - 1990 coined term\n",
    "\n",
    "\n",
    "![Design Thinking](img/design_thinking.png)\n",
    "\n",
    "\n",
    "### Another way to look at it\n",
    "* Empathize - Find People\n",
    "* Define - Look for patterns\n",
    "* Ideate - Design principles and tasks\n",
    "* Prototype - Make tangible / code something\n",
    "* Test - Iterate Relentlessly \n",
    "\n",
    "This entire process repeats itself not only from the start, but also at each stage. \n"
   ]
  },
  {
   "cell_type": "markdown",
   "metadata": {},
   "source": [
    "## Practice\n",
    "\n",
    "* Take 4 minutes to define 6 challenges that are interesting to you. \n",
    "* 3 Dreams/Things you wish existed and 3 gripes/things that could be better (Challenges!)\n",
    "* Practice this on a regular basis\n",
    "\n",
    "\n",
    "\n",
    "> Alice laughed. “There’s no use trying,” she said: “one can’t believe impossible things.”  \n",
    "> I daresay you haven’t had much practice,” said the Queen. “When I was your age, I always did it for half-an-hour a day. Why, sometimes I’ve believed as many as six impossible things before breakfast.”  \n",
    "> \\- Alice in Wonderland\n"
   ]
  },
  {
   "cell_type": "markdown",
   "metadata": {},
   "source": [
    "### Next Steps\n",
    "\n",
    "* Emphasize \n",
    "  * Talk with others about your ideas\n",
    "  * Find **diverse** audiences to talk to\n",
    "    * Talking with your friends and family only introduces unconscious bias\n",
    "* Define\n",
    "  * Define your problem before you write code\n",
    "* Ideate \n",
    "  * Design your solution before you write code\n",
    "  * This can be a rough idea\n",
    "  * Map out your code on paper\n",
    "* Prototype\n",
    "  * Start writing!  \n",
    "* Reiterate\n",
    "  * It is alright to change it / make it incremental! "
   ]
  },
  {
   "cell_type": "markdown",
   "metadata": {},
   "source": [
    "### Defining Problems (and working with labs or other class assignments)\n",
    "\n",
    "* Defining problems is hard!\n",
    "  * The more iteration and empathize you do - the better! \n",
    "  * **Reframe as Questions**\n",
    "* Every Method, Every program, Every loop, You Write\n",
    "  * What is your quest?\n",
    "  * What do you know?\n",
    "  * What do you need?\n",
    "  * What can you figure out?\n"
   ]
  }
 ],
 "metadata": {
  "interpreter": {
   "hash": "31f2aee4e71d21fbe5cf8b01ff0e069b9275f58929596ceb00d14d90e3e16cd6"
  },
  "kernelspec": {
   "display_name": "Python 3.8.2 64-bit",
   "language": "python",
   "name": "python3"
  },
  "language_info": {
   "codemirror_mode": {
    "name": "ipython",
    "version": 3
   },
   "file_extension": ".py",
   "mimetype": "text/x-python",
   "name": "python",
   "nbconvert_exporter": "python",
   "pygments_lexer": "ipython3",
   "version": "3.10.2"
  },
  "orig_nbformat": 4
 },
 "nbformat": 4,
 "nbformat_minor": 2
}
